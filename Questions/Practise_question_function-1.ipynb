{
 "cells": [
  {
   "cell_type": "markdown",
   "id": "a79394b5",
   "metadata": {},
   "source": [
    "# Python Function\n",
    "Python Functions is a block of statements that return the specific task.\n",
    "\n",
    "The idea is to put some commonly or repeatedly done tasks together and make a function so that instead of writing the same code again and again for different inputs, we can do the function calls to reuse code contained in it over and over again."
   ]
  },
  {
   "cell_type": "markdown",
   "id": "96834e0a",
   "metadata": {},
   "source": [
    "## Question 1 . Defining and calling a function without parameter\n"
   ]
  },
  {
   "cell_type": "code",
   "execution_count": 4,
   "id": "d81b9df1",
   "metadata": {},
   "outputs": [
    {
     "data": {
      "text/plain": [
       "'Hellow world ! from adinth'"
      ]
     },
     "execution_count": 4,
     "metadata": {},
     "output_type": "execute_result"
    }
   ],
   "source": [
    "def helper():\n",
    "    return(\"Hellow world ! from adinth\")\n",
    "helper()"
   ]
  },
  {
   "cell_type": "markdown",
   "id": "5b31badc",
   "metadata": {},
   "source": [
    "## Question 2. Write a function to add two number and return the sum ."
   ]
  },
  {
   "cell_type": "code",
   "execution_count": 7,
   "id": "830a66f1",
   "metadata": {},
   "outputs": [
    {
     "data": {
      "text/plain": [
       "66"
      ]
     },
     "execution_count": 7,
     "metadata": {},
     "output_type": "execute_result"
    }
   ],
   "source": [
    "def add(a=4,b=5):\n",
    "    return a+b\n",
    "add(10,56)"
   ]
  },
  {
   "cell_type": "markdown",
   "id": "5da4bb6c",
   "metadata": {},
   "source": [
    "## Question 3. Write a fuction to find the given number is odd or even."
   ]
  },
  {
   "cell_type": "code",
   "execution_count": 23,
   "id": "c9d50253",
   "metadata": {},
   "outputs": [],
   "source": [
    "def hepler1(a=5):\n",
    "      if a%2==0:\n",
    "        return (\"number is even\")\n",
    "      else:\n",
    "        return (\"number is odd\")\n"
   ]
  },
  {
   "cell_type": "code",
   "execution_count": 24,
   "id": "3d614873",
   "metadata": {},
   "outputs": [
    {
     "data": {
      "text/plain": [
       "'number is odd'"
      ]
     },
     "execution_count": 24,
     "metadata": {},
     "output_type": "execute_result"
    }
   ],
   "source": [
    "hepler1()"
   ]
  },
  {
   "cell_type": "markdown",
   "id": "8e91f6cf",
   "metadata": {},
   "source": [
    "## Question 4. Write a fuction to find the maximum of three numbers."
   ]
  },
  {
   "cell_type": "code",
   "execution_count": 39,
   "id": "9aac4ac4",
   "metadata": {},
   "outputs": [],
   "source": [
    "def maxNum(a,b,c):\n",
    "    if(a>b):\n",
    "        if(a>c):\n",
    "            return a\n",
    "    elif(b>a):\n",
    "         if(b>c):\n",
    "            return b\n",
    "    else:\n",
    "            return c\n"
   ]
  },
  {
   "cell_type": "code",
   "execution_count": 41,
   "id": "a906328a",
   "metadata": {},
   "outputs": [],
   "source": [
    "maxNum(4,5,6)"
   ]
  },
  {
   "cell_type": "code",
   "execution_count": 43,
   "id": "f338946c",
   "metadata": {},
   "outputs": [
    {
     "data": {
      "text/plain": [
       "7"
      ]
     },
     "execution_count": 43,
     "metadata": {},
     "output_type": "execute_result"
    }
   ],
   "source": [
    "def maxNum(a,b,c):\n",
    "    if(a>b and a>c):\n",
    "        return a\n",
    "    elif(b>a and b>c):\n",
    "        return b\n",
    "    else:\n",
    "        return c\n",
    "maxNum(7,5,6)"
   ]
  },
  {
   "cell_type": "markdown",
   "id": "30e67512",
   "metadata": {},
   "source": [
    "##  Question 5. Write a function that accept a list and return the sum of all the element which is inside the same."
   ]
  },
  {
   "cell_type": "code",
   "execution_count": 44,
   "id": "b960ade5",
   "metadata": {},
   "outputs": [],
   "source": [
    "def sum1(list1=[1,2,4,6,5,6]):\n",
    "    sum=0;\n",
    "    for i in list1:\n",
    "        sum+=i\n",
    "    return sum"
   ]
  },
  {
   "cell_type": "code",
   "execution_count": 48,
   "id": "f30186d5",
   "metadata": {},
   "outputs": [
    {
     "data": {
      "text/plain": [
       "4487"
      ]
     },
     "execution_count": 48,
     "metadata": {},
     "output_type": "execute_result"
    }
   ],
   "source": [
    "sum1([4455,6,7,8,2,9])"
   ]
  },
  {
   "cell_type": "markdown",
   "id": "e4150951",
   "metadata": {},
   "source": [
    "## Question 6. Write a function that accept a number and return the table of the same"
   ]
  },
  {
   "cell_type": "code",
   "execution_count": 120,
   "id": "49feb2d7",
   "metadata": {},
   "outputs": [
    {
     "data": {
      "text/plain": [
       "[5, 10, 15, 20, 25, 30, 35, 40, 45, 50]"
      ]
     },
     "execution_count": 120,
     "metadata": {},
     "output_type": "execute_result"
    }
   ],
   "source": [
    "def table_of_n(n):\n",
    "    l=[]\n",
    "    for i in range(1,11):\n",
    "        l.append(i*n)\n",
    "    return l\n",
    "table_of_n(5)"
   ]
  },
  {
   "cell_type": "markdown",
   "id": "712cebf3",
   "metadata": {},
   "source": [
    "### Question 7. Write a function that counts number of vowel and consunants in a string/word."
   ]
  },
  {
   "cell_type": "code",
   "execution_count": 69,
   "id": "3c21fe3a",
   "metadata": {},
   "outputs": [
    {
     "data": {
      "text/plain": [
       "(3, 'and', 4)"
      ]
     },
     "execution_count": 69,
     "metadata": {},
     "output_type": "execute_result"
    }
   ],
   "source": [
    "def vowel(s):\n",
    "    vow=0\n",
    "    cons=0\n",
    "    for i in s:\n",
    "        if i in (\"AEIOUaeiou\"):\n",
    "            vow+=1\n",
    "        else:\n",
    "            cons+=1\n",
    "    return (vow,\"and\" ,cons)\n",
    "vowel(\"adinath\")"
   ]
  },
  {
   "cell_type": "markdown",
   "id": "e1af73c0",
   "metadata": {},
   "source": [
    "### Question 8. Write a function that accepts a string and return reverse of the same string.\n"
   ]
  },
  {
   "cell_type": "code",
   "execution_count": 72,
   "id": "2e6062e1",
   "metadata": {},
   "outputs": [
    {
     "data": {
      "text/plain": [
       "'htanida'"
      ]
     },
     "execution_count": 72,
     "metadata": {},
     "output_type": "execute_result"
    }
   ],
   "source": [
    " def reverse(s):\n",
    "        revStr=\"\"\n",
    "        for i in range(len(s)-1,-1,-1):\n",
    "            revStr+=s[i]\n",
    "        return revStr\n",
    "reverse(\"adinath\")"
   ]
  },
  {
   "cell_type": "markdown",
   "id": "744c9ed5",
   "metadata": {},
   "source": [
    "### Question 9. Write a function that accepts a number and returns the factorial of the same."
   ]
  },
  {
   "cell_type": "code",
   "execution_count": 80,
   "id": "964b4f85",
   "metadata": {},
   "outputs": [
    {
     "data": {
      "text/plain": [
       "'factorial of negative number is not exits'"
      ]
     },
     "execution_count": 80,
     "metadata": {},
     "output_type": "execute_result"
    }
   ],
   "source": [
    "def fact(n):\n",
    "    mul=1\n",
    "    if n<0:\n",
    "        return (\"factorial of negative number is not exits\")\n",
    "    elif n==0:\n",
    "        return (\"factorial of 0 is 1\")\n",
    "    else:\n",
    "        for i in range(1,n+1):\n",
    "             mul*=i\n",
    "    return mul\n",
    "fact(-5)"
   ]
  },
  {
   "cell_type": "markdown",
   "id": "418e0921",
   "metadata": {},
   "source": [
    "###  Question 10. Write a Python function that takes a list and returns a new list with unique elements of the first list.\n"
   ]
  },
  {
   "cell_type": "code",
   "execution_count": 81,
   "id": "6306d66b",
   "metadata": {},
   "outputs": [
    {
     "data": {
      "text/plain": [
       "[1, 2, 4, 5, 6, 7, 8]"
      ]
     },
     "execution_count": 81,
     "metadata": {},
     "output_type": "execute_result"
    }
   ],
   "source": [
    "def unique(lst=[1,2,2,4,5,5,6,6,7,7,8]):\n",
    "    x=set(lst)\n",
    "    return list(x)\n",
    "unique()"
   ]
  },
  {
   "cell_type": "code",
   "execution_count": 82,
   "id": "a0bab68a",
   "metadata": {},
   "outputs": [
    {
     "data": {
      "text/plain": [
       "[1, 22, 2, 3, 4, 52, 23]"
      ]
     },
     "execution_count": 82,
     "metadata": {},
     "output_type": "execute_result"
    }
   ],
   "source": [
    "def unique(lst=[1,22,2,3,4,52,2,2,23,1,1,]):\n",
    "    l=[]\n",
    "    for i in lst:\n",
    "        if i not in l:\n",
    "            l.append(i)\n",
    "        else:\n",
    "            continue\n",
    "    return l\n",
    "unique()"
   ]
  },
  {
   "cell_type": "code",
   "execution_count": null,
   "id": "0f33f9d1",
   "metadata": {},
   "outputs": [],
   "source": []
  },
  {
   "cell_type": "markdown",
   "id": "a9df4a53",
   "metadata": {},
   "source": [
    "### Question 11. Write a program to print twin primes less than 1000. If two consecutive odd numbers are both prime then they are known as twin primes"
   ]
  },
  {
   "cell_type": "code",
   "execution_count": 122,
   "id": "6772ed77",
   "metadata": {},
   "outputs": [
    {
     "data": {
      "text/plain": [
       "['number 3 and 5 are prime number',\n",
       " 'number 5 and 7 are prime number',\n",
       " 'number 11 and 13 are prime number',\n",
       " 'number 17 and 19 are prime number',\n",
       " 'number 29 and 31 are prime number',\n",
       " 'number 41 and 43 are prime number',\n",
       " 'number 59 and 61 are prime number',\n",
       " 'number 71 and 73 are prime number',\n",
       " 'number 101 and 103 are prime number',\n",
       " 'number 107 and 109 are prime number',\n",
       " 'number 137 and 139 are prime number',\n",
       " 'number 149 and 151 are prime number',\n",
       " 'number 179 and 181 are prime number',\n",
       " 'number 191 and 193 are prime number',\n",
       " 'number 197 and 199 are prime number',\n",
       " 'number 227 and 229 are prime number',\n",
       " 'number 239 and 241 are prime number',\n",
       " 'number 269 and 271 are prime number',\n",
       " 'number 281 and 283 are prime number',\n",
       " 'number 311 and 313 are prime number',\n",
       " 'number 347 and 349 are prime number',\n",
       " 'number 419 and 421 are prime number',\n",
       " 'number 431 and 433 are prime number',\n",
       " 'number 461 and 463 are prime number',\n",
       " 'number 521 and 523 are prime number',\n",
       " 'number 569 and 571 are prime number',\n",
       " 'number 599 and 601 are prime number',\n",
       " 'number 617 and 619 are prime number',\n",
       " 'number 641 and 643 are prime number',\n",
       " 'number 659 and 661 are prime number',\n",
       " 'number 809 and 811 are prime number',\n",
       " 'number 821 and 823 are prime number',\n",
       " 'number 827 and 829 are prime number',\n",
       " 'number 857 and 859 are prime number',\n",
       " 'number 881 and 883 are prime number']"
      ]
     },
     "execution_count": 122,
     "metadata": {},
     "output_type": "execute_result"
    }
   ],
   "source": [
    "def Prime(n):\n",
    "    for i in range(2,n):\n",
    "        if n%i==0:\n",
    "            return False\n",
    "    return True\n",
    "\n",
    "def twinsPrime(max_num):\n",
    "    l=[]\n",
    "    for firstNum in range(2,max_num):\n",
    "        secondNum=firstNum+2\n",
    "        if(Prime(firstNum) and Prime(secondNum)):\n",
    "             l.append(f\"number {firstNum} and {secondNum} are prime number\")\n",
    "        else:\n",
    "            continue\n",
    "    return l\n",
    "twinsPrime(1000)\n"
   ]
  },
  {
   "cell_type": "code",
   "execution_count": 129,
   "id": "2583d9e0",
   "metadata": {},
   "outputs": [
    {
     "data": {
      "text/plain": [
       "[' 3 and 5',\n",
       " ' 5 and 7',\n",
       " ' 11 and 13',\n",
       " ' 17 and 19',\n",
       " ' 29 and 31',\n",
       " ' 41 and 43',\n",
       " ' 59 and 61',\n",
       " ' 71 and 73',\n",
       " ' 101 and 103',\n",
       " ' 107 and 109',\n",
       " ' 137 and 139',\n",
       " ' 149 and 151',\n",
       " ' 179 and 181',\n",
       " ' 191 and 193',\n",
       " ' 197 and 199',\n",
       " ' 227 and 229',\n",
       " ' 239 and 241',\n",
       " ' 269 and 271',\n",
       " ' 281 and 283',\n",
       " ' 311 and 313',\n",
       " ' 347 and 349',\n",
       " ' 419 and 421',\n",
       " ' 431 and 433',\n",
       " ' 461 and 463',\n",
       " ' 521 and 523',\n",
       " ' 569 and 571',\n",
       " ' 599 and 601',\n",
       " ' 617 and 619',\n",
       " ' 641 and 643',\n",
       " ' 659 and 661',\n",
       " ' 809 and 811',\n",
       " ' 821 and 823',\n",
       " ' 827 and 829',\n",
       " ' 857 and 859',\n",
       " ' 881 and 883']"
      ]
     },
     "execution_count": 129,
     "metadata": {},
     "output_type": "execute_result"
    }
   ],
   "source": [
    "def checkPrime(max_num):\n",
    "    for num in range (2, max_num):\n",
    "        if max_num % num == 0:\n",
    "            return False\n",
    "    return True\n",
    "\n",
    "def twinPrime(max_num):\n",
    "    l=[]\n",
    "    for first_num in range(2, max_num):\n",
    "        second_num = first_num + 2\n",
    "        if (checkPrime(first_num) and checkPrime(second_num)):\n",
    "            l.append(\" {0} and {1}\".format(first_num, second_num))\n",
    "        else:\n",
    "            continue\n",
    "    return l\n",
    "twinPrime(1000)"
   ]
  },
  {
   "cell_type": "markdown",
   "id": "a88ed3ad",
   "metadata": {},
   "source": [
    "### Question 11. Write a Python program to print the even numbers from a given list"
   ]
  },
  {
   "cell_type": "code",
   "execution_count": 103,
   "id": "9799b70a",
   "metadata": {},
   "outputs": [
    {
     "data": {
      "text/plain": [
       "[2, 4]"
      ]
     },
     "execution_count": 103,
     "metadata": {},
     "output_type": "execute_result"
    }
   ],
   "source": [
    "def evenNum(lst=[1,2,3,4,5,5,5]):\n",
    "    l=[]\n",
    "    for i in lst:\n",
    "        if i%2==0:\n",
    "            l.append(i)\n",
    "        else:\n",
    "            continue\n",
    "    return l\n",
    "evenNum()\n",
    "    "
   ]
  },
  {
   "cell_type": "markdown",
   "id": "209b24de",
   "metadata": {},
   "source": [
    "### Question 12. Write a Python program to print the odd numbers from a given list"
   ]
  },
  {
   "cell_type": "code",
   "execution_count": 104,
   "id": "14175d87",
   "metadata": {},
   "outputs": [
    {
     "data": {
      "text/plain": [
       "[1, 3, 5, 5, 5]"
      ]
     },
     "execution_count": 104,
     "metadata": {},
     "output_type": "execute_result"
    }
   ],
   "source": [
    "def oddNum(lst=[1,2,3,4,5,5,5]):\n",
    "    l=[]\n",
    "    for i in lst:\n",
    "        if i%2==1:\n",
    "            l.append(i)\n",
    "        else:\n",
    "            continue\n",
    "    return l\n",
    "oddNum()"
   ]
  },
  {
   "cell_type": "markdown",
   "id": "b6c53e1b",
   "metadata": {},
   "source": [
    "### Question 13. Write a Python function that checks whether a passed string is palindrome or not."
   ]
  },
  {
   "cell_type": "code",
   "execution_count": 110,
   "id": "bf39e4a6",
   "metadata": {},
   "outputs": [
    {
     "data": {
      "text/plain": [
       "True"
      ]
     },
     "execution_count": 110,
     "metadata": {},
     "output_type": "execute_result"
    }
   ],
   "source": [
    "def checkpalodrom(s):\n",
    "    f=0;\n",
    "    l=len(s)-1;\n",
    "    while(f<l):\n",
    "        if(s[f]!=s[l]):\n",
    "            return False\n",
    "        f+=1;\n",
    "        l-=1;\n",
    "    return True\n",
    "checkpalodrom(\"abba\")\n"
   ]
  },
  {
   "cell_type": "markdown",
   "id": "d8f18cec",
   "metadata": {},
   "source": [
    "### Question 14. Write a program to create a recursive function to calculate the sum of numbers from 0 to 10."
   ]
  },
  {
   "cell_type": "code",
   "execution_count": 115,
   "id": "0b6dbc61",
   "metadata": {},
   "outputs": [
    {
     "ename": "TypeError",
     "evalue": "recursiveFun() takes 1 positional argument but 2 were given",
     "output_type": "error",
     "traceback": [
      "\u001b[1;31m---------------------------------------------------------------------------\u001b[0m",
      "\u001b[1;31mTypeError\u001b[0m                                 Traceback (most recent call last)",
      "Cell \u001b[1;32mIn[115], line 5\u001b[0m\n\u001b[0;32m      3\u001b[0m         \u001b[38;5;28;01mreturn\u001b[39;00m \u001b[38;5;241m0\u001b[39m\n\u001b[0;32m      4\u001b[0m     \u001b[38;5;28;01mreturn\u001b[39;00m n\u001b[38;5;241m+\u001b[39mrecursiveFun(n\u001b[38;5;241m-\u001b[39m\u001b[38;5;241m1\u001b[39m)\n\u001b[1;32m----> 5\u001b[0m recursiveFun(\u001b[38;5;241m6\u001b[39m,\u001b[38;5;241m0\u001b[39m)\n",
      "\u001b[1;31mTypeError\u001b[0m: recursiveFun() takes 1 positional argument but 2 were given"
     ]
    }
   ],
   "source": [
    "def recursiveFun(n):\n",
    "    if n==0:\n",
    "        return 0\n",
    "    return n+recursiveFun(n-1)\n",
    "recursiveFun(6,0)  "
   ]
  },
  {
   "cell_type": "markdown",
   "id": "2f707104",
   "metadata": {},
   "source": [
    "### Question 15. Write a Python function that accepts a string and calculate the number of upper case letters and lower case letters"
   ]
  },
  {
   "cell_type": "code",
   "execution_count": 118,
   "id": "4383b5a5",
   "metadata": {},
   "outputs": [
    {
     "data": {
      "text/plain": [
       "'lower 4 ans 3'"
      ]
     },
     "execution_count": 118,
     "metadata": {},
     "output_type": "execute_result"
    }
   ],
   "source": [
    "def lowerupper(s):\n",
    "    upper=0;\n",
    "    lower=0;\n",
    "    for i in s:\n",
    "        if i.isupper():\n",
    "            upper+=1 \n",
    "        else:\n",
    "            lower+=1\n",
    "    return (f\"lower {lower} ans {upper}\")\n",
    "\n",
    "lowerupper(\"AdInAth\")           "
   ]
  },
  {
   "cell_type": "code",
   "execution_count": null,
   "id": "06ab700f",
   "metadata": {},
   "outputs": [],
   "source": []
  }
 ],
 "metadata": {
  "kernelspec": {
   "display_name": "Python 3 (ipykernel)",
   "language": "python",
   "name": "python3"
  },
  "language_info": {
   "codemirror_mode": {
    "name": "ipython",
    "version": 3
   },
   "file_extension": ".py",
   "mimetype": "text/x-python",
   "name": "python",
   "nbconvert_exporter": "python",
   "pygments_lexer": "ipython3",
   "version": "3.11.5"
  }
 },
 "nbformat": 4,
 "nbformat_minor": 5
}
