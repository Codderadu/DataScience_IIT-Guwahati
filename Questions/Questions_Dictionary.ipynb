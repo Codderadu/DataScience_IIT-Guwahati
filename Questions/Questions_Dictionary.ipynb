{
 "cells": [
  {
   "cell_type": "markdown",
   "id": "de0652a8",
   "metadata": {},
   "source": [
    "### 1.Write a Python program to Convert two lists into a dictionary."
   ]
  },
  {
   "cell_type": "code",
   "execution_count": 1,
   "id": "286b7bb0",
   "metadata": {},
   "outputs": [],
   "source": [
    "lst1=[1,2,3,4,5]\n",
    "lst2=[\"adinath\",\"khamkar\",\"gurunath\",\"namdev\",\"khmaka=e\"]"
   ]
  },
  {
   "cell_type": "code",
   "execution_count": 2,
   "id": "950082a9",
   "metadata": {},
   "outputs": [],
   "source": [
    "d=dict(zip(lst1,lst2))"
   ]
  },
  {
   "cell_type": "code",
   "execution_count": 3,
   "id": "aa666ccc",
   "metadata": {},
   "outputs": [
    {
     "data": {
      "text/plain": [
       "{1: 'adinath', 2: 'khamkar', 3: 'gurunath', 4: 'namdev', 5: 'khmaka=e'}"
      ]
     },
     "execution_count": 3,
     "metadata": {},
     "output_type": "execute_result"
    }
   ],
   "source": [
    "d"
   ]
  },
  {
   "cell_type": "markdown",
   "id": "02e3c2be",
   "metadata": {},
   "source": [
    "### 2. Write a Python program to add a key to a dictionary."
   ]
  },
  {
   "cell_type": "code",
   "execution_count": 10,
   "id": "2ea0c4d9",
   "metadata": {},
   "outputs": [
    {
     "data": {
      "text/plain": [
       "{1: 'adinath', 2: 'grununath', 3: 'khamkar', 4: 'afffffffg'}"
      ]
     },
     "execution_count": 10,
     "metadata": {},
     "output_type": "execute_result"
    }
   ],
   "source": [
    "d={1:\"adinath\",2:\"grununath\",3:\"khamkar\"}\n",
    "d[4]=\"asdf\"\n",
    "d.update({4:\"afffffffg\"})\n",
    "d"
   ]
  },
  {
   "cell_type": "markdown",
   "id": "c9bc9ddc",
   "metadata": {},
   "source": [
    "### 3. Write a Python program to Merge two Python dictionaries into one. (or) Write a Python program to concatenate two dictionaries to create a new one."
   ]
  },
  {
   "cell_type": "code",
   "execution_count": 15,
   "id": "54ac5daa",
   "metadata": {},
   "outputs": [],
   "source": [
    "d1={1:\"adinath\",2:\"gurunath\"}\n",
    "d2={1:\"khamkar\"}\n",
    "d1.update(d2)"
   ]
  },
  {
   "cell_type": "code",
   "execution_count": 16,
   "id": "a848828d",
   "metadata": {},
   "outputs": [
    {
     "data": {
      "text/plain": [
       "{1: 'khamkar', 2: 'gurunath'}"
      ]
     },
     "execution_count": 16,
     "metadata": {},
     "output_type": "execute_result"
    }
   ],
   "source": [
    "d1"
   ]
  },
  {
   "cell_type": "markdown",
   "id": "6f0af568",
   "metadata": {},
   "source": [
    "### 4. Write a python program to Print the value of key ‘history’ from the below dict.\n",
    "### Dict = {\"class\": {\"student\": {\"name\": \"Mike\",\"marks\": {\"physics\": 70,\"history\": 80}}}}"
   ]
  },
  {
   "cell_type": "code",
   "execution_count": 17,
   "id": "0bf3f38e",
   "metadata": {},
   "outputs": [],
   "source": [
    "Dict = {\"class\": {\"student\": {\"name\": \"Mike\",\"marks\": {\"physics\": 70,\"history\": 80}}}}"
   ]
  },
  {
   "cell_type": "code",
   "execution_count": 22,
   "id": "2e7990e9",
   "metadata": {},
   "outputs": [
    {
     "data": {
      "text/plain": [
       "80"
      ]
     },
     "execution_count": 22,
     "metadata": {},
     "output_type": "execute_result"
    }
   ],
   "source": [
    "Dict[\"class\"][\"student\"][\"marks\"][\"history\"]"
   ]
  },
  {
   "cell_type": "markdown",
   "id": "685e9ace",
   "metadata": {},
   "source": [
    "\n",
    "### 5. Write a python program to Delete a list of keys from a dictionary."
   ]
  },
  {
   "cell_type": "code",
   "execution_count": 23,
   "id": "70434192",
   "metadata": {},
   "outputs": [],
   "source": [
    "dict= {'Maruti': 2018, 'Ford': 2019, 'Mahindra': 2022, 'Apple': 30, 'Mango': 40, 'Banana': 50}\n",
    "list=['Mahindra','Mango']\n",
    "for i in list:\n",
    "    if i in list:\n",
    "        dict.pop(i)"
   ]
  },
  {
   "cell_type": "code",
   "execution_count": 24,
   "id": "0b6d70e3",
   "metadata": {},
   "outputs": [
    {
     "data": {
      "text/plain": [
       "{'Maruti': 2018, 'Ford': 2019, 'Apple': 30, 'Banana': 50}"
      ]
     },
     "execution_count": 24,
     "metadata": {},
     "output_type": "execute_result"
    }
   ],
   "source": [
    "dict"
   ]
  },
  {
   "cell_type": "markdown",
   "id": "8e9352af",
   "metadata": {},
   "source": [
    "### 6. Write a python program to check if a Key is exists in a dictionary.\n"
   ]
  },
  {
   "cell_type": "code",
   "execution_count": 26,
   "id": "4a1d1610",
   "metadata": {},
   "outputs": [
    {
     "name": "stdout",
     "output_type": "stream",
     "text": [
      "No\n"
     ]
    }
   ],
   "source": [
    "dict= {'Maruti': 2018, 'Ford': 2019, 'Mahindra': 2022, 'Apple': 30, 'Mango': 40, 'Banana': 50}\n",
    "def checkkey(x):\n",
    "    if x in dict:\n",
    "        print(\"yess\")\n",
    "    else:\n",
    "        print(\"No\")\n",
    "checkkey('Marutiw')"
   ]
  },
  {
   "cell_type": "markdown",
   "id": "6a626600",
   "metadata": {},
   "source": [
    "### 7. Write a Python script to generate and print a dictionary that contains a number (between 1 and n) in the form (x, x*x)."
   ]
  },
  {
   "cell_type": "code",
   "execution_count": 27,
   "id": "f6739e9d",
   "metadata": {},
   "outputs": [],
   "source": [
    "d={}\n",
    "for i in range(1,10):\n",
    "    d[i]=i*i"
   ]
  },
  {
   "cell_type": "code",
   "execution_count": 39,
   "id": "07da8bb8",
   "metadata": {},
   "outputs": [
    {
     "ename": "KeyError",
     "evalue": "1",
     "output_type": "error",
     "traceback": [
      "\u001b[1;31m---------------------------------------------------------------------------\u001b[0m",
      "\u001b[1;31mKeyError\u001b[0m                                  Traceback (most recent call last)",
      "Cell \u001b[1;32mIn[39], line 1\u001b[0m\n\u001b[1;32m----> 1\u001b[0m \u001b[38;5;28;01mdel\u001b[39;00m d[\u001b[38;5;241m1\u001b[39m]\n\u001b[0;32m      2\u001b[0m d\n",
      "\u001b[1;31mKeyError\u001b[0m: 1"
     ]
    }
   ],
   "source": [
    "del d[1]\n"
   ]
  },
  {
   "cell_type": "markdown",
   "id": "cbd520b4",
   "metadata": {},
   "source": [
    "### 8. Write a Python program to sum all the items in a dictionary."
   ]
  },
  {
   "cell_type": "code",
   "execution_count": 37,
   "id": "3285441b",
   "metadata": {},
   "outputs": [
    {
     "ename": "AttributeError",
     "evalue": "'int' object has no attribute 'values'",
     "output_type": "error",
     "traceback": [
      "\u001b[1;31m---------------------------------------------------------------------------\u001b[0m",
      "\u001b[1;31mAttributeError\u001b[0m                            Traceback (most recent call last)",
      "Cell \u001b[1;32mIn[37], line 8\u001b[0m\n\u001b[0;32m      6\u001b[0m         sm\u001b[38;5;241m+\u001b[39m\u001b[38;5;241m=\u001b[39mi\u001b[38;5;241m.\u001b[39mvalues()\n\u001b[0;32m      7\u001b[0m     \u001b[38;5;28;01mreturn\u001b[39;00m sm\n\u001b[1;32m----> 8\u001b[0m dum(d)\n",
      "Cell \u001b[1;32mIn[37], line 6\u001b[0m, in \u001b[0;36mdum\u001b[1;34m(s)\u001b[0m\n\u001b[0;32m      4\u001b[0m sm\u001b[38;5;241m=\u001b[39m\u001b[38;5;241m0\u001b[39m;\n\u001b[0;32m      5\u001b[0m \u001b[38;5;28;01mfor\u001b[39;00m i \u001b[38;5;129;01min\u001b[39;00m s:\n\u001b[1;32m----> 6\u001b[0m     sm\u001b[38;5;241m+\u001b[39m\u001b[38;5;241m=\u001b[39mi\u001b[38;5;241m.\u001b[39mvalues()\n\u001b[0;32m      7\u001b[0m \u001b[38;5;28;01mreturn\u001b[39;00m sm\n",
      "\u001b[1;31mAttributeError\u001b[0m: 'int' object has no attribute 'values'"
     ]
    }
   ],
   "source": [
    "sum(d.values())\n",
    "\n",
    "def dum(s):\n",
    "    sm=0;\n",
    "    for i in s:\n",
    "        sm+=i.values()\n",
    "    return sm\n",
    "dum(d)"
   ]
  },
  {
   "cell_type": "markdown",
   "id": "0444cac0",
   "metadata": {},
   "source": [
    "### 9. Write a Python program to remove a key from a dictionary."
   ]
  },
  {
   "cell_type": "code",
   "execution_count": 42,
   "id": "adf316c6",
   "metadata": {},
   "outputs": [],
   "source": [
    "del d[5]"
   ]
  },
  {
   "cell_type": "code",
   "execution_count": 43,
   "id": "3e3e0c66",
   "metadata": {},
   "outputs": [
    {
     "data": {
      "text/plain": [
       "{2: 4, 3: 9, 4: 16, 6: 36, 7: 49, 8: 64, 9: 81}"
      ]
     },
     "execution_count": 43,
     "metadata": {},
     "output_type": "execute_result"
    }
   ],
   "source": [
    "d"
   ]
  },
  {
   "cell_type": "markdown",
   "id": "b36acd0b",
   "metadata": {},
   "source": [
    "### 10.Write a Python program to sort a given dictionary by key."
   ]
  },
  {
   "cell_type": "code",
   "execution_count": 56,
   "id": "3b50bd82",
   "metadata": {},
   "outputs": [
    {
     "ename": "TypeError",
     "evalue": "'dict' object is not callable",
     "output_type": "error",
     "traceback": [
      "\u001b[1;31m---------------------------------------------------------------------------\u001b[0m",
      "\u001b[1;31mTypeError\u001b[0m                                 Traceback (most recent call last)",
      "Cell \u001b[1;32mIn[56], line 3\u001b[0m\n\u001b[0;32m      1\u001b[0m \u001b[38;5;28;01mdef\u001b[39;00m \u001b[38;5;21msort_dict_by_key\u001b[39m(d, reverse \u001b[38;5;241m=\u001b[39m \u001b[38;5;28;01mFalse\u001b[39;00m):\n\u001b[0;32m      2\u001b[0m     \u001b[38;5;28;01mreturn\u001b[39;00m \u001b[38;5;28mdict\u001b[39m(\u001b[38;5;28msorted\u001b[39m(d\u001b[38;5;241m.\u001b[39mitems(), reverse \u001b[38;5;241m=\u001b[39m reverse))\n\u001b[1;32m----> 3\u001b[0m sort(d)\n",
      "Cell \u001b[1;32mIn[55], line 2\u001b[0m, in \u001b[0;36msort\u001b[1;34m(d)\u001b[0m\n\u001b[0;32m      1\u001b[0m \u001b[38;5;28;01mdef\u001b[39;00m \u001b[38;5;21msort\u001b[39m(d):\n\u001b[1;32m----> 2\u001b[0m     \u001b[38;5;28;01mreturn\u001b[39;00m \u001b[38;5;28mdict\u001b[39m(\u001b[38;5;28msorted\u001b[39m(d\u001b[38;5;241m.\u001b[39mitems(),reverse\u001b[38;5;241m=\u001b[39m\u001b[38;5;28;01mTrue\u001b[39;00m))\n",
      "\u001b[1;31mTypeError\u001b[0m: 'dict' object is not callable"
     ]
    }
   ],
   "source": [
    "def sort_dict_by_key(d, reverse = False):\n",
    "    return dict(sorted(d.items(), reverse = reverse))\n",
    "sort(d)"
   ]
  },
  {
   "cell_type": "markdown",
   "id": "7f5e553e",
   "metadata": {},
   "source": [
    "### 11. Write a Python program to get the maximum and minimum value in a dictionary."
   ]
  },
  {
   "cell_type": "code",
   "execution_count": 59,
   "id": "f3efa78a",
   "metadata": {},
   "outputs": [
    {
     "data": {
      "text/plain": [
       "500"
      ]
     },
     "execution_count": 59,
     "metadata": {},
     "output_type": "execute_result"
    }
   ],
   "source": [
    "my_dict = {'x':500, 'y':5874, 'z': 560}\n",
    "maxValue=max(my_dict.values())\n",
    "minValue=min(my_dict.values())\n",
    "maxValue\n",
    "minValue"
   ]
  },
  {
   "cell_type": "markdown",
   "id": "7b0dd6dc",
   "metadata": {},
   "source": [
    "### 12. Write a Python program to remove duplicates from Dictionary."
   ]
  },
  {
   "cell_type": "code",
   "execution_count": 72,
   "id": "e3cc6719",
   "metadata": {},
   "outputs": [
    {
     "data": {
      "text/plain": [
       "{'Maruti': 2018,\n",
       " 'Ford': 2019,\n",
       " 'Mahindra': 2022,\n",
       " 'Apple': 30,\n",
       " 'Mango': 40,\n",
       " 'Banana': 50}"
      ]
     },
     "execution_count": 72,
     "metadata": {},
     "output_type": "execute_result"
    }
   ],
   "source": [
    "dict= {'Maruti': 2018, 'Ford': 2019, 'Mahindra': 2022, 'Apple': 30, 'Mango': 40, 'Banana': 50, 'Mango1': 40,\"grip\":40}\n",
    "\n",
    "def removeDuplicate(dict):\n",
    "    d={}\n",
    "    for i,j in dict.items():\n",
    "        if j not in d.values():\n",
    "            d[i]=j\n",
    "        else:\n",
    "            continue\n",
    "    return d\n",
    "removeDuplicate(dict)"
   ]
  },
  {
   "cell_type": "code",
   "execution_count": 69,
   "id": "a8ea9361",
   "metadata": {},
   "outputs": [],
   "source": [
    "dict= {'Maruti': 2018, 'Ford': 2019, 'Mahindra': 2022, 'Apple': 30, 'Mango': 40, 'Banana': 50, 'Mango': 40,'Banana':56}"
   ]
  },
  {
   "cell_type": "code",
   "execution_count": 70,
   "id": "fe8754ef",
   "metadata": {},
   "outputs": [
    {
     "data": {
      "text/plain": [
       "{'Maruti': 2018,\n",
       " 'Ford': 2019,\n",
       " 'Mahindra': 2022,\n",
       " 'Apple': 30,\n",
       " 'Mango': 40,\n",
       " 'Banana': 56}"
      ]
     },
     "execution_count": 70,
     "metadata": {},
     "output_type": "execute_result"
    }
   ],
   "source": [
    "dict"
   ]
  },
  {
   "cell_type": "markdown",
   "id": "6c646368",
   "metadata": {},
   "source": [
    "### 13. Write a Python program to print a dictionary containing odd square value."
   ]
  },
  {
   "cell_type": "code",
   "execution_count": 82,
   "id": "50e90f2e",
   "metadata": {},
   "outputs": [
    {
     "data": {
      "text/plain": [
       "{1: 1, 3: 9, 5: 25, 7: 49, 9: 81, 11: 121}"
      ]
     },
     "execution_count": 82,
     "metadata": {},
     "output_type": "execute_result"
    }
   ],
   "source": [
    "{x: x*x for x in range(12) if x%2==1}"
   ]
  },
  {
   "cell_type": "code",
   "execution_count": 89,
   "id": "aa894ee6",
   "metadata": {},
   "outputs": [
    {
     "data": {
      "text/plain": [
       "{1: 1, 3: 9, 5: 25, 7: 49, 9: 81, 11: 121}"
      ]
     },
     "execution_count": 89,
     "metadata": {},
     "output_type": "execute_result"
    }
   ],
   "source": [
    "odd_squares"
   ]
  },
  {
   "cell_type": "markdown",
   "id": "6373767d",
   "metadata": {},
   "source": [
    "### 14. Write a Python program to check a dictionary is empty or not."
   ]
  },
  {
   "cell_type": "code",
   "execution_count": 85,
   "id": "69dfbd5d",
   "metadata": {},
   "outputs": [
    {
     "name": "stdout",
     "output_type": "stream",
     "text": [
      "not empty\n"
     ]
    }
   ],
   "source": [
    "d={1:1}\n",
    "\n",
    "if not bool(d):\n",
    "    print(\"empty\")\n",
    "else:\n",
    "    print (\"not empty\")"
   ]
  },
  {
   "cell_type": "markdown",
   "id": "4c43e764",
   "metadata": {},
   "source": [
    "### 15. Write a python program to find the size of a Dictionary."
   ]
  },
  {
   "cell_type": "code",
   "execution_count": 88,
   "id": "7744aab8",
   "metadata": {},
   "outputs": [
    {
     "name": "stdout",
     "output_type": "stream",
     "text": [
      "272 bytes\n"
     ]
    }
   ],
   "source": [
    "dict= {'Maruti': 2018, 'Ford': 2019, 'Mahindra': 2022, 'Apple': 30, 'Mango': 40, 'Banana': 50}\n",
    "import sys\n",
    "print(sys.getsizeof(dict),\"bytes\")"
   ]
  },
  {
   "cell_type": "markdown",
   "id": "fb57d873",
   "metadata": {},
   "source": [
    "### 16. Write a python program to get the length of a dictionary."
   ]
  },
  {
   "cell_type": "code",
   "execution_count": 90,
   "id": "2df2891b",
   "metadata": {},
   "outputs": [
    {
     "data": {
      "text/plain": [
       "6"
      ]
     },
     "execution_count": 90,
     "metadata": {},
     "output_type": "execute_result"
    }
   ],
   "source": [
    "dict= {'Maruti': 2018, 'Ford': 2019, 'Mahindra': 2022, 'Apple': 30, 'Mango': 40, 'Banana': 50}\n",
    "len(dict)"
   ]
  },
  {
   "cell_type": "markdown",
   "id": "cd3df2ea",
   "metadata": {},
   "source": [
    "### 18. Write a Python program to create and display all combinations of letters, selecting each letter from a different key in a dictionary."
   ]
  },
  {
   "cell_type": "code",
   "execution_count": 91,
   "id": "7dc69e9f",
   "metadata": {},
   "outputs": [],
   "source": [
    "d ={'1':['a','b'], '2':['c','d']}"
   ]
  },
  {
   "cell_type": "code",
   "execution_count": 96,
   "id": "4c2714ab",
   "metadata": {},
   "outputs": [
    {
     "name": "stdout",
     "output_type": "stream",
     "text": [
      "ac\n",
      "ad\n",
      "bc\n",
      "bd\n"
     ]
    }
   ],
   "source": [
    "v1,v2=d.values()\n",
    "for i in v1:\n",
    "    for j in v2:\n",
    "        print(i+j)\n",
    "    "
   ]
  },
  {
   "cell_type": "markdown",
   "id": "8e3b4715",
   "metadata": {},
   "source": [
    "### 19. Write a Python program to print a dictionary in table format."
   ]
  },
  {
   "cell_type": "code",
   "execution_count": 105,
   "id": "1abdb1d6",
   "metadata": {},
   "outputs": [
    {
     "name": "stdout",
     "output_type": "stream",
     "text": [
      "['C1', 'C2', 'C3']\n",
      "[1, 2, 3]\n",
      "[5, 6, 7]\n",
      "[9, 10, 11]\n"
     ]
    }
   ],
   "source": [
    "my_dict = {'C1':[1,2,3],'C2':[5,6,7],'C3':[9,10,11]}\n",
    "keys=[*my_dict.keys()]\n",
    "value=[*my_dict.values()]\n",
    "def print_table(keys,value):\n",
    "    print(keys)\n",
    "    for i in range(len(value)):\n",
    "        print(value[i])\n",
    "print_table(keys,value)"
   ]
  },
  {
   "cell_type": "markdown",
   "id": "c6061960",
   "metadata": {},
   "source": [
    "### 20. Write a Python program to create a dictionary from a string."
   ]
  },
  {
   "cell_type": "code",
   "execution_count": 107,
   "id": "4d599519",
   "metadata": {},
   "outputs": [
    {
     "data": {
      "text/plain": [
       "{'s': 1, 't': 1, 'r': 1, 'i': 1, 'n': 1, 'g': 1}"
      ]
     },
     "execution_count": 107,
     "metadata": {},
     "output_type": "execute_result"
    }
   ],
   "source": [
    "string=\"string\"\n",
    "d={}\n",
    "for i in string:\n",
    "    d[i]=string.count(i)\n",
    "d"
   ]
  },
  {
   "cell_type": "markdown",
   "id": "93252134",
   "metadata": {},
   "source": [
    "### 21. Write a Python program to convert a list into a nested dictionary of keys.1"
   ]
  },
  {
   "cell_type": "code",
   "execution_count": 132,
   "id": "193b349d",
   "metadata": {},
   "outputs": [
    {
     "data": {
      "text/plain": [
       "{1: {2: {3: {4: {5: {}}}}}}"
      ]
     },
     "execution_count": 132,
     "metadata": {},
     "output_type": "execute_result"
    }
   ],
   "source": [
    "lst=[1,2,3,4,5]\n",
    "new_dict=current={}\n",
    "for i in lst:\n",
    "    current[i]={}\n",
    "    current=current[i]\n",
    "new_dict"
   ]
  },
  {
   "cell_type": "markdown",
   "id": "643fc56a",
   "metadata": {},
   "source": [
    "### 22. Write a Python program to count the frequency in a given dictiona"
   ]
  },
  {
   "cell_type": "code",
   "execution_count": 137,
   "id": "4f438b2e",
   "metadata": {},
   "outputs": [
    {
     "data": {
      "text/plain": [
       "Counter({10: 2, 40: 2, 20: 2, 70: 1, 80: 1})"
      ]
     },
     "execution_count": 137,
     "metadata": {},
     "output_type": "execute_result"
    }
   ],
   "source": [
    "from collections import Counter\n",
    "dictt = {\n",
    " 'V1': 10,\n",
    " 'V2': 10,\n",
    " 'V3': 40,\n",
    " 'V4': 20,\n",
    " 'V5': 70,\n",
    " 'V6': 80,\n",
    " 'V7': 40,\n",
    " 'V8': 20, \n",
    " }\n",
    "result=Counter(dictt.values())\n",
    "result"
   ]
  },
  {
   "cell_type": "markdown",
   "id": "71e6b4ab",
   "metadata": {},
   "source": [
    "### 23. Write a Python program to extract values from a given dictionaries and create a list of lists from those values."
   ]
  },
  {
   "cell_type": "code",
   "execution_count": 122,
   "id": "e03a8789",
   "metadata": {},
   "outputs": [
    {
     "name": "stdout",
     "output_type": "stream",
     "text": [
      "[[1, 'Name_1', 'V'], [2, 'Name_2', 'V'], [3, 'Name_3', 'VI'], [4, 'Name_4', 'VI'], [5, 'Name_5', 'VII']]\n"
     ]
    }
   ],
   "source": [
    "data = [\n",
    "        {'Roll_No.': 1, 'name': 'Name_1', 'class': 'V'}, \n",
    "        {'Roll_No.': 2, 'name': 'Name_2', 'class': 'V'},\n",
    "        {'Roll_No.': 3, 'name': 'Name_3', 'class': 'VI'}, \n",
    "        {'Roll_No.': 4, 'name': 'Name_4', 'class': 'VI'}, \n",
    "        {'Roll_No.': 5, 'name': 'Name_5', 'class': 'VII'}\n",
    "        ]\n",
    "# [list(i.values()) for i in data]\n",
    "print([[*dic.values()] for dic in data])"
   ]
  },
  {
   "cell_type": "markdown",
   "id": "cc7060c6",
   "metadata": {},
   "source": [
    "#### 24. Write a Python program to get the total length of all values of a given dictionary with string values."
   ]
  },
  {
   "cell_type": "code",
   "execution_count": 123,
   "id": "9fb9c5ee",
   "metadata": {},
   "outputs": [],
   "source": [
    "dic = {'Maruti': 'Omni', 'Ford': 'Figo', 'Mahindra': 'XUV700', 'Apple': 'Red', 'Mango': 'Yellow'}"
   ]
  },
  {
   "cell_type": "code",
   "execution_count": 131,
   "id": "caf96d9e",
   "metadata": {},
   "outputs": [
    {
     "name": "stdout",
     "output_type": "stream",
     "text": [
      "{'Maruti': 'Omni', 'Ford': 'Figo', 'Mahindra': 'XUV700', 'Apple': 'Red', 'Mango': 'Yellow'}\n"
     ]
    },
    {
     "data": {
      "text/plain": [
       "23"
      ]
     },
     "execution_count": 131,
     "metadata": {},
     "output_type": "execute_result"
    }
   ],
   "source": [
    "sm=0\n",
    "for i in dic.values():\n",
    "    sm+=len(i)\n",
    "print(dic)\n",
    "sm"
   ]
  },
  {
   "cell_type": "code",
   "execution_count": null,
   "id": "618c4c36",
   "metadata": {},
   "outputs": [],
   "source": []
  }
 ],
 "metadata": {
  "kernelspec": {
   "display_name": "Python 3 (ipykernel)",
   "language": "python",
   "name": "python3"
  },
  "language_info": {
   "codemirror_mode": {
    "name": "ipython",
    "version": 3
   },
   "file_extension": ".py",
   "mimetype": "text/x-python",
   "name": "python",
   "nbconvert_exporter": "python",
   "pygments_lexer": "ipython3",
   "version": "3.11.5"
  }
 },
 "nbformat": 4,
 "nbformat_minor": 5
}
