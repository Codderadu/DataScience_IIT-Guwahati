{
 "cells": [
  {
   "cell_type": "code",
   "execution_count": 18,
   "id": "ec1561dc",
   "metadata": {},
   "outputs": [],
   "source": [
    "import pandas_datareader as pdr\n",
    "import pandas as pd\n",
    "import datetime as datetime\n",
    "import yfinance as yf"
   ]
  },
  {
   "cell_type": "code",
   "execution_count": 24,
   "id": "4fe2ea05",
   "metadata": {},
   "outputs": [
    {
     "name": "stderr",
     "output_type": "stream",
     "text": [
      "\r",
      "[*********************100%%**********************]  1 of 1 completed"
     ]
    },
    {
     "name": "stdout",
     "output_type": "stream",
     "text": [
      "                  Open        High         Low       Close   Adj Close  \\\n",
      "Date                                                                     \n",
      "2023-01-03  118.470001  118.800003  104.639999  108.099998  108.099998   \n",
      "2023-01-04  109.110001  114.589996  107.519997  113.639999  113.639999   \n",
      "2023-01-05  110.510002  111.750000  107.160004  110.339996  110.339996   \n",
      "2023-01-06  103.000000  114.389999  101.809998  113.059998  113.059998   \n",
      "2023-01-09  118.959999  123.519997  117.110001  119.769997  119.769997   \n",
      "\n",
      "               Volume  \n",
      "Date                   \n",
      "2023-01-03  231402800  \n",
      "2023-01-04  180389000  \n",
      "2023-01-05  157986300  \n",
      "2023-01-06  220911100  \n",
      "2023-01-09  190284000  \n"
     ]
    },
    {
     "name": "stderr",
     "output_type": "stream",
     "text": [
      "\n"
     ]
    }
   ],
   "source": [
    "import yfinance as yf\n",
    "import datetime\n",
    "\n",
    "# Define the ticker symbol and the date range\n",
    "ticker = 'TSLA'\n",
    "start_date = '2023-01-01'\n",
    "end_date = datetime.datetime.now().strftime('%Y-%m-%d')\n",
    "\n",
    "# Fetch the data using yfinance\n",
    "tsla_data = yf.download(ticker, start=start_date, end=end_date)\n",
    "\n",
    "# Print the first few rows of the dataset\n",
    "print(tsla_data.head())"
   ]
  },
  {
   "cell_type": "code",
   "execution_count": null,
   "id": "26dd7900",
   "metadata": {},
   "outputs": [],
   "source": []
  }
 ],
 "metadata": {
  "kernelspec": {
   "display_name": "Python 3 (ipykernel)",
   "language": "python",
   "name": "python3"
  },
  "language_info": {
   "codemirror_mode": {
    "name": "ipython",
    "version": 3
   },
   "file_extension": ".py",
   "mimetype": "text/x-python",
   "name": "python",
   "nbconvert_exporter": "python",
   "pygments_lexer": "ipython3",
   "version": "3.11.5"
  }
 },
 "nbformat": 4,
 "nbformat_minor": 5
}
