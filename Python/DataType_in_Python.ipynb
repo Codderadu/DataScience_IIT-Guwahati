{
 "cells": [
  {
   "cell_type": "markdown",
   "id": "1491dd1d",
   "metadata": {},
   "source": [
    "# DataTypes"
   ]
  },
  {
   "cell_type": "markdown",
   "id": "ab88e0a7",
   "metadata": {},
   "source": [
    "The data type of a value (or variable) is an attribute that tells what kind of data that value can have.\n",
    "\n",
    "Data types in Python are as follows 1)Strings 2)List 3)Dictionary 4)Tuples 5)Sets"
   ]
  },
  {
   "cell_type": "markdown",
   "id": "49053b14",
   "metadata": {},
   "source": [
    "# 1. Strings"
   ]
  },
  {
   "cell_type": "markdown",
   "id": "72715173",
   "metadata": {},
   "source": [
    "A string is a sequence of characters. String is ordered i.e. sequence matters\n",
    "\n",
    "Creating a String 1) By putting the string in inverted commas '' 2) By using a function 'str'"
   ]
  },
  {
   "cell_type": "code",
   "execution_count": 27,
   "id": "5fb24461",
   "metadata": {},
   "outputs": [
    {
     "data": {
      "text/plain": [
       "'python for data science'"
      ]
     },
     "execution_count": 27,
     "metadata": {},
     "output_type": "execute_result"
    }
   ],
   "source": [
    "s=\"python for data science\"\n",
    "s"
   ]
  },
  {
   "cell_type": "code",
   "execution_count": 28,
   "id": "a8a623c5",
   "metadata": {},
   "outputs": [
    {
     "data": {
      "text/plain": [
       "'republic'"
      ]
     },
     "execution_count": 28,
     "metadata": {},
     "output_type": "execute_result"
    }
   ],
   "source": [
    "s=str('republic')\n",
    "s"
   ]
  },
  {
   "cell_type": "markdown",
   "id": "270d8da6",
   "metadata": {},
   "source": [
    "Accessing characters in a string 1) Indexing 2) Slicing\n",
    "\n",
    "Indexing --> Indexing starts from 0 and in between space is included"
   ]
  },
  {
   "cell_type": "code",
   "execution_count": 30,
   "id": "82367d0b",
   "metadata": {},
   "outputs": [],
   "source": [
    "s='python for data science'"
   ]
  },
  {
   "cell_type": "code",
   "execution_count": 32,
   "id": "780ebcb5",
   "metadata": {},
   "outputs": [
    {
     "data": {
      "text/plain": [
       "'n'"
      ]
     },
     "execution_count": 32,
     "metadata": {},
     "output_type": "execute_result"
    }
   ],
   "source": [
    "s[5]"
   ]
  },
  {
   "cell_type": "markdown",
   "id": "8946e632",
   "metadata": {},
   "source": [
    "Slicing --> In slicing, start index is included, end index is not included"
   ]
  },
  {
   "cell_type": "code",
   "execution_count": 33,
   "id": "0d6f1bbd",
   "metadata": {},
   "outputs": [
    {
     "data": {
      "text/plain": [
       "'python'"
      ]
     },
     "execution_count": 33,
     "metadata": {},
     "output_type": "execute_result"
    }
   ],
   "source": [
    "s[0:6]"
   ]
  },
  {
   "cell_type": "markdown",
   "id": "67c8c7da",
   "metadata": {},
   "source": [
    "#If start index is blank, it means from start ie 0 count"
   ]
  },
  {
   "cell_type": "code",
   "execution_count": 34,
   "id": "d05f468c",
   "metadata": {},
   "outputs": [
    {
     "data": {
      "text/plain": [
       "'pyt'"
      ]
     },
     "execution_count": 34,
     "metadata": {},
     "output_type": "execute_result"
    }
   ],
   "source": [
    "s[:3]"
   ]
  },
  {
   "cell_type": "markdown",
   "id": "b0e98feb",
   "metadata": {},
   "source": [
    "#If end index is blank, it means till end of the string"
   ]
  },
  {
   "cell_type": "code",
   "execution_count": 36,
   "id": "da1e9c41",
   "metadata": {},
   "outputs": [
    {
     "data": {
      "text/plain": [
       "'n for data science'"
      ]
     },
     "execution_count": 36,
     "metadata": {},
     "output_type": "execute_result"
    }
   ],
   "source": [
    "s[5:]"
   ]
  },
  {
   "cell_type": "markdown",
   "id": "8b367836",
   "metadata": {},
   "source": [
    "#Negative Indexing starts from right to left. The rightmost chararacter has the index -1"
   ]
  },
  {
   "cell_type": "code",
   "execution_count": 37,
   "id": "e5b3e63d",
   "metadata": {},
   "outputs": [
    {
     "data": {
      "text/plain": [
       "'e'"
      ]
     },
     "execution_count": 37,
     "metadata": {},
     "output_type": "execute_result"
    }
   ],
   "source": [
    "s[-1]"
   ]
  },
  {
   "cell_type": "code",
   "execution_count": 38,
   "id": "718806d3",
   "metadata": {},
   "outputs": [
    {
     "data": {
      "text/plain": [
       "'data'"
      ]
     },
     "execution_count": 38,
     "metadata": {},
     "output_type": "execute_result"
    }
   ],
   "source": [
    "s[-12:-8] #Here start index is -12 and end index is -8. The index for 'a' in data is -9.\n",
    "#(However here end index is -8, one more than -9)"
   ]
  },
  {
   "cell_type": "markdown",
   "id": "0cf8f5a9",
   "metadata": {},
   "source": [
    "create steps in slicing"
   ]
  },
  {
   "cell_type": "code",
   "execution_count": 43,
   "id": "ea8d8fe9",
   "metadata": {},
   "outputs": [
    {
     "data": {
      "text/plain": [
       "'pto o'"
      ]
     },
     "execution_count": 43,
     "metadata": {},
     "output_type": "execute_result"
    }
   ],
   "source": [
    "s[0:10:2]"
   ]
  },
  {
   "cell_type": "code",
   "execution_count": 45,
   "id": "cc1de0cd",
   "metadata": {},
   "outputs": [
    {
     "data": {
      "text/plain": [
       "'ecneics atad rof nohtyp'"
      ]
     },
     "execution_count": 45,
     "metadata": {},
     "output_type": "execute_result"
    }
   ],
   "source": [
    "#if you want to reverse the stirng\n",
    "s[::-1]"
   ]
  },
  {
   "cell_type": "code",
   "execution_count": null,
   "id": "ab039c28",
   "metadata": {},
   "outputs": [],
   "source": []
  },
  {
   "cell_type": "markdown",
   "id": "bb383705",
   "metadata": {},
   "source": [
    "String Operations:-\n",
    "1)Length of string \n",
    "2)'in' operator in strings \n",
    "3)Converting a string to lower case or upper case \n",
    "4)Count no of characters in a string \n",
    "5)Convert first character of a string into upper case (Capitalize)\n",
    "6)Convert first character of all strings into upper case (Title)\n",
    "7)Stripping empty spaces from Left, Right and both sides of a string \n",
    "8)Replacing a string with another string\n",
    "9)Adding two strings \n",
    "10)Multiplying a string with a scalar\n",
    "11)Finding sub string in a string \n",
    "12)Splitting a string at white spaces \n",
    "13)Joining the string with seperator \n",
    "14)Verify string is immutable, cannot be modified"
   ]
  },
  {
   "cell_type": "code",
   "execution_count": 47,
   "id": "ec91b4ee",
   "metadata": {},
   "outputs": [
    {
     "data": {
      "text/plain": [
       "23"
      ]
     },
     "execution_count": 47,
     "metadata": {},
     "output_type": "execute_result"
    }
   ],
   "source": [
    "# For length count starts from 1\n",
    "len(s)"
   ]
  },
  {
   "cell_type": "code",
   "execution_count": 50,
   "id": "01d259ff",
   "metadata": {},
   "outputs": [
    {
     "data": {
      "text/plain": [
       "False"
      ]
     },
     "execution_count": 50,
     "metadata": {},
     "output_type": "execute_result"
    }
   ],
   "source": [
    "# In opertor in Strings\n",
    "'x' in s"
   ]
  },
  {
   "cell_type": "code",
   "execution_count": 51,
   "id": "704713e8",
   "metadata": {},
   "outputs": [
    {
     "data": {
      "text/plain": [
       "False"
      ]
     },
     "execution_count": 51,
     "metadata": {},
     "output_type": "execute_result"
    }
   ],
   "source": [
    "# To find in\n",
    "x=\"TISSUES\"\n",
    "'i' in x"
   ]
  },
  {
   "cell_type": "code",
   "execution_count": 55,
   "id": "952a95d0",
   "metadata": {},
   "outputs": [],
   "source": [
    "#Converting a string to lower case\n",
    "y=x.lower()"
   ]
  },
  {
   "cell_type": "code",
   "execution_count": 57,
   "id": "77775c3b",
   "metadata": {},
   "outputs": [
    {
     "data": {
      "text/plain": [
       "'TISSUES'"
      ]
     },
     "execution_count": 57,
     "metadata": {},
     "output_type": "execute_result"
    }
   ],
   "source": [
    "#Converting a string to upper case\n",
    "y.upper()"
   ]
  },
  {
   "cell_type": "code",
   "execution_count": 58,
   "id": "ffea71e7",
   "metadata": {},
   "outputs": [
    {
     "data": {
      "text/plain": [
       "1"
      ]
     },
     "execution_count": 58,
     "metadata": {},
     "output_type": "execute_result"
    }
   ],
   "source": [
    "# To count no of characters\n",
    "x.count('T')"
   ]
  },
  {
   "cell_type": "code",
   "execution_count": 61,
   "id": "eef6e596",
   "metadata": {},
   "outputs": [
    {
     "data": {
      "text/plain": [
       "'Python for data science'"
      ]
     },
     "execution_count": 61,
     "metadata": {},
     "output_type": "execute_result"
    }
   ],
   "source": [
    "# Converts first alphabet to Capital\n",
    "s=\"python for data Science\"\n",
    "s.capitalize()"
   ]
  },
  {
   "cell_type": "code",
   "execution_count": 62,
   "id": "4c3c7f25",
   "metadata": {},
   "outputs": [
    {
     "data": {
      "text/plain": [
       "'  Python For Data Science  '"
      ]
     },
     "execution_count": 62,
     "metadata": {},
     "output_type": "execute_result"
    }
   ],
   "source": [
    "# Converts the string to title format ie first alphabet of each word\n",
    "s=\"  python for data Science  \"\n",
    "s.title()"
   ]
  },
  {
   "cell_type": "code",
   "execution_count": 63,
   "id": "dd16f65a",
   "metadata": {},
   "outputs": [
    {
     "data": {
      "text/plain": [
       "'python for data Science  '"
      ]
     },
     "execution_count": 63,
     "metadata": {},
     "output_type": "execute_result"
    }
   ],
   "source": [
    "# Removes empty spaces from left\n",
    "s.lstrip()"
   ]
  },
  {
   "cell_type": "code",
   "execution_count": 64,
   "id": "eccbc275",
   "metadata": {},
   "outputs": [
    {
     "data": {
      "text/plain": [
       "'  python for data Science'"
      ]
     },
     "execution_count": 64,
     "metadata": {},
     "output_type": "execute_result"
    }
   ],
   "source": [
    "#Removes empty spaces from right\n",
    "s.rstrip()"
   ]
  },
  {
   "cell_type": "code",
   "execution_count": 65,
   "id": "4bae7a7e",
   "metadata": {},
   "outputs": [
    {
     "data": {
      "text/plain": [
       "'python for data Science'"
      ]
     },
     "execution_count": 65,
     "metadata": {},
     "output_type": "execute_result"
    }
   ],
   "source": [
    "#Removes all empty spaces from left and right\n",
    "s.strip()"
   ]
  },
  {
   "cell_type": "markdown",
   "id": "1308a5a3",
   "metadata": {},
   "source": [
    "Replacing a string with another string"
   ]
  },
  {
   "cell_type": "code",
   "execution_count": 67,
   "id": "34f9b982",
   "metadata": {},
   "outputs": [
    {
     "data": {
      "text/plain": [
       "'Sython for data Science Sython Sython python'"
      ]
     },
     "execution_count": 67,
     "metadata": {},
     "output_type": "execute_result"
    }
   ],
   "source": [
    "s=\"Python for data Science Python Python python\"\n",
    "s.replace(\"P\",\"S\")"
   ]
  },
  {
   "cell_type": "markdown",
   "id": "39778bf0",
   "metadata": {},
   "source": [
    "### Adding two strings --> Concatenation"
   ]
  },
  {
   "cell_type": "code",
   "execution_count": 68,
   "id": "63f58082",
   "metadata": {},
   "outputs": [
    {
     "data": {
      "text/plain": [
       "'dataSceince'"
      ]
     },
     "execution_count": 68,
     "metadata": {},
     "output_type": "execute_result"
    }
   ],
   "source": [
    "#adding to strings\n",
    "a=\"data\"\n",
    "b=\"Sceince\"\n",
    "a+b"
   ]
  },
  {
   "cell_type": "code",
   "execution_count": 69,
   "id": "64313b67",
   "metadata": {},
   "outputs": [
    {
     "data": {
      "text/plain": [
       "'111'"
      ]
     },
     "execution_count": 69,
     "metadata": {},
     "output_type": "execute_result"
    }
   ],
   "source": [
    "# Multiplication of string with Scalar\n",
    "a='1'\n",
    "a*3"
   ]
  },
  {
   "cell_type": "markdown",
   "id": "a4d162f2",
   "metadata": {},
   "source": [
    "### Finding a substring in the string"
   ]
  },
  {
   "cell_type": "code",
   "execution_count": 75,
   "id": "01ccee5c",
   "metadata": {},
   "outputs": [
    {
     "data": {
      "text/plain": [
       "8"
      ]
     },
     "execution_count": 75,
     "metadata": {},
     "output_type": "execute_result"
    }
   ],
   "source": [
    "s='python for data science'\n",
    "s.find('o',5)"
   ]
  },
  {
   "cell_type": "code",
   "execution_count": null,
   "id": "5e28f92f",
   "metadata": {},
   "outputs": [],
   "source": []
  },
  {
   "cell_type": "markdown",
   "id": "095bd842",
   "metadata": {},
   "source": [
    "### Split a string (at white spaces). 'split' function gives the output as list"
   ]
  },
  {
   "cell_type": "code",
   "execution_count": 77,
   "id": "59c9d009",
   "metadata": {},
   "outputs": [],
   "source": [
    "s=\"python for datascience\"\n",
    "lst=s.split()"
   ]
  },
  {
   "cell_type": "code",
   "execution_count": null,
   "id": "f25d0929",
   "metadata": {},
   "outputs": [],
   "source": []
  },
  {
   "cell_type": "markdown",
   "id": "35fff9c3",
   "metadata": {},
   "source": [
    "### Join the splitted list and give output as String"
   ]
  },
  {
   "cell_type": "code",
   "execution_count": 78,
   "id": "eee6623d",
   "metadata": {},
   "outputs": [
    {
     "data": {
      "text/plain": [
       "'python_for_datascience'"
      ]
     },
     "execution_count": 78,
     "metadata": {},
     "output_type": "execute_result"
    }
   ],
   "source": [
    "'_'.join(lst)"
   ]
  },
  {
   "cell_type": "code",
   "execution_count": null,
   "id": "f4b5f41f",
   "metadata": {},
   "outputs": [],
   "source": []
  },
  {
   "cell_type": "code",
   "execution_count": 24,
   "id": "9d908d31",
   "metadata": {},
   "outputs": [],
   "source": [
    "#Strings are immutable, Cannot modify"
   ]
  },
  {
   "cell_type": "code",
   "execution_count": 79,
   "id": "717bc758",
   "metadata": {},
   "outputs": [
    {
     "ename": "TypeError",
     "evalue": "'str' object does not support item assignment",
     "output_type": "error",
     "traceback": [
      "\u001b[1;31m---------------------------------------------------------------------------\u001b[0m",
      "\u001b[1;31mTypeError\u001b[0m                                 Traceback (most recent call last)",
      "Cell \u001b[1;32mIn[79], line 2\u001b[0m\n\u001b[0;32m      1\u001b[0m s\u001b[38;5;241m=\u001b[39m\u001b[38;5;124m'\u001b[39m\u001b[38;5;124mRepublic\u001b[39m\u001b[38;5;124m'\u001b[39m\n\u001b[1;32m----> 2\u001b[0m s[\u001b[38;5;241m0\u001b[39m]\u001b[38;5;241m=\u001b[39m\u001b[38;5;124m'\u001b[39m\u001b[38;5;124mZ\u001b[39m\u001b[38;5;124m'\u001b[39m\n",
      "\u001b[1;31mTypeError\u001b[0m: 'str' object does not support item assignment"
     ]
    }
   ],
   "source": [
    "s='Republic'\n",
    "s[0]='Z'"
   ]
  },
  {
   "cell_type": "markdown",
   "id": "579f4264",
   "metadata": {},
   "source": [
    "# 2] List"
   ]
  },
  {
   "cell_type": "markdown",
   "id": "e7506ae8",
   "metadata": {},
   "source": [
    "### List is a ordered collection of multiple items stored in a single variable.\n",
    "### List are changeable (Mutable) and allow duplicate values.\n",
    "### Items in the list are indexed, the first item has index [0], the second item has index [1] etc."
   ]
  },
  {
   "cell_type": "markdown",
   "id": "3c8f15a6",
   "metadata": {},
   "source": [
    "#### List items can be of any data type: String, int and boolean data types:"
   ]
  },
  {
   "cell_type": "code",
   "execution_count": null,
   "id": "72675c29",
   "metadata": {},
   "outputs": [],
   "source": []
  }
 ],
 "metadata": {
  "kernelspec": {
   "display_name": "Python 3 (ipykernel)",
   "language": "python",
   "name": "python3"
  },
  "language_info": {
   "codemirror_mode": {
    "name": "ipython",
    "version": 3
   },
   "file_extension": ".py",
   "mimetype": "text/x-python",
   "name": "python",
   "nbconvert_exporter": "python",
   "pygments_lexer": "ipython3",
   "version": "3.11.5"
  }
 },
 "nbformat": 4,
 "nbformat_minor": 5
}
