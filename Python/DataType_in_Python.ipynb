{
 "cells": [
  {
   "cell_type": "markdown",
   "id": "e522d7f3",
   "metadata": {},
   "source": [
    "# DataTypes"
   ]
  },
  {
   "cell_type": "markdown",
   "id": "219566ef",
   "metadata": {},
   "source": [
    "The data type of a value (or variable) is an attribute that tells what kind of data that value can have.\n",
    "\n",
    "Data types in Python are as follows 1)Strings 2)List 3)Dictionary 4)Tuples 5)Sets"
   ]
  },
  {
   "cell_type": "markdown",
   "id": "e7631701",
   "metadata": {},
   "source": [
    "# 1. Strings"
   ]
  },
  {
   "cell_type": "markdown",
   "id": "1cdb11a8",
   "metadata": {},
   "source": [
    "A string is a sequence of characters. String is ordered i.e. sequence matters\n",
    "\n",
    "Creating a String 1) By putting the string in inverted commas '' 2) By using a function 'str'"
   ]
  },
  {
   "cell_type": "code",
   "execution_count": 27,
   "id": "ab10dff7",
   "metadata": {},
   "outputs": [
    {
     "data": {
      "text/plain": [
       "'python for data science'"
      ]
     },
     "execution_count": 27,
     "metadata": {},
     "output_type": "execute_result"
    }
   ],
   "source": [
    "s=\"python for data science\"\n",
    "s"
   ]
  },
  {
   "cell_type": "code",
   "execution_count": 28,
   "id": "6a2483e7",
   "metadata": {},
   "outputs": [
    {
     "data": {
      "text/plain": [
       "'republic'"
      ]
     },
     "execution_count": 28,
     "metadata": {},
     "output_type": "execute_result"
    }
   ],
   "source": [
    "s=str('republic')\n",
    "s"
   ]
  },
  {
   "cell_type": "markdown",
   "id": "2bbbfd08",
   "metadata": {},
   "source": [
    "Accessing characters in a string 1) Indexing 2) Slicing\n",
    "\n",
    "Indexing --> Indexing starts from 0 and in between space is included"
   ]
  },
  {
   "cell_type": "code",
   "execution_count": 30,
   "id": "1fa701d4",
   "metadata": {},
   "outputs": [],
   "source": [
    "s='python for data science'"
   ]
  },
  {
   "cell_type": "code",
   "execution_count": 32,
   "id": "da7c437a",
   "metadata": {},
   "outputs": [
    {
     "data": {
      "text/plain": [
       "'n'"
      ]
     },
     "execution_count": 32,
     "metadata": {},
     "output_type": "execute_result"
    }
   ],
   "source": [
    "s[5]"
   ]
  },
  {
   "cell_type": "markdown",
   "id": "925fb493",
   "metadata": {},
   "source": [
    "Slicing --> In slicing, start index is included, end index is not included"
   ]
  },
  {
   "cell_type": "code",
   "execution_count": 33,
   "id": "43e4531a",
   "metadata": {},
   "outputs": [
    {
     "data": {
      "text/plain": [
       "'python'"
      ]
     },
     "execution_count": 33,
     "metadata": {},
     "output_type": "execute_result"
    }
   ],
   "source": [
    "s[0:6]"
   ]
  },
  {
   "cell_type": "markdown",
   "id": "f35c71b4",
   "metadata": {},
   "source": [
    "#If start index is blank, it means from start ie 0 count"
   ]
  },
  {
   "cell_type": "code",
   "execution_count": 34,
   "id": "61fbf108",
   "metadata": {},
   "outputs": [
    {
     "data": {
      "text/plain": [
       "'pyt'"
      ]
     },
     "execution_count": 34,
     "metadata": {},
     "output_type": "execute_result"
    }
   ],
   "source": [
    "s[:3]"
   ]
  },
  {
   "cell_type": "markdown",
   "id": "1b346523",
   "metadata": {},
   "source": [
    "#If end index is blank, it means till end of the string"
   ]
  },
  {
   "cell_type": "code",
   "execution_count": 36,
   "id": "17e01b9a",
   "metadata": {},
   "outputs": [
    {
     "data": {
      "text/plain": [
       "'n for data science'"
      ]
     },
     "execution_count": 36,
     "metadata": {},
     "output_type": "execute_result"
    }
   ],
   "source": [
    "s[5:]"
   ]
  },
  {
   "cell_type": "markdown",
   "id": "6d607c60",
   "metadata": {},
   "source": [
    "#Negative Indexing starts from right to left. The rightmost chararacter has the index -1"
   ]
  },
  {
   "cell_type": "code",
   "execution_count": 37,
   "id": "9bea766f",
   "metadata": {},
   "outputs": [
    {
     "data": {
      "text/plain": [
       "'e'"
      ]
     },
     "execution_count": 37,
     "metadata": {},
     "output_type": "execute_result"
    }
   ],
   "source": [
    "s[-1]"
   ]
  },
  {
   "cell_type": "code",
   "execution_count": 38,
   "id": "99bdb0e3",
   "metadata": {},
   "outputs": [
    {
     "data": {
      "text/plain": [
       "'data'"
      ]
     },
     "execution_count": 38,
     "metadata": {},
     "output_type": "execute_result"
    }
   ],
   "source": [
    "s[-12:-8] #Here start index is -12 and end index is -8. The index for 'a' in data is -9.\n",
    "#(However here end index is -8, one more than -9)"
   ]
  },
  {
   "cell_type": "markdown",
   "id": "c41f23c2",
   "metadata": {},
   "source": [
    "create steps in slicing"
   ]
  },
  {
   "cell_type": "code",
   "execution_count": 43,
   "id": "edf113ee",
   "metadata": {},
   "outputs": [
    {
     "data": {
      "text/plain": [
       "'pto o'"
      ]
     },
     "execution_count": 43,
     "metadata": {},
     "output_type": "execute_result"
    }
   ],
   "source": [
    "s[0:10:2]"
   ]
  },
  {
   "cell_type": "code",
   "execution_count": 45,
   "id": "1072ac77",
   "metadata": {},
   "outputs": [
    {
     "data": {
      "text/plain": [
       "'ecneics atad rof nohtyp'"
      ]
     },
     "execution_count": 45,
     "metadata": {},
     "output_type": "execute_result"
    }
   ],
   "source": [
    "#if you want to reverse the stirng\n",
    "s[::-1]"
   ]
  },
  {
   "cell_type": "code",
   "execution_count": null,
   "id": "01a0c57b",
   "metadata": {},
   "outputs": [],
   "source": []
  },
  {
   "cell_type": "markdown",
   "id": "cb4091b2",
   "metadata": {},
   "source": [
    "String Operations:-\n",
    "1)Length of string \n",
    "2)'in' operator in strings \n",
    "3)Converting a string to lower case or upper case \n",
    "4)Count no of characters in a string \n",
    "5)Convert first character of a string into upper case (Capitalize)\n",
    "6)Convert first character of all strings into upper case (Title)\n",
    "7)Stripping empty spaces from Left, Right and both sides of a string \n",
    "8)Replacing a string with another string\n",
    "9)Adding two strings \n",
    "10)Multiplying a string with a scalar\n",
    "11)Finding sub string in a string \n",
    "12)Splitting a string at white spaces \n",
    "13)Joining the string with seperator \n",
    "14)Verify string is immutable, cannot be modified"
   ]
  },
  {
   "cell_type": "code",
   "execution_count": 47,
   "id": "1c09d3eb",
   "metadata": {},
   "outputs": [
    {
     "data": {
      "text/plain": [
       "23"
      ]
     },
     "execution_count": 47,
     "metadata": {},
     "output_type": "execute_result"
    }
   ],
   "source": [
    "# For length count starts from 1\n",
    "len(s)"
   ]
  },
  {
   "cell_type": "code",
   "execution_count": 50,
   "id": "c420469a",
   "metadata": {},
   "outputs": [
    {
     "data": {
      "text/plain": [
       "False"
      ]
     },
     "execution_count": 50,
     "metadata": {},
     "output_type": "execute_result"
    }
   ],
   "source": [
    "# In opertor in Strings\n",
    "'x' in s"
   ]
  },
  {
   "cell_type": "code",
   "execution_count": 51,
   "id": "5c8673a1",
   "metadata": {},
   "outputs": [
    {
     "data": {
      "text/plain": [
       "False"
      ]
     },
     "execution_count": 51,
     "metadata": {},
     "output_type": "execute_result"
    }
   ],
   "source": [
    "# To find in\n",
    "x=\"TISSUES\"\n",
    "'i' in x"
   ]
  },
  {
   "cell_type": "code",
   "execution_count": 55,
   "id": "1b0004cb",
   "metadata": {},
   "outputs": [],
   "source": [
    "#Converting a string to lower case\n",
    "y=x.lower()"
   ]
  },
  {
   "cell_type": "code",
   "execution_count": 57,
   "id": "2ac7e290",
   "metadata": {},
   "outputs": [
    {
     "data": {
      "text/plain": [
       "'TISSUES'"
      ]
     },
     "execution_count": 57,
     "metadata": {},
     "output_type": "execute_result"
    }
   ],
   "source": [
    "#Converting a string to upper case\n",
    "y.upper()"
   ]
  },
  {
   "cell_type": "code",
   "execution_count": 58,
   "id": "3aea433a",
   "metadata": {},
   "outputs": [
    {
     "data": {
      "text/plain": [
       "1"
      ]
     },
     "execution_count": 58,
     "metadata": {},
     "output_type": "execute_result"
    }
   ],
   "source": [
    "# To count no of characters\n",
    "x.count('T')"
   ]
  },
  {
   "cell_type": "code",
   "execution_count": 61,
   "id": "f90c23c0",
   "metadata": {},
   "outputs": [
    {
     "data": {
      "text/plain": [
       "'Python for data science'"
      ]
     },
     "execution_count": 61,
     "metadata": {},
     "output_type": "execute_result"
    }
   ],
   "source": [
    "# Converts first alphabet to Capital\n",
    "s=\"python for data Science\"\n",
    "s.capitalize()"
   ]
  },
  {
   "cell_type": "code",
   "execution_count": 62,
   "id": "100c6418",
   "metadata": {},
   "outputs": [
    {
     "data": {
      "text/plain": [
       "'  Python For Data Science  '"
      ]
     },
     "execution_count": 62,
     "metadata": {},
     "output_type": "execute_result"
    }
   ],
   "source": [
    "# Converts the string to title format ie first alphabet of each word\n",
    "s=\"  python for data Science  \"\n",
    "s.title()"
   ]
  },
  {
   "cell_type": "code",
   "execution_count": 63,
   "id": "8ed3b369",
   "metadata": {},
   "outputs": [
    {
     "data": {
      "text/plain": [
       "'python for data Science  '"
      ]
     },
     "execution_count": 63,
     "metadata": {},
     "output_type": "execute_result"
    }
   ],
   "source": [
    "# Removes empty spaces from left\n",
    "s.lstrip()"
   ]
  },
  {
   "cell_type": "code",
   "execution_count": 64,
   "id": "8ccdafba",
   "metadata": {},
   "outputs": [
    {
     "data": {
      "text/plain": [
       "'  python for data Science'"
      ]
     },
     "execution_count": 64,
     "metadata": {},
     "output_type": "execute_result"
    }
   ],
   "source": [
    "#Removes empty spaces from right\n",
    "s.rstrip()"
   ]
  },
  {
   "cell_type": "code",
   "execution_count": 65,
   "id": "ba04f276",
   "metadata": {},
   "outputs": [
    {
     "data": {
      "text/plain": [
       "'python for data Science'"
      ]
     },
     "execution_count": 65,
     "metadata": {},
     "output_type": "execute_result"
    }
   ],
   "source": [
    "#Removes all empty spaces from left and right\n",
    "s.strip()"
   ]
  },
  {
   "cell_type": "markdown",
   "id": "a49edd84",
   "metadata": {},
   "source": [
    "Replacing a string with another string"
   ]
  },
  {
   "cell_type": "code",
   "execution_count": 67,
   "id": "2b650655",
   "metadata": {},
   "outputs": [
    {
     "data": {
      "text/plain": [
       "'Sython for data Science Sython Sython python'"
      ]
     },
     "execution_count": 67,
     "metadata": {},
     "output_type": "execute_result"
    }
   ],
   "source": [
    "s=\"Python for data Science Python Python python\"\n",
    "s.replace(\"P\",\"S\")"
   ]
  },
  {
   "cell_type": "markdown",
   "id": "f59258c9",
   "metadata": {},
   "source": [
    "### Adding two strings --> Concatenation"
   ]
  },
  {
   "cell_type": "code",
   "execution_count": 68,
   "id": "89589d2a",
   "metadata": {},
   "outputs": [
    {
     "data": {
      "text/plain": [
       "'dataSceince'"
      ]
     },
     "execution_count": 68,
     "metadata": {},
     "output_type": "execute_result"
    }
   ],
   "source": [
    "#adding to strings\n",
    "a=\"data\"\n",
    "b=\"Sceince\"\n",
    "a+b"
   ]
  },
  {
   "cell_type": "code",
   "execution_count": 69,
   "id": "47ddb2c7",
   "metadata": {},
   "outputs": [
    {
     "data": {
      "text/plain": [
       "'111'"
      ]
     },
     "execution_count": 69,
     "metadata": {},
     "output_type": "execute_result"
    }
   ],
   "source": [
    "# Multiplication of string with Scalar\n",
    "a='1'\n",
    "a*3"
   ]
  },
  {
   "cell_type": "markdown",
   "id": "22f28893",
   "metadata": {},
   "source": [
    "### Finding a substring in the string"
   ]
  },
  {
   "cell_type": "code",
   "execution_count": 75,
   "id": "d0d56238",
   "metadata": {},
   "outputs": [
    {
     "data": {
      "text/plain": [
       "8"
      ]
     },
     "execution_count": 75,
     "metadata": {},
     "output_type": "execute_result"
    }
   ],
   "source": [
    "s='python for data science'\n",
    "s.find('o',5)"
   ]
  },
  {
   "cell_type": "code",
   "execution_count": null,
   "id": "c7e4427a",
   "metadata": {},
   "outputs": [],
   "source": []
  },
  {
   "cell_type": "markdown",
   "id": "23179d18",
   "metadata": {},
   "source": [
    "### Split a string (at white spaces). 'split' function gives the output as list"
   ]
  },
  {
   "cell_type": "code",
   "execution_count": 77,
   "id": "518a1804",
   "metadata": {},
   "outputs": [],
   "source": [
    "s=\"python for datascience\"\n",
    "lst=s.split()"
   ]
  },
  {
   "cell_type": "code",
   "execution_count": null,
   "id": "095d79bc",
   "metadata": {},
   "outputs": [],
   "source": []
  },
  {
   "cell_type": "markdown",
   "id": "9717565d",
   "metadata": {},
   "source": [
    "### Join the splitted list and give output as String"
   ]
  },
  {
   "cell_type": "code",
   "execution_count": 78,
   "id": "3b355192",
   "metadata": {},
   "outputs": [
    {
     "data": {
      "text/plain": [
       "'python_for_datascience'"
      ]
     },
     "execution_count": 78,
     "metadata": {},
     "output_type": "execute_result"
    }
   ],
   "source": [
    "'_'.join(lst)"
   ]
  },
  {
   "cell_type": "code",
   "execution_count": null,
   "id": "496f756e",
   "metadata": {},
   "outputs": [],
   "source": []
  },
  {
   "cell_type": "code",
   "execution_count": 24,
   "id": "6c5c01f6",
   "metadata": {},
   "outputs": [],
   "source": [
    "#Strings are immutable, Cannot modify"
   ]
  },
  {
   "cell_type": "code",
   "execution_count": 79,
   "id": "4c86f6f2",
   "metadata": {},
   "outputs": [
    {
     "ename": "TypeError",
     "evalue": "'str' object does not support item assignment",
     "output_type": "error",
     "traceback": [
      "\u001b[1;31m---------------------------------------------------------------------------\u001b[0m",
      "\u001b[1;31mTypeError\u001b[0m                                 Traceback (most recent call last)",
      "Cell \u001b[1;32mIn[79], line 2\u001b[0m\n\u001b[0;32m      1\u001b[0m s\u001b[38;5;241m=\u001b[39m\u001b[38;5;124m'\u001b[39m\u001b[38;5;124mRepublic\u001b[39m\u001b[38;5;124m'\u001b[39m\n\u001b[1;32m----> 2\u001b[0m s[\u001b[38;5;241m0\u001b[39m]\u001b[38;5;241m=\u001b[39m\u001b[38;5;124m'\u001b[39m\u001b[38;5;124mZ\u001b[39m\u001b[38;5;124m'\u001b[39m\n",
      "\u001b[1;31mTypeError\u001b[0m: 'str' object does not support item assignment"
     ]
    }
   ],
   "source": [
    "s='Republic'\n",
    "s[0]='Z'"
   ]
  },
  {
   "cell_type": "markdown",
   "id": "beb0892d",
   "metadata": {},
   "source": [
    "# 2] List"
   ]
  },
  {
   "cell_type": "markdown",
   "id": "5bb4c937",
   "metadata": {},
   "source": [
    "### List is a ordered collection of multiple items stored in a single variable.\n",
    "### List are changeable (Mutable) and allow duplicate values.\n",
    "### Items in the list are indexed, the first item has index [0], the second item has index [1] etc."
   ]
  },
  {
   "cell_type": "markdown",
   "id": "6c19c884",
   "metadata": {},
   "source": [
    "#### List items can be of any data type: String, int and boolean data types:"
   ]
  },
  {
   "cell_type": "code",
   "execution_count": 2,
   "id": "97de8751",
   "metadata": {},
   "outputs": [],
   "source": [
    "list1 = ['apple', 'banana', 'cherry', 100, True, 45+9j, True]"
   ]
  },
  {
   "cell_type": "code",
   "execution_count": 3,
   "id": "f99a1023",
   "metadata": {},
   "outputs": [
    {
     "data": {
      "text/plain": [
       "list"
      ]
     },
     "execution_count": 3,
     "metadata": {},
     "output_type": "execute_result"
    }
   ],
   "source": [
    "#type\n",
    "type(list1)"
   ]
  },
  {
   "cell_type": "markdown",
   "id": "71378d01",
   "metadata": {},
   "source": [
    "List can contain different data types:"
   ]
  },
  {
   "cell_type": "code",
   "execution_count": 5,
   "id": "f1d538f5",
   "metadata": {},
   "outputs": [
    {
     "data": {
      "text/plain": [
       "[1, 'string', (5+6j), True]"
      ]
     },
     "execution_count": 5,
     "metadata": {},
     "output_type": "execute_result"
    }
   ],
   "source": [
    "list2=[1,\"string\",5+6j,True]\n",
    "list2"
   ]
  },
  {
   "cell_type": "code",
   "execution_count": 82,
   "id": "c4b8ac8a",
   "metadata": {},
   "outputs": [],
   "source": [
    "#Example: A list with strings, integers and boolean values:"
   ]
  },
  {
   "cell_type": "markdown",
   "id": "a03c7429",
   "metadata": {},
   "source": [
    "## Creating a List"
   ]
  },
  {
   "cell_type": "markdown",
   "id": "7c15ce51",
   "metadata": {},
   "source": [
    "1) By Putting the items in a square bracket"
   ]
  },
  {
   "cell_type": "code",
   "execution_count": 7,
   "id": "eac4ca58",
   "metadata": {},
   "outputs": [
    {
     "data": {
      "text/plain": [
       "[]"
      ]
     },
     "execution_count": 7,
     "metadata": {},
     "output_type": "execute_result"
    }
   ],
   "source": [
    "list3=[]\n",
    "list3"
   ]
  },
  {
   "cell_type": "code",
   "execution_count": null,
   "id": "934a4c8e",
   "metadata": {},
   "outputs": [],
   "source": []
  },
  {
   "cell_type": "markdown",
   "id": "3405b407",
   "metadata": {},
   "source": [
    "2) Creating a blank list"
   ]
  },
  {
   "cell_type": "markdown",
   "id": "9d338b04",
   "metadata": {},
   "source": [
    "3) Using the list() Constructor --> It is also possible to use the list() constructor when creating a new list. We can pass following data types to the function 'list'. a)Tuple b)String c) Dictionary as a parameter to 'list' function"
   ]
  },
  {
   "cell_type": "code",
   "execution_count": 9,
   "id": "53a70543",
   "metadata": {},
   "outputs": [
    {
     "data": {
      "text/plain": [
       "[]"
      ]
     },
     "execution_count": 9,
     "metadata": {},
     "output_type": "execute_result"
    }
   ],
   "source": [
    "l=list()\n",
    "l"
   ]
  },
  {
   "cell_type": "code",
   "execution_count": 10,
   "id": "f83b7420",
   "metadata": {},
   "outputs": [
    {
     "data": {
      "text/plain": [
       "list"
      ]
     },
     "execution_count": 10,
     "metadata": {},
     "output_type": "execute_result"
    }
   ],
   "source": [
    "type(l)"
   ]
  },
  {
   "cell_type": "markdown",
   "id": "06807875",
   "metadata": {},
   "source": [
    "a) Passing 'tuple' to list() constructor"
   ]
  },
  {
   "cell_type": "code",
   "execution_count": 12,
   "id": "acb80351",
   "metadata": {},
   "outputs": [
    {
     "data": {
      "text/plain": [
       "[1, 2, 3, 4, 5, 6]"
      ]
     },
     "execution_count": 12,
     "metadata": {},
     "output_type": "execute_result"
    }
   ],
   "source": [
    "#Note here we need to apply double round brackets\n",
    "lst=list((1,2,3,4,5,6))\n",
    "lst"
   ]
  },
  {
   "cell_type": "code",
   "execution_count": null,
   "id": "29ed7a45",
   "metadata": {},
   "outputs": [],
   "source": []
  },
  {
   "cell_type": "markdown",
   "id": "d40f5c04",
   "metadata": {},
   "source": [
    "b) Passing 'string' to list() constructor gives the output as list of characters"
   ]
  },
  {
   "cell_type": "code",
   "execution_count": 14,
   "id": "9ff6f478",
   "metadata": {},
   "outputs": [
    {
     "data": {
      "text/plain": [
       "['s', 't', 'r', 'i', 'n', 'g']"
      ]
     },
     "execution_count": 14,
     "metadata": {},
     "output_type": "execute_result"
    }
   ],
   "source": [
    "lst=list(\"string\")\n",
    "lst"
   ]
  },
  {
   "cell_type": "code",
   "execution_count": 15,
   "id": "eec14e0e",
   "metadata": {},
   "outputs": [
    {
     "data": {
      "text/plain": [
       "['a', 'b']"
      ]
     },
     "execution_count": 15,
     "metadata": {},
     "output_type": "execute_result"
    }
   ],
   "source": [
    "a={'a':100,'b':400}\n",
    "list(a)"
   ]
  },
  {
   "cell_type": "markdown",
   "id": "8f2edf35",
   "metadata": {},
   "source": [
    "c) Passing a 'dictionary' to list() constructor gives the output of 'keys' of a dictionary"
   ]
  },
  {
   "cell_type": "code",
   "execution_count": null,
   "id": "28ecb5aa",
   "metadata": {},
   "outputs": [],
   "source": []
  },
  {
   "cell_type": "markdown",
   "id": "9fcda086",
   "metadata": {},
   "source": [
    "### Accessing Items from the list"
   ]
  },
  {
   "cell_type": "raw",
   "id": "13ccc8ed",
   "metadata": {},
   "source": [
    "Items in the list are indexed, the first item has index [0], the second item has index [1] etc."
   ]
  },
  {
   "cell_type": "markdown",
   "id": "e5dbb64f",
   "metadata": {},
   "source": [
    "Indexing the list"
   ]
  },
  {
   "cell_type": "code",
   "execution_count": 18,
   "id": "702d6fe7",
   "metadata": {},
   "outputs": [
    {
     "data": {
      "text/plain": [
       "['abc', 34, True, 40, 'male']"
      ]
     },
     "execution_count": 18,
     "metadata": {},
     "output_type": "execute_result"
    }
   ],
   "source": [
    "\n",
    "#Lets consider the list as follows\n",
    "lst = [\"abc\", 34, True, 40, \"male\"]\n",
    "lst"
   ]
  },
  {
   "cell_type": "code",
   "execution_count": 19,
   "id": "e8538f20",
   "metadata": {},
   "outputs": [
    {
     "data": {
      "text/plain": [
       "'abc'"
      ]
     },
     "execution_count": 19,
     "metadata": {},
     "output_type": "execute_result"
    }
   ],
   "source": [
    "lst[0]"
   ]
  },
  {
   "cell_type": "code",
   "execution_count": 20,
   "id": "4b52eaeb",
   "metadata": {},
   "outputs": [
    {
     "data": {
      "text/plain": [
       "'male'"
      ]
     },
     "execution_count": 20,
     "metadata": {},
     "output_type": "execute_result"
    }
   ],
   "source": [
    "lst[-1]"
   ]
  },
  {
   "cell_type": "code",
   "execution_count": null,
   "id": "5beaf6d5",
   "metadata": {},
   "outputs": [],
   "source": []
  },
  {
   "cell_type": "markdown",
   "id": "9dd8d4ec",
   "metadata": {},
   "source": [
    "Slicing a list"
   ]
  },
  {
   "cell_type": "code",
   "execution_count": 85,
   "id": "387b0b3a",
   "metadata": {},
   "outputs": [
    {
     "data": {
      "text/plain": [
       "['abc', 34, True, 40, 'male']"
      ]
     },
     "execution_count": 85,
     "metadata": {},
     "output_type": "execute_result"
    }
   ],
   "source": [
    "#Lets consider the list as follows\n",
    "lst = [\"abc\", 34, True, 40, \"male\"]\n",
    "lst"
   ]
  },
  {
   "cell_type": "code",
   "execution_count": 21,
   "id": "daea4833",
   "metadata": {},
   "outputs": [
    {
     "data": {
      "text/plain": [
       "['abc', 34, True, 40]"
      ]
     },
     "execution_count": 21,
     "metadata": {},
     "output_type": "execute_result"
    }
   ],
   "source": [
    "lst[0:4]"
   ]
  },
  {
   "cell_type": "code",
   "execution_count": 22,
   "id": "10bb5b53",
   "metadata": {},
   "outputs": [
    {
     "data": {
      "text/plain": [
       "[True]"
      ]
     },
     "execution_count": 22,
     "metadata": {},
     "output_type": "execute_result"
    }
   ],
   "source": [
    "lst[-3:-2]"
   ]
  },
  {
   "cell_type": "code",
   "execution_count": 23,
   "id": "bf24423c",
   "metadata": {},
   "outputs": [
    {
     "data": {
      "text/plain": [
       "['male', 40, True, 34, 'abc']"
      ]
     },
     "execution_count": 23,
     "metadata": {},
     "output_type": "execute_result"
    }
   ],
   "source": [
    "lst[::-1]"
   ]
  },
  {
   "cell_type": "code",
   "execution_count": 26,
   "id": "f65408be",
   "metadata": {},
   "outputs": [
    {
     "data": {
      "text/plain": [
       "['abc', True, 'male']"
      ]
     },
     "execution_count": 26,
     "metadata": {},
     "output_type": "execute_result"
    }
   ],
   "source": [
    " #All Elements from start to end in step of 2\n",
    "lst[0::2]"
   ]
  },
  {
   "cell_type": "code",
   "execution_count": 27,
   "id": "f1799aa7",
   "metadata": {},
   "outputs": [
    {
     "data": {
      "text/plain": [
       "['male', 40, True, 34, 'abc']"
      ]
     },
     "execution_count": 27,
     "metadata": {},
     "output_type": "execute_result"
    }
   ],
   "source": [
    "#Reverse the list\n",
    "lst[::-1]"
   ]
  },
  {
   "cell_type": "code",
   "execution_count": 29,
   "id": "439c85a5",
   "metadata": {},
   "outputs": [],
   "source": [
    "# Indexing a Nested List (List within list)\n",
    "lst=[1,2,3,4,[40,10]]"
   ]
  },
  {
   "cell_type": "code",
   "execution_count": 30,
   "id": "63a75594",
   "metadata": {},
   "outputs": [
    {
     "data": {
      "text/plain": [
       "[1, 2, 3, 4, [40, 10]]"
      ]
     },
     "execution_count": 30,
     "metadata": {},
     "output_type": "execute_result"
    }
   ],
   "source": [
    "lst"
   ]
  },
  {
   "cell_type": "code",
   "execution_count": 34,
   "id": "57685a84",
   "metadata": {},
   "outputs": [
    {
     "data": {
      "text/plain": [
       "[3, 4, [40, 10]]"
      ]
     },
     "execution_count": 34,
     "metadata": {},
     "output_type": "execute_result"
    }
   ],
   "source": [
    "lst[2:]"
   ]
  },
  {
   "cell_type": "code",
   "execution_count": 35,
   "id": "a0a1d37d",
   "metadata": {},
   "outputs": [
    {
     "name": "stdout",
     "output_type": "stream",
     "text": [
      "<class 'int'>\n",
      "<class 'int'>\n",
      "<class 'int'>\n",
      "<class 'int'>\n",
      "<class 'list'>\n"
     ]
    }
   ],
   "source": [
    "# Slicing in nested List\n",
    "for i in lst:\n",
    "    print(type(i))"
   ]
  },
  {
   "cell_type": "code",
   "execution_count": null,
   "id": "2a7c4644",
   "metadata": {},
   "outputs": [],
   "source": [
    "\n"
   ]
  },
  {
   "cell_type": "code",
   "execution_count": null,
   "id": "91e599e1",
   "metadata": {},
   "outputs": [],
   "source": []
  },
  {
   "cell_type": "code",
   "execution_count": 39,
   "id": "47fa83fa",
   "metadata": {},
   "outputs": [
    {
     "data": {
      "text/plain": [
       "[1, 2, 3]"
      ]
     },
     "execution_count": 39,
     "metadata": {},
     "output_type": "execute_result"
    }
   ],
   "source": [
    "# Slicing Nested List (slicing left to right and not right to left)\n",
    "lst=[1,2,3,4,['a',5,5+6j]]\n",
    "lst[-5:-2]"
   ]
  },
  {
   "cell_type": "code",
   "execution_count": null,
   "id": "0d58fc34",
   "metadata": {},
   "outputs": [],
   "source": []
  },
  {
   "cell_type": "code",
   "execution_count": 40,
   "id": "66348c5d",
   "metadata": {},
   "outputs": [
    {
     "data": {
      "text/plain": [
       "[1, 2, 3, 4, ['a', 5, (5+6j)]]"
      ]
     },
     "execution_count": 40,
     "metadata": {},
     "output_type": "execute_result"
    }
   ],
   "source": [
    "# Nested List (For Loop)\n",
    "lst"
   ]
  },
  {
   "cell_type": "code",
   "execution_count": 41,
   "id": "08b03e40",
   "metadata": {},
   "outputs": [
    {
     "name": "stdout",
     "output_type": "stream",
     "text": [
      "1\n",
      "2\n",
      "3\n",
      "4\n",
      "['a', 5, (5+6j)]\n"
     ]
    }
   ],
   "source": [
    "for i in lst:\n",
    "    print(i)"
   ]
  },
  {
   "cell_type": "markdown",
   "id": "68d2303f",
   "metadata": {},
   "source": [
    "List is mutable"
   ]
  },
  {
   "cell_type": "code",
   "execution_count": 46,
   "id": "beb29a3a",
   "metadata": {},
   "outputs": [
    {
     "data": {
      "text/plain": [
       "[1, 6, 3, 4, [7, 5, (5+6j)]]"
      ]
     },
     "execution_count": 46,
     "metadata": {},
     "output_type": "execute_result"
    }
   ],
   "source": [
    "lst[1]=6\n",
    "lst[4][0]=7\n",
    "lst"
   ]
  },
  {
   "cell_type": "markdown",
   "id": "8efcae85",
   "metadata": {},
   "source": [
    "## Operations with List\n",
    "1) Addition of two lists 2) Multiplication with Scalar 3) Built in Functions 4) Appending List"
   ]
  },
  {
   "cell_type": "code",
   "execution_count": 47,
   "id": "cfbc90d7",
   "metadata": {},
   "outputs": [
    {
     "data": {
      "text/plain": [
       "[2, 3, 4, 5, 6, 4, 5, 6, 7, 8, 9]"
      ]
     },
     "execution_count": 47,
     "metadata": {},
     "output_type": "execute_result"
    }
   ],
   "source": [
    "# Addition of two lists\n",
    "l=[2,3,4,5,6]\n",
    "l1=[4,5,6,7,8,9]\n",
    "l+l1"
   ]
  },
  {
   "cell_type": "code",
   "execution_count": null,
   "id": "35eb0646",
   "metadata": {},
   "outputs": [],
   "source": []
  },
  {
   "cell_type": "code",
   "execution_count": 48,
   "id": "2cab8235",
   "metadata": {},
   "outputs": [
    {
     "data": {
      "text/plain": [
       "[2, 3, 4, 5, 6, 2, 3, 4, 5, 6, 2, 3, 4, 5, 6, 2, 3, 4, 5, 6, 2, 3, 4, 5, 6]"
      ]
     },
     "execution_count": 48,
     "metadata": {},
     "output_type": "execute_result"
    }
   ],
   "source": [
    "# Multiplication with Scalar\n",
    "l*5"
   ]
  },
  {
   "cell_type": "code",
   "execution_count": null,
   "id": "09160532",
   "metadata": {},
   "outputs": [],
   "source": []
  },
  {
   "cell_type": "markdown",
   "id": "4a40677d",
   "metadata": {},
   "source": [
    "## Built in Functions"
   ]
  },
  {
   "cell_type": "code",
   "execution_count": 49,
   "id": "d27db848",
   "metadata": {},
   "outputs": [
    {
     "data": {
      "text/plain": [
       "[4, 5, 6, 7, 8, 9]"
      ]
     },
     "execution_count": 49,
     "metadata": {},
     "output_type": "execute_result"
    }
   ],
   "source": [
    "#We are using the following list\n",
    "\n",
    "l1"
   ]
  },
  {
   "cell_type": "code",
   "execution_count": 50,
   "id": "d5d25f34",
   "metadata": {},
   "outputs": [
    {
     "data": {
      "text/plain": [
       "4"
      ]
     },
     "execution_count": 50,
     "metadata": {},
     "output_type": "execute_result"
    }
   ],
   "source": [
    "\n",
    "min(l1)"
   ]
  },
  {
   "cell_type": "code",
   "execution_count": 51,
   "id": "c799dc2a",
   "metadata": {},
   "outputs": [
    {
     "data": {
      "text/plain": [
       "9"
      ]
     },
     "execution_count": 51,
     "metadata": {},
     "output_type": "execute_result"
    }
   ],
   "source": [
    "max(l1)"
   ]
  },
  {
   "cell_type": "code",
   "execution_count": 52,
   "id": "7795c2a5",
   "metadata": {},
   "outputs": [
    {
     "data": {
      "text/plain": [
       "39"
      ]
     },
     "execution_count": 52,
     "metadata": {},
     "output_type": "execute_result"
    }
   ],
   "source": [
    "sum(l1)"
   ]
  },
  {
   "cell_type": "code",
   "execution_count": 53,
   "id": "001e57fa",
   "metadata": {},
   "outputs": [
    {
     "data": {
      "text/plain": [
       "6"
      ]
     },
     "execution_count": 53,
     "metadata": {},
     "output_type": "execute_result"
    }
   ],
   "source": [
    "len(l1)"
   ]
  },
  {
   "cell_type": "code",
   "execution_count": 56,
   "id": "ea8e706d",
   "metadata": {},
   "outputs": [
    {
     "data": {
      "text/plain": [
       "6.5"
      ]
     },
     "execution_count": 56,
     "metadata": {},
     "output_type": "execute_result"
    }
   ],
   "source": [
    "average=sum(l1)/len(l1)\n",
    "average"
   ]
  },
  {
   "cell_type": "markdown",
   "id": "8d251500",
   "metadata": {},
   "source": [
    "Difference of Lists --> Given 2 lists l1 & l2, Find the elements present in l1 but are absent in l2. This cannot be achieved by simple subtraction of two lists. It is a two step process \n",
    "1) Convert both lists into set by using set function and subtract. It gives output in the set form. \n",
    "2) Convert the set to list"
   ]
  },
  {
   "cell_type": "code",
   "execution_count": 57,
   "id": "cb20bbaf",
   "metadata": {},
   "outputs": [
    {
     "data": {
      "text/plain": [
       "{3, 7}"
      ]
     },
     "execution_count": 57,
     "metadata": {},
     "output_type": "execute_result"
    }
   ],
   "source": [
    "l1=[8,7,4,2,3]\n",
    "l2=[8,6,4,1,2]\n",
    "set(l1)-set(l2)\n"
   ]
  },
  {
   "cell_type": "code",
   "execution_count": null,
   "id": "c595bd87",
   "metadata": {},
   "outputs": [],
   "source": []
  },
  {
   "cell_type": "code",
   "execution_count": null,
   "id": "1d6b52b9",
   "metadata": {},
   "outputs": [],
   "source": []
  },
  {
   "cell_type": "code",
   "execution_count": null,
   "id": "731dbbd8",
   "metadata": {},
   "outputs": [],
   "source": []
  },
  {
   "cell_type": "code",
   "execution_count": null,
   "id": "f9f8f0e5",
   "metadata": {},
   "outputs": [],
   "source": []
  },
  {
   "cell_type": "markdown",
   "id": "c1cab3a7",
   "metadata": {},
   "source": [
    "Append a element to the list --> Append takes only 1 argument"
   ]
  },
  {
   "cell_type": "code",
   "execution_count": 63,
   "id": "3c6b804a",
   "metadata": {},
   "outputs": [
    {
     "data": {
      "text/plain": [
       "[1, 4]"
      ]
     },
     "execution_count": 63,
     "metadata": {},
     "output_type": "execute_result"
    }
   ],
   "source": [
    "lst1=[]\n",
    "lst1.append(1)\n",
    "lst1.append(4)\n",
    "lst1"
   ]
  },
  {
   "cell_type": "code",
   "execution_count": 95,
   "id": "5f09df2a",
   "metadata": {},
   "outputs": [],
   "source": [
    " #takes only one single element in argument, can only append 1 value at a time"
   ]
  },
  {
   "cell_type": "code",
   "execution_count": null,
   "id": "e38befbf",
   "metadata": {},
   "outputs": [],
   "source": []
  },
  {
   "cell_type": "markdown",
   "id": "1f2da870",
   "metadata": {},
   "source": [
    "Append a list to list --> Appends as seperate lists"
   ]
  },
  {
   "cell_type": "code",
   "execution_count": 96,
   "id": "2741235e",
   "metadata": {},
   "outputs": [],
   "source": [
    "#To the above list append a list as follows"
   ]
  },
  {
   "cell_type": "code",
   "execution_count": 67,
   "id": "f35ff874",
   "metadata": {},
   "outputs": [
    {
     "data": {
      "text/plain": [
       "[1, 4, [1, 24, 5], [1, 24, 5], [1, 24, 5]]"
      ]
     },
     "execution_count": 67,
     "metadata": {},
     "output_type": "execute_result"
    }
   ],
   "source": [
    "lst1.append([1,24,5])\n",
    "lst1"
   ]
  },
  {
   "cell_type": "markdown",
   "id": "cde0452a",
   "metadata": {},
   "source": [
    "Extend a list --> Extends within existing list. It also takes one argument at a time"
   ]
  },
  {
   "cell_type": "code",
   "execution_count": 70,
   "id": "e0fff957",
   "metadata": {},
   "outputs": [
    {
     "data": {
      "text/plain": [
       "[1, 4, [1, 24, 5], [1, 24, 5], [1, 24, 5], 1, 2, 34, 1, 2, 34]"
      ]
     },
     "execution_count": 70,
     "metadata": {},
     "output_type": "execute_result"
    }
   ],
   "source": [
    "lst1.extend([1,2,34])\n",
    "lst1"
   ]
  },
  {
   "cell_type": "code",
   "execution_count": 77,
   "id": "2dc8f9c1",
   "metadata": {},
   "outputs": [
    {
     "data": {
      "text/plain": [
       "[1, 2, 3, 4, 5, [1, 2, 3, 4]]"
      ]
     },
     "execution_count": 77,
     "metadata": {},
     "output_type": "execute_result"
    }
   ],
   "source": [
    "lst=[1,2,3,4,5]\n",
    "len(lst)\n",
    "lst.append([1,2,3,4])\n",
    "len(lst)\n",
    "lst"
   ]
  },
  {
   "cell_type": "code",
   "execution_count": 97,
   "id": "2f2d8023",
   "metadata": {},
   "outputs": [],
   "source": [
    "#If we need to extend the list with a list inside list, the argument needs to be passed in double square bracket"
   ]
  },
  {
   "cell_type": "code",
   "execution_count": 80,
   "id": "429082c4",
   "metadata": {},
   "outputs": [
    {
     "data": {
      "text/plain": [
       "[1, 2, 3, 4, 5, [1, 2, 3, 4], [1, 2, 3, 5], [1, 2, 3, 5]]"
      ]
     },
     "execution_count": 80,
     "metadata": {},
     "output_type": "execute_result"
    }
   ],
   "source": [
    "lst.extend([[1,2,3,5]])\n",
    "lst"
   ]
  },
  {
   "cell_type": "markdown",
   "id": "f5ed3ef1",
   "metadata": {},
   "source": [
    "Sorting a List"
   ]
  },
  {
   "cell_type": "code",
   "execution_count": 81,
   "id": "b4dc41f8",
   "metadata": {},
   "outputs": [
    {
     "data": {
      "text/plain": [
       "[2, 2, 3, 3, 4, 5, 67]"
      ]
     },
     "execution_count": 81,
     "metadata": {},
     "output_type": "execute_result"
    }
   ],
   "source": [
    "lst=[2,3,4,5,67,2,3]\n",
    "sorted(lst)"
   ]
  },
  {
   "cell_type": "code",
   "execution_count": 83,
   "id": "7b62e036",
   "metadata": {},
   "outputs": [
    {
     "data": {
      "text/plain": [
       "[1, 2, 3, 4, 5, [4, 5, 6, 25]]"
      ]
     },
     "execution_count": 83,
     "metadata": {},
     "output_type": "execute_result"
    }
   ],
   "source": [
    "# Sorting a nested list\n",
    "lst=[1,2,3,4,5,[5,4,25,6]]\n",
    "lst[5].sort()\n",
    "lst"
   ]
  },
  {
   "cell_type": "code",
   "execution_count": null,
   "id": "d3f6b229",
   "metadata": {},
   "outputs": [],
   "source": []
  },
  {
   "cell_type": "code",
   "execution_count": null,
   "id": "7792d5cf",
   "metadata": {},
   "outputs": [],
   "source": []
  },
  {
   "cell_type": "markdown",
   "id": "606ddb4f",
   "metadata": {},
   "source": [
    "#### Removing element from list 1) Removing by Index 2) Removing by Specifying the element to be removed 3) Removing by Range\n",
    "\n",
    "Removing a element in list by Index"
   ]
  },
  {
   "cell_type": "code",
   "execution_count": 92,
   "id": "5e21d0bf",
   "metadata": {},
   "outputs": [
    {
     "data": {
      "text/plain": [
       "[1, 3, 4, 'asv', 'jksf']"
      ]
     },
     "execution_count": 92,
     "metadata": {},
     "output_type": "execute_result"
    }
   ],
   "source": [
    "lst=[1,2,3,4,\"asv\",\"jksf\"]\n",
    "lst.pop(1)\n",
    "lst"
   ]
  },
  {
   "cell_type": "code",
   "execution_count": 93,
   "id": "322b2f33",
   "metadata": {},
   "outputs": [
    {
     "data": {
      "text/plain": [
       "[1, 3, 4, 'jksf']"
      ]
     },
     "execution_count": 93,
     "metadata": {},
     "output_type": "execute_result"
    }
   ],
   "source": [
    "lst.remove(\"asv\")\n",
    "lst"
   ]
  },
  {
   "cell_type": "code",
   "execution_count": 96,
   "id": "c61eaa93",
   "metadata": {},
   "outputs": [
    {
     "data": {
      "text/plain": [
       "[1, 74, 57]"
      ]
     },
     "execution_count": 96,
     "metadata": {},
     "output_type": "execute_result"
    }
   ],
   "source": [
    "lst=[1,2,4,6,74,57]\n",
    "del lst[1:4]\n",
    "lst"
   ]
  },
  {
   "cell_type": "markdown",
   "id": "a0bbeebd",
   "metadata": {},
   "source": [
    "Convert a String to list"
   ]
  },
  {
   "cell_type": "code",
   "execution_count": 98,
   "id": "43a7dd99",
   "metadata": {},
   "outputs": [
    {
     "data": {
      "text/plain": [
       "['d', 'a', 't', 'a', ' ', 'S', 'c', 'i', 'e', 'n', 'c', 'e']"
      ]
     },
     "execution_count": 98,
     "metadata": {},
     "output_type": "execute_result"
    }
   ],
   "source": [
    "s=\"data Science\"\n",
    "list(s)"
   ]
  },
  {
   "cell_type": "raw",
   "id": "e68ce9ff",
   "metadata": {},
   "source": [
    "To find unique elements of list "
   ]
  },
  {
   "cell_type": "code",
   "execution_count": 102,
   "id": "9f1e242d",
   "metadata": {},
   "outputs": [
    {
     "data": {
      "text/plain": [
       "[1, 2, 3, 4, 5]"
      ]
     },
     "execution_count": 102,
     "metadata": {},
     "output_type": "execute_result"
    }
   ],
   "source": [
    "# Step 1 : Use Set Function. It gives the output as Set.\n",
    "lst=[1,1,2,2,3,4,4,5,5]\n",
    "x=list(set(lst))\n",
    "x"
   ]
  },
  {
   "cell_type": "code",
   "execution_count": 100,
   "id": "9494ee16",
   "metadata": {},
   "outputs": [],
   "source": [
    "# Step 2 : Convert set to list"
   ]
  },
  {
   "cell_type": "code",
   "execution_count": null,
   "id": "17448fa1",
   "metadata": {},
   "outputs": [],
   "source": []
  },
  {
   "cell_type": "markdown",
   "id": "99d25028",
   "metadata": {},
   "source": [
    "# 3. Dictionary"
   ]
  },
  {
   "cell_type": "markdown",
   "id": "60c30cbb",
   "metadata": {},
   "source": [
    "Dictionary is like a list. It is an unordered collection of items. Sequence does not matter Dictionary is Mutable Each item of dictionary has a key / value pair. The association of a key and a value is called a key-value pair or an item While the values can be of any data type and can repeat, keys must be of immutable type (string, number or tuple with immutable elements) and must be unique Dictionaries are used to store data values in key:value pairs."
   ]
  },
  {
   "cell_type": "code",
   "execution_count": null,
   "id": "7c2ebe8f",
   "metadata": {},
   "outputs": [],
   "source": []
  },
  {
   "cell_type": "markdown",
   "id": "d0eaf298",
   "metadata": {},
   "source": [
    "#### Creating a dictionary \n",
    "1)By using Curly braces \n",
    "2)By using 'dict' function and passing list of tuples \n",
    "3)By assigning value to a key"
   ]
  },
  {
   "cell_type": "markdown",
   "id": "879bcbb8",
   "metadata": {},
   "source": [
    "1)By Using Curly braces"
   ]
  },
  {
   "cell_type": "code",
   "execution_count": 104,
   "id": "4ddc4230",
   "metadata": {},
   "outputs": [
    {
     "data": {
      "text/plain": [
       "dict"
      ]
     },
     "execution_count": 104,
     "metadata": {},
     "output_type": "execute_result"
    }
   ],
   "source": [
    "dist={'a':100,'b':300}\n",
    "type(dist)"
   ]
  },
  {
   "cell_type": "markdown",
   "id": "327c4dc4",
   "metadata": {},
   "source": [
    "2)By using 'dict' function and passing list of tuples"
   ]
  },
  {
   "cell_type": "code",
   "execution_count": 107,
   "id": "c5946f07",
   "metadata": {},
   "outputs": [
    {
     "data": {
      "text/plain": [
       "dict"
      ]
     },
     "execution_count": 107,
     "metadata": {},
     "output_type": "execute_result"
    }
   ],
   "source": [
    "x=dict([('a',100),('b',300)])\n",
    "type(x)"
   ]
  },
  {
   "cell_type": "markdown",
   "id": "b5922429",
   "metadata": {},
   "source": [
    "3)By Creating a blank dictionary and assigning values to respective keys\""
   ]
  },
  {
   "cell_type": "code",
   "execution_count": 114,
   "id": "59c1a4d6",
   "metadata": {},
   "outputs": [
    {
     "data": {
      "text/plain": [
       "{4: 'data', 5: 'joker'}"
      ]
     },
     "execution_count": 114,
     "metadata": {},
     "output_type": "execute_result"
    }
   ],
   "source": [
    "d={}\n",
    "d[4]=\"data\"\n",
    "d\n",
    "d[5]=\"group\"\n",
    "d[5]=\"joker\"\n",
    "d"
   ]
  },
  {
   "cell_type": "markdown",
   "id": "95538ba3",
   "metadata": {},
   "source": [
    "### Accessing Dictionary Items\n",
    "1)Get Items 2)Get Keys 3)Get Values\n",
    "\n",
    "Get all the Items (Key Value Pair) from Dictionary as a list"
   ]
  },
  {
   "cell_type": "code",
   "execution_count": 116,
   "id": "73c0cbb9",
   "metadata": {},
   "outputs": [
    {
     "data": {
      "text/plain": [
       "dict_items([('brand', 'Ford'), ('model', 'Mustang'), ('year', 1964)])"
      ]
     },
     "execution_count": 116,
     "metadata": {},
     "output_type": "execute_result"
    }
   ],
   "source": [
    "dict = {\"brand\": \"Ford\", \"model\": \"Mustang\", \"year\": 1964}\n",
    "dict.items()"
   ]
  },
  {
   "cell_type": "markdown",
   "id": "78e6195a",
   "metadata": {},
   "source": [
    "Get all the Keys from Dictionary as a list"
   ]
  },
  {
   "cell_type": "code",
   "execution_count": 117,
   "id": "dd8f7858",
   "metadata": {},
   "outputs": [
    {
     "data": {
      "text/plain": [
       "dict_keys(['brand', 'model', 'year'])"
      ]
     },
     "execution_count": 117,
     "metadata": {},
     "output_type": "execute_result"
    }
   ],
   "source": [
    "dict.keys()"
   ]
  },
  {
   "cell_type": "markdown",
   "id": "15b4fac2",
   "metadata": {},
   "source": [
    "Get all the Values from Dictionary as a list"
   ]
  },
  {
   "cell_type": "code",
   "execution_count": 118,
   "id": "eafeeec4",
   "metadata": {},
   "outputs": [
    {
     "data": {
      "text/plain": [
       "dict_values(['Ford', 'Mustang', 1964])"
      ]
     },
     "execution_count": 118,
     "metadata": {},
     "output_type": "execute_result"
    }
   ],
   "source": [
    "dict.values()"
   ]
  },
  {
   "cell_type": "markdown",
   "id": "cfd77908",
   "metadata": {},
   "source": [
    "Get specific 'value' corresponding to the 'key' using 'get' function"
   ]
  },
  {
   "cell_type": "code",
   "execution_count": 119,
   "id": "ef46da18",
   "metadata": {},
   "outputs": [
    {
     "data": {
      "text/plain": [
       "'Ford'"
      ]
     },
     "execution_count": 119,
     "metadata": {},
     "output_type": "execute_result"
    }
   ],
   "source": [
    "dict.get('brand')"
   ]
  },
  {
   "cell_type": "markdown",
   "id": "86075fe2",
   "metadata": {},
   "source": [
    "Get specific 'value' corresponding to the 'key' using 'pop' function"
   ]
  },
  {
   "cell_type": "code",
   "execution_count": 125,
   "id": "92b032a4",
   "metadata": {},
   "outputs": [
    {
     "data": {
      "text/plain": [
       "{'model': 'Mustang', 'year': 1964}"
      ]
     },
     "execution_count": 125,
     "metadata": {},
     "output_type": "execute_result"
    }
   ],
   "source": [
    "dict\n"
   ]
  },
  {
   "cell_type": "markdown",
   "id": "1eddb9e9",
   "metadata": {},
   "source": [
    "Adding key value pair in a dictionary"
   ]
  },
  {
   "cell_type": "code",
   "execution_count": 127,
   "id": "64fda6d0",
   "metadata": {},
   "outputs": [
    {
     "data": {
      "text/plain": [
       "{'model': 'Mustang', 'year': 1964, 'brand': 'ford'}"
      ]
     },
     "execution_count": 127,
     "metadata": {},
     "output_type": "execute_result"
    }
   ],
   "source": [
    "dict[\"brand\"]=\"ford\"\n",
    "dict"
   ]
  },
  {
   "cell_type": "markdown",
   "id": "49cd95e4",
   "metadata": {},
   "source": [
    "Deleting a key value pair using 'del' function"
   ]
  },
  {
   "cell_type": "code",
   "execution_count": 130,
   "id": "eb5ead11",
   "metadata": {},
   "outputs": [
    {
     "data": {
      "text/plain": [
       "{'year': 1964, 'brand': 'ford'}"
      ]
     },
     "execution_count": 130,
     "metadata": {},
     "output_type": "execute_result"
    }
   ],
   "source": [
    "# del dict[\"model\"]\n",
    "dict"
   ]
  },
  {
   "cell_type": "markdown",
   "id": "b4b4fe7d",
   "metadata": {},
   "source": [
    "Finding Length of Dictionary"
   ]
  },
  {
   "cell_type": "code",
   "execution_count": 131,
   "id": "3abe93a7",
   "metadata": {},
   "outputs": [
    {
     "data": {
      "text/plain": [
       "2"
      ]
     },
     "execution_count": 131,
     "metadata": {},
     "output_type": "execute_result"
    }
   ],
   "source": [
    "len(dict)"
   ]
  },
  {
   "cell_type": "markdown",
   "id": "da0bfd51",
   "metadata": {},
   "source": [
    "Updating a dictionary (Alternative way)"
   ]
  },
  {
   "cell_type": "code",
   "execution_count": 133,
   "id": "bace30d1",
   "metadata": {},
   "outputs": [
    {
     "data": {
      "text/plain": [
       "{'year': 1980, 'brand': 'ford'}"
      ]
     },
     "execution_count": 133,
     "metadata": {},
     "output_type": "execute_result"
    }
   ],
   "source": [
    "dict.update({\"year\":1980})\n",
    "dict"
   ]
  },
  {
   "cell_type": "markdown",
   "id": "8c71dff9",
   "metadata": {},
   "source": [
    "Clearing all items of dictionary using clear function"
   ]
  },
  {
   "cell_type": "code",
   "execution_count": 135,
   "id": "11a6d81b",
   "metadata": {},
   "outputs": [
    {
     "data": {
      "text/plain": [
       "{}"
      ]
     },
     "execution_count": 135,
     "metadata": {},
     "output_type": "execute_result"
    }
   ],
   "source": [
    "dict.clear()\n",
    "dict"
   ]
  },
  {
   "cell_type": "markdown",
   "id": "6097e2cb",
   "metadata": {},
   "source": [
    "Update dictionary using update function"
   ]
  },
  {
   "cell_type": "code",
   "execution_count": 140,
   "id": "ebe310d5",
   "metadata": {},
   "outputs": [
    {
     "data": {
      "text/plain": [
       "{1: 20, 2: 39}"
      ]
     },
     "execution_count": 140,
     "metadata": {},
     "output_type": "execute_result"
    }
   ],
   "source": [
    "# example of update of dictionary (Aggregating various dictionaries)\n",
    "d1={1:20,2:39}\n",
    "d2={2:20,4:50}\n",
    "d3={}\n",
    "d3.update(d1)\n",
    "d3."
   ]
  },
  {
   "cell_type": "code",
   "execution_count": 142,
   "id": "ca2f353f",
   "metadata": {},
   "outputs": [
    {
     "data": {
      "text/plain": [
       "{1: 20, 2: 20, 4: 50}"
      ]
     },
     "execution_count": 142,
     "metadata": {},
     "output_type": "execute_result"
    }
   ],
   "source": [
    "d3.update(d2)\n",
    "d3"
   ]
  },
  {
   "cell_type": "markdown",
   "id": "abcf3bb2",
   "metadata": {},
   "source": [
    "For Loop using dictionary"
   ]
  },
  {
   "cell_type": "code",
   "execution_count": 143,
   "id": "e1777fed",
   "metadata": {},
   "outputs": [
    {
     "name": "stdout",
     "output_type": "stream",
     "text": [
      "A\n",
      "B\n",
      "C\n"
     ]
    }
   ],
   "source": [
    "#For loop loops over the Keys\n",
    "d={'A':100,'B':200,'C':300}\n",
    "for i in d:\n",
    "    print(i)"
   ]
  },
  {
   "cell_type": "code",
   "execution_count": 144,
   "id": "0722c162",
   "metadata": {},
   "outputs": [
    {
     "name": "stdout",
     "output_type": "stream",
     "text": [
      "100\n",
      "200\n",
      "300\n"
     ]
    }
   ],
   "source": [
    "#For looping over the values\n",
    "d={'A':100,'B':200,'C':300}\n",
    "for i in d:\n",
    "    print(d[i])"
   ]
  },
  {
   "cell_type": "code",
   "execution_count": 147,
   "id": "28f275ee",
   "metadata": {},
   "outputs": [
    {
     "name": "stdout",
     "output_type": "stream",
     "text": [
      "A 100\n",
      "B 200\n",
      "C 300\n"
     ]
    }
   ],
   "source": [
    "#For Looping over the items (key value pair)\n",
    "for key,value in d.items():\n",
    "    print(key,value)"
   ]
  },
  {
   "cell_type": "code",
   "execution_count": null,
   "id": "3d035c14",
   "metadata": {},
   "outputs": [],
   "source": []
  },
  {
   "cell_type": "markdown",
   "id": "47cd7997",
   "metadata": {},
   "source": [
    "Storing above dictionary keys, values and items in the list"
   ]
  },
  {
   "cell_type": "code",
   "execution_count": 148,
   "id": "58188159",
   "metadata": {},
   "outputs": [
    {
     "data": {
      "text/plain": [
       "['A', 'B', 'C']"
      ]
     },
     "execution_count": 148,
     "metadata": {},
     "output_type": "execute_result"
    }
   ],
   "source": [
    "list(d.keys())"
   ]
  },
  {
   "cell_type": "code",
   "execution_count": 149,
   "id": "2160cdc6",
   "metadata": {},
   "outputs": [
    {
     "data": {
      "text/plain": [
       "[100, 200, 300]"
      ]
     },
     "execution_count": 149,
     "metadata": {},
     "output_type": "execute_result"
    }
   ],
   "source": [
    "list(d.values())"
   ]
  },
  {
   "cell_type": "code",
   "execution_count": 150,
   "id": "6bc50639",
   "metadata": {},
   "outputs": [
    {
     "data": {
      "text/plain": [
       "[('A', 100), ('B', 200), ('C', 300)]"
      ]
     },
     "execution_count": 150,
     "metadata": {},
     "output_type": "execute_result"
    }
   ],
   "source": [
    "list(d.items())"
   ]
  },
  {
   "cell_type": "markdown",
   "id": "bc0d8f1e",
   "metadata": {},
   "source": [
    "# 4. Tuples\n",
    "Python tuples are a data structure that store an ordered sequence of values. Tuples are immutable. This means you cannot change the values in a tuple. Tuples are defined with parenthesis. Individual values in a tuple are called items. Tuples can store any data type. Tuples are similar to Python lists, with one big difference: you cannot modify a tuple. For example, you may use a tuple to store a list of employee names. You could use a tuple to store a list of ice cream flavors stocked at an ice cream shop.\n",
    "\n",
    "Creating Tuple 1) By Round Bracket 2) By passing a list to 'tuple' function"
   ]
  },
  {
   "cell_type": "markdown",
   "id": "52c274d6",
   "metadata": {},
   "source": [
    "By Round Bracket"
   ]
  },
  {
   "cell_type": "code",
   "execution_count": 155,
   "id": "d2314367",
   "metadata": {},
   "outputs": [
    {
     "data": {
      "text/plain": [
       "tuple"
      ]
     },
     "execution_count": 155,
     "metadata": {},
     "output_type": "execute_result"
    }
   ],
   "source": [
    "t=(2,3)\n",
    "type(t)"
   ]
  },
  {
   "cell_type": "code",
   "execution_count": null,
   "id": "c61ba94e",
   "metadata": {},
   "outputs": [],
   "source": []
  },
  {
   "cell_type": "markdown",
   "id": "3a220594",
   "metadata": {},
   "source": [
    "By passing a list to the 'tuple' function"
   ]
  },
  {
   "cell_type": "code",
   "execution_count": 160,
   "id": "8c8f0283",
   "metadata": {},
   "outputs": [
    {
     "data": {
      "text/plain": [
       "(1, 2, 3, 4, 5, 'string')"
      ]
     },
     "execution_count": 160,
     "metadata": {},
     "output_type": "execute_result"
    }
   ],
   "source": [
    "t1=tuple([1,2,3,4,5,\"string\"])\n",
    "t1"
   ]
  },
  {
   "cell_type": "code",
   "execution_count": null,
   "id": "59966420",
   "metadata": {},
   "outputs": [],
   "source": []
  },
  {
   "cell_type": "markdown",
   "id": "fbb20390",
   "metadata": {},
   "source": [
    "Accessing items of tuple\n",
    "\n",
    "Indexing a tuple (Similar to string and list)"
   ]
  },
  {
   "cell_type": "code",
   "execution_count": 163,
   "id": "377e6391",
   "metadata": {},
   "outputs": [
    {
     "data": {
      "text/plain": [
       "'string'"
      ]
     },
     "execution_count": 163,
     "metadata": {},
     "output_type": "execute_result"
    }
   ],
   "source": [
    "t1[-1]"
   ]
  },
  {
   "cell_type": "code",
   "execution_count": null,
   "id": "c9d623c7",
   "metadata": {},
   "outputs": [],
   "source": []
  },
  {
   "cell_type": "code",
   "execution_count": null,
   "id": "24ed9f00",
   "metadata": {},
   "outputs": [],
   "source": []
  },
  {
   "cell_type": "markdown",
   "id": "55ba7a5a",
   "metadata": {},
   "source": [
    "Slicing a Tuple (Similar to string and list)"
   ]
  },
  {
   "cell_type": "code",
   "execution_count": 164,
   "id": "bb5ad6dd",
   "metadata": {},
   "outputs": [
    {
     "data": {
      "text/plain": [
       "(1, 2, 3)"
      ]
     },
     "execution_count": 164,
     "metadata": {},
     "output_type": "execute_result"
    }
   ],
   "source": [
    "t1[0:3]"
   ]
  },
  {
   "cell_type": "markdown",
   "id": "4ad4fbfc",
   "metadata": {},
   "source": [
    "Tuple is not mutable (immutable)"
   ]
  },
  {
   "cell_type": "code",
   "execution_count": 165,
   "id": "9add24fe",
   "metadata": {},
   "outputs": [
    {
     "ename": "TypeError",
     "evalue": "'tuple' object does not support item assignment",
     "output_type": "error",
     "traceback": [
      "\u001b[1;31m---------------------------------------------------------------------------\u001b[0m",
      "\u001b[1;31mTypeError\u001b[0m                                 Traceback (most recent call last)",
      "Cell \u001b[1;32mIn[165], line 1\u001b[0m\n\u001b[1;32m----> 1\u001b[0m t[\u001b[38;5;241m0\u001b[39m]\u001b[38;5;241m=\u001b[39m\u001b[38;5;241m6\u001b[39m\n",
      "\u001b[1;31mTypeError\u001b[0m: 'tuple' object does not support item assignment"
     ]
    }
   ],
   "source": [
    "t[0]=6"
   ]
  },
  {
   "cell_type": "code",
   "execution_count": null,
   "id": "13f37349",
   "metadata": {},
   "outputs": [],
   "source": []
  },
  {
   "cell_type": "markdown",
   "id": "23423bd6",
   "metadata": {},
   "source": [
    "Tuple Operations 1)Concatenation 2)Multiplication with Scalar 3)Length of tuple 4)Max element in a Tuple 4)Comparing two tuples\n",
    "\n",
    "Concatenation (Similar to Strings & List)"
   ]
  },
  {
   "cell_type": "code",
   "execution_count": 167,
   "id": "a8ff32c1",
   "metadata": {},
   "outputs": [
    {
     "data": {
      "text/plain": [
       "('blue', 'green', 'red', 'yellow')"
      ]
     },
     "execution_count": 167,
     "metadata": {},
     "output_type": "execute_result"
    }
   ],
   "source": [
    "t1=(\"blue\",\"green\",\"red\")\n",
    "t2=(\"yellow\",)\n",
    "t1+t2"
   ]
  },
  {
   "cell_type": "markdown",
   "id": "d1aa00bc",
   "metadata": {},
   "source": [
    "Multiplication with Scalar"
   ]
  },
  {
   "cell_type": "code",
   "execution_count": 168,
   "id": "47034a03",
   "metadata": {},
   "outputs": [
    {
     "data": {
      "text/plain": [
       "('blue', 'green', 'red', 'blue', 'green', 'red', 'blue', 'green', 'red')"
      ]
     },
     "execution_count": 168,
     "metadata": {},
     "output_type": "execute_result"
    }
   ],
   "source": [
    "t1*3"
   ]
  },
  {
   "cell_type": "markdown",
   "id": "502021d7",
   "metadata": {},
   "source": [
    "Length of a tuple"
   ]
  },
  {
   "cell_type": "code",
   "execution_count": 169,
   "id": "c27932b9",
   "metadata": {},
   "outputs": [
    {
     "data": {
      "text/plain": [
       "3"
      ]
     },
     "execution_count": 169,
     "metadata": {},
     "output_type": "execute_result"
    }
   ],
   "source": [
    "len(t1)"
   ]
  },
  {
   "cell_type": "markdown",
   "id": "9e731b23",
   "metadata": {},
   "source": [
    "Comparing two tuples"
   ]
  },
  {
   "cell_type": "code",
   "execution_count": 170,
   "id": "2d33d24f",
   "metadata": {},
   "outputs": [
    {
     "data": {
      "text/plain": [
       "True"
      ]
     },
     "execution_count": 170,
     "metadata": {},
     "output_type": "execute_result"
    }
   ],
   "source": [
    "t1<t2"
   ]
  },
  {
   "cell_type": "markdown",
   "id": "90e744c8",
   "metadata": {},
   "source": [
    "Max element in a tuple"
   ]
  },
  {
   "cell_type": "code",
   "execution_count": 171,
   "id": "7dba2e1f",
   "metadata": {},
   "outputs": [
    {
     "data": {
      "text/plain": [
       "5"
      ]
     },
     "execution_count": 171,
     "metadata": {},
     "output_type": "execute_result"
    }
   ],
   "source": [
    "t1=(1,2,3,4,5)\n",
    "max(t1)"
   ]
  },
  {
   "cell_type": "markdown",
   "id": "24183ead",
   "metadata": {},
   "source": [
    "Min element in a tuple"
   ]
  },
  {
   "cell_type": "code",
   "execution_count": 172,
   "id": "47c0d83c",
   "metadata": {},
   "outputs": [
    {
     "data": {
      "text/plain": [
       "1"
      ]
     },
     "execution_count": 172,
     "metadata": {},
     "output_type": "execute_result"
    }
   ],
   "source": [
    "min(t1)"
   ]
  },
  {
   "cell_type": "markdown",
   "id": "a41fd917",
   "metadata": {},
   "source": [
    "Sum of elements of tuple"
   ]
  },
  {
   "cell_type": "code",
   "execution_count": 173,
   "id": "feb390fd",
   "metadata": {},
   "outputs": [
    {
     "data": {
      "text/plain": [
       "15"
      ]
     },
     "execution_count": 173,
     "metadata": {},
     "output_type": "execute_result"
    }
   ],
   "source": [
    "sum(t1)"
   ]
  },
  {
   "cell_type": "markdown",
   "id": "bef47e0f",
   "metadata": {},
   "source": [
    "For loop over tuple"
   ]
  },
  {
   "cell_type": "code",
   "execution_count": 176,
   "id": "a43eb09f",
   "metadata": {},
   "outputs": [
    {
     "name": "stdout",
     "output_type": "stream",
     "text": [
      "1\n",
      "2\n",
      "3\n",
      "4\n",
      "5\n"
     ]
    }
   ],
   "source": [
    "for i in t1:\n",
    "    print(i)"
   ]
  },
  {
   "cell_type": "markdown",
   "id": "b6a6e523",
   "metadata": {},
   "source": [
    "Finding Unique elements in a tuple using set function. Here output is a set data type. This can be converted to tuple by passing the set to tuple function"
   ]
  },
  {
   "cell_type": "code",
   "execution_count": 178,
   "id": "f2c29e6d",
   "metadata": {},
   "outputs": [],
   "source": [
    "t1=(2,3,3,2,5,3,4,5,4)\n",
    "s1=set(t1)"
   ]
  },
  {
   "cell_type": "markdown",
   "id": "26982e45",
   "metadata": {},
   "source": [
    "Converting set to tuple"
   ]
  },
  {
   "cell_type": "code",
   "execution_count": 179,
   "id": "a572fbf9",
   "metadata": {},
   "outputs": [
    {
     "data": {
      "text/plain": [
       "(2, 3, 4, 5)"
      ]
     },
     "execution_count": 179,
     "metadata": {},
     "output_type": "execute_result"
    }
   ],
   "source": [
    "tuple(s1)"
   ]
  },
  {
   "cell_type": "code",
   "execution_count": null,
   "id": "4ca1f748",
   "metadata": {},
   "outputs": [],
   "source": []
  },
  {
   "cell_type": "markdown",
   "id": "21bf7a47",
   "metadata": {},
   "source": [
    "# 5. Sets\n",
    "Set is unordered collection of items. In sets sequence does not matter and indexing has no meaning Sets are denoted by curly braces. Every set item is unique (no duplicates) and are immutable (cannot be changed). However,  Sets can be used to perform mathematical set operations like union, intersection, symmetric difference etc. Sets can have any number of items and they may be of different data types - integer, float, tuple, string etc. However set cannot hold mutable items like lists, set or dictionaries."
   ]
  },
  {
   "cell_type": "code",
   "execution_count": null,
   "id": "5da6401e",
   "metadata": {},
   "outputs": [],
   "source": []
  },
  {
   "cell_type": "markdown",
   "id": "18bb2edb",
   "metadata": {},
   "source": [
    "Sets cannot have duplicate items"
   ]
  },
  {
   "cell_type": "code",
   "execution_count": 2,
   "id": "b9136be3",
   "metadata": {},
   "outputs": [
    {
     "data": {
      "text/plain": [
       "{1, 2, 3, 4, 'Hellow'}"
      ]
     },
     "execution_count": 2,
     "metadata": {},
     "output_type": "execute_result"
    }
   ],
   "source": [
    "s={1,2,3,4,4,4,'Hellow'}\n",
    "s"
   ]
  },
  {
   "cell_type": "markdown",
   "id": "4bbf68bd",
   "metadata": {},
   "source": [
    "Items of set are Immutable"
   ]
  },
  {
   "cell_type": "code",
   "execution_count": 3,
   "id": "f8f67efe",
   "metadata": {},
   "outputs": [
    {
     "ename": "TypeError",
     "evalue": "'set' object does not support item assignment",
     "output_type": "error",
     "traceback": [
      "\u001b[1;31m---------------------------------------------------------------------------\u001b[0m",
      "\u001b[1;31mTypeError\u001b[0m                                 Traceback (most recent call last)",
      "Cell \u001b[1;32mIn[3], line 1\u001b[0m\n\u001b[1;32m----> 1\u001b[0m s[\u001b[38;5;241m0\u001b[39m]\u001b[38;5;241m=\u001b[39m\u001b[38;5;241m5\u001b[39m\n",
      "\u001b[1;31mTypeError\u001b[0m: 'set' object does not support item assignment"
     ]
    }
   ],
   "source": [
    "s[0]=5"
   ]
  },
  {
   "cell_type": "markdown",
   "id": "fa993c62",
   "metadata": {},
   "source": [
    "Set is unordered collection of items. Hence cannot be indexed"
   ]
  },
  {
   "cell_type": "code",
   "execution_count": null,
   "id": "6f83dfb9",
   "metadata": {},
   "outputs": [],
   "source": [
    "s={1,2,3,4,4,5}"
   ]
  },
  {
   "cell_type": "code",
   "execution_count": 4,
   "id": "06a4ef0a",
   "metadata": {},
   "outputs": [
    {
     "ename": "TypeError",
     "evalue": "'set' object is not subscriptable",
     "output_type": "error",
     "traceback": [
      "\u001b[1;31m---------------------------------------------------------------------------\u001b[0m",
      "\u001b[1;31mTypeError\u001b[0m                                 Traceback (most recent call last)",
      "Cell \u001b[1;32mIn[4], line 1\u001b[0m\n\u001b[1;32m----> 1\u001b[0m s[\u001b[38;5;241m0\u001b[39m]\n",
      "\u001b[1;31mTypeError\u001b[0m: 'set' object is not subscriptable"
     ]
    }
   ],
   "source": [
    "s[0]"
   ]
  },
  {
   "cell_type": "markdown",
   "id": "3c99b625",
   "metadata": {},
   "source": [
    "Creating a Set 1) Using 'set' function and passing a tuple or a list to set function\n",
    "\n",
    "By passing a tuple to set function"
   ]
  },
  {
   "cell_type": "code",
   "execution_count": 6,
   "id": "8806e423",
   "metadata": {},
   "outputs": [
    {
     "data": {
      "text/plain": [
       "{1, 2, 3, 4, 5}"
      ]
     },
     "execution_count": 6,
     "metadata": {},
     "output_type": "execute_result"
    }
   ],
   "source": [
    "s=set((1,2,3,4,5))\n",
    "s"
   ]
  },
  {
   "cell_type": "code",
   "execution_count": null,
   "id": "154759a7",
   "metadata": {},
   "outputs": [],
   "source": []
  },
  {
   "cell_type": "markdown",
   "id": "b50dcd10",
   "metadata": {},
   "source": [
    "By passing a list to set function\n",
    "\n"
   ]
  },
  {
   "cell_type": "code",
   "execution_count": 8,
   "id": "724d77ac",
   "metadata": {},
   "outputs": [],
   "source": [
    "s=set([1,2,3,4,5])"
   ]
  },
  {
   "cell_type": "code",
   "execution_count": 9,
   "id": "60a2fd78",
   "metadata": {},
   "outputs": [
    {
     "data": {
      "text/plain": [
       "set"
      ]
     },
     "execution_count": 9,
     "metadata": {},
     "output_type": "execute_result"
    }
   ],
   "source": [
    "type(s)"
   ]
  },
  {
   "cell_type": "markdown",
   "id": "ac5f5393",
   "metadata": {},
   "source": [
    "Creating Blank Set"
   ]
  },
  {
   "cell_type": "code",
   "execution_count": 11,
   "id": "98199ba4",
   "metadata": {},
   "outputs": [
    {
     "data": {
      "text/plain": [
       "set()"
      ]
     },
     "execution_count": 11,
     "metadata": {},
     "output_type": "execute_result"
    }
   ],
   "source": [
    "s=set()\n",
    "s"
   ]
  },
  {
   "cell_type": "code",
   "execution_count": 12,
   "id": "b6227716",
   "metadata": {},
   "outputs": [
    {
     "data": {
      "text/plain": [
       "set"
      ]
     },
     "execution_count": 12,
     "metadata": {},
     "output_type": "execute_result"
    }
   ],
   "source": [
    "type(s)"
   ]
  },
  {
   "cell_type": "markdown",
   "id": "cfd22230",
   "metadata": {},
   "source": [
    "Updating the Set with the tuple"
   ]
  },
  {
   "cell_type": "code",
   "execution_count": 14,
   "id": "37d363c0",
   "metadata": {},
   "outputs": [
    {
     "data": {
      "text/plain": [
       "{1, 2, 3, 4, 5, 6}"
      ]
     },
     "execution_count": 14,
     "metadata": {},
     "output_type": "execute_result"
    }
   ],
   "source": [
    "t=(1,2,3,4,5,6,6,5)\n",
    "s=set()\n",
    "s.update(t)\n",
    "s"
   ]
  },
  {
   "cell_type": "code",
   "execution_count": null,
   "id": "c5fced01",
   "metadata": {},
   "outputs": [],
   "source": []
  },
  {
   "cell_type": "markdown",
   "id": "5fe02b93",
   "metadata": {},
   "source": [
    "Updating the Set with the list --> Cannot Update as List is mutable"
   ]
  },
  {
   "cell_type": "code",
   "execution_count": 17,
   "id": "6ab215e4",
   "metadata": {},
   "outputs": [
    {
     "ename": "AttributeError",
     "evalue": "'list' object has no attribute 'update'",
     "output_type": "error",
     "traceback": [
      "\u001b[1;31m---------------------------------------------------------------------------\u001b[0m",
      "\u001b[1;31mAttributeError\u001b[0m                            Traceback (most recent call last)",
      "Cell \u001b[1;32mIn[17], line 3\u001b[0m\n\u001b[0;32m      1\u001b[0m l\u001b[38;5;241m=\u001b[39m[\u001b[38;5;241m1\u001b[39m,\u001b[38;5;241m2\u001b[39m,\u001b[38;5;241m3\u001b[39m,\u001b[38;5;241m4\u001b[39m,\u001b[38;5;241m5\u001b[39m]\n\u001b[0;32m      2\u001b[0m t\u001b[38;5;241m=\u001b[39m(\u001b[38;5;241m1\u001b[39m,\u001b[38;5;241m2\u001b[39m,\u001b[38;5;241m3\u001b[39m,\u001b[38;5;241m4\u001b[39m)\n\u001b[1;32m----> 3\u001b[0m l\u001b[38;5;241m.\u001b[39mupdate(t)\n\u001b[0;32m      4\u001b[0m s\n",
      "\u001b[1;31mAttributeError\u001b[0m: 'list' object has no attribute 'update'"
     ]
    }
   ],
   "source": [
    "l=[1,2,3,4,5]\n",
    "t=(1,2,3,4)\n",
    "l.update(t)\n",
    "s"
   ]
  },
  {
   "cell_type": "code",
   "execution_count": null,
   "id": "762a59d2",
   "metadata": {},
   "outputs": [],
   "source": []
  },
  {
   "cell_type": "markdown",
   "id": "8166dadf",
   "metadata": {},
   "source": [
    "Updating the Set with the Dictionary --> Cannot Update as Dictionary is mutable"
   ]
  },
  {
   "cell_type": "code",
   "execution_count": 18,
   "id": "ffaa07a9",
   "metadata": {},
   "outputs": [
    {
     "ename": "AttributeError",
     "evalue": "'tuple' object has no attribute 'update'",
     "output_type": "error",
     "traceback": [
      "\u001b[1;31m---------------------------------------------------------------------------\u001b[0m",
      "\u001b[1;31mAttributeError\u001b[0m                            Traceback (most recent call last)",
      "Cell \u001b[1;32mIn[18], line 3\u001b[0m\n\u001b[0;32m      1\u001b[0m s\u001b[38;5;241m=\u001b[39m(\u001b[38;5;241m1\u001b[39m,\u001b[38;5;241m2\u001b[39m,\u001b[38;5;241m3\u001b[39m,\u001b[38;5;241m4\u001b[39m)\n\u001b[0;32m      2\u001b[0m d\u001b[38;5;241m=\u001b[39m{\u001b[38;5;241m3\u001b[39m:\u001b[38;5;124m\"\u001b[39m\u001b[38;5;124mdelhi\u001b[39m\u001b[38;5;124m\"\u001b[39m,\u001b[38;5;241m5\u001b[39m:\u001b[38;5;124m\"\u001b[39m\u001b[38;5;124mmumbai\u001b[39m\u001b[38;5;124m\"\u001b[39m}\n\u001b[1;32m----> 3\u001b[0m s\u001b[38;5;241m.\u001b[39mupdate(d)\n",
      "\u001b[1;31mAttributeError\u001b[0m: 'tuple' object has no attribute 'update'"
     ]
    }
   ],
   "source": [
    "s=(1,2,3,4)\n",
    "d={3:\"delhi\",5:\"mumbai\"}\n",
    "s.update(d)"
   ]
  },
  {
   "cell_type": "code",
   "execution_count": null,
   "id": "015dca2c",
   "metadata": {},
   "outputs": [],
   "source": []
  },
  {
   "cell_type": "markdown",
   "id": "cb267a54",
   "metadata": {},
   "source": [
    "Set Operations 1) Union of two sets 2) Intersection of two sets 3) Difference between two sets 4) Symmetric difference of two sets\n",
    "\n",
    "Union of two sets - symbol |"
   ]
  },
  {
   "cell_type": "code",
   "execution_count": 20,
   "id": "cc89a29b",
   "metadata": {},
   "outputs": [
    {
     "data": {
      "text/plain": [
       "{1, 2, 3, 4, 5, 6, 7}"
      ]
     },
     "execution_count": 20,
     "metadata": {},
     "output_type": "execute_result"
    }
   ],
   "source": [
    "s1={1,2,3,4,5}\n",
    "s2={4,5,6,7}\n",
    "x=s1.union(s2)\n",
    "x"
   ]
  },
  {
   "cell_type": "code",
   "execution_count": null,
   "id": "dd200cab",
   "metadata": {},
   "outputs": [],
   "source": []
  },
  {
   "cell_type": "markdown",
   "id": "e54812eb",
   "metadata": {},
   "source": [
    "Intersection of two sets - symbol &"
   ]
  },
  {
   "cell_type": "code",
   "execution_count": 21,
   "id": "b199764e",
   "metadata": {},
   "outputs": [
    {
     "data": {
      "text/plain": [
       "{4, 5}"
      ]
     },
     "execution_count": 21,
     "metadata": {},
     "output_type": "execute_result"
    }
   ],
   "source": [
    "a={1,2,3,4,5}\n",
    "b={4,5,6,7,8}\n",
    "a.intersection(b)"
   ]
  },
  {
   "cell_type": "code",
   "execution_count": null,
   "id": "c736f53e",
   "metadata": {},
   "outputs": [],
   "source": []
  },
  {
   "cell_type": "markdown",
   "id": "1cef1b30",
   "metadata": {},
   "source": [
    "Difference of two sets. Can be set a - setb or set b - set a (symbol -)"
   ]
  },
  {
   "cell_type": "code",
   "execution_count": 23,
   "id": "96a0ce71",
   "metadata": {},
   "outputs": [
    {
     "data": {
      "text/plain": [
       "{6, 7, 8}"
      ]
     },
     "execution_count": 23,
     "metadata": {},
     "output_type": "execute_result"
    }
   ],
   "source": [
    "s1={1,2,3,4,5}\n",
    "s2={4,5,6,7,8,}\n",
    "s1-s2\n",
    "s2-s1"
   ]
  },
  {
   "cell_type": "code",
   "execution_count": null,
   "id": "fc24cd75",
   "metadata": {},
   "outputs": [],
   "source": []
  },
  {
   "cell_type": "markdown",
   "id": "d7a5c850",
   "metadata": {},
   "source": [
    "Symmetric Difference (set a ^ set b) --> Symmetric Difference of set A and set B is a set of elements present in Set A and present in set B but not present in both. It is a union of a.difference(b) and b.difference(a) --> Symbol ^"
   ]
  },
  {
   "cell_type": "code",
   "execution_count": 25,
   "id": "3d410093",
   "metadata": {},
   "outputs": [
    {
     "data": {
      "text/plain": [
       "{1, 2, 3, 6, 7}"
      ]
     },
     "execution_count": 25,
     "metadata": {},
     "output_type": "execute_result"
    }
   ],
   "source": [
    "a={1,2,3,4,5}\n",
    "b={4,5,6,7}\n",
    "a^b"
   ]
  },
  {
   "cell_type": "code",
   "execution_count": null,
   "id": "d7c5be13",
   "metadata": {},
   "outputs": [],
   "source": []
  }
 ],
 "metadata": {
  "kernelspec": {
   "display_name": "Python 3 (ipykernel)",
   "language": "python",
   "name": "python3"
  },
  "language_info": {
   "codemirror_mode": {
    "name": "ipython",
    "version": 3
   },
   "file_extension": ".py",
   "mimetype": "text/x-python",
   "name": "python",
   "nbconvert_exporter": "python",
   "pygments_lexer": "ipython3",
   "version": "3.11.5"
  }
 },
 "nbformat": 4,
 "nbformat_minor": 5
}
