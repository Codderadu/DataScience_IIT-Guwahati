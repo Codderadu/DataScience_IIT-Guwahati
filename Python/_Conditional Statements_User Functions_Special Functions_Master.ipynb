{
 "cells": [
  {
   "cell_type": "code",
   "execution_count": 1,
   "id": "3f533563",
   "metadata": {},
   "outputs": [
    {
     "name": "stdout",
     "output_type": "stream",
     "text": [
      "x is positive\n"
     ]
    }
   ],
   "source": [
    "#If (boolean expression)--> True or False\n",
    "x=5\n",
    "if x>0: #Boolean Expression\n",
    "    print('x is positive') #Statement"
   ]
  },
  {
   "cell_type": "code",
   "execution_count": 3,
   "id": "7e3479fe",
   "metadata": {},
   "outputs": [
    {
     "name": "stdout",
     "output_type": "stream",
     "text": [
      "its negative\n"
     ]
    }
   ],
   "source": [
    "#No output\n",
    "x=-5\n",
    "if x>0:\n",
    "    print(\"x is positive\")\n",
    "else:\n",
    "    print(\"its negative\")"
   ]
  },
  {
   "cell_type": "code",
   "execution_count": 5,
   "id": "3f1e55a4",
   "metadata": {},
   "outputs": [
    {
     "name": "stdout",
     "output_type": "stream",
     "text": [
      "price is smaller than 100\n"
     ]
    }
   ],
   "source": [
    "#Multiple if conditions\n",
    "price=50\n",
    "if price>=100:\n",
    "        print(\"price is greather 100\")\n",
    "        print(\"a\")\n",
    "        print(1+2)\n",
    "if price==100:\n",
    "    print(\"price is 100\")\n",
    "if price<100:\n",
    "    print(\"price is smaller than 100\")"
   ]
  },
  {
   "cell_type": "code",
   "execution_count": 2,
   "id": "d68e3327",
   "metadata": {},
   "outputs": [],
   "source": [
    "#If else "
   ]
  },
  {
   "cell_type": "code",
   "execution_count": 7,
   "id": "95277cec",
   "metadata": {},
   "outputs": [
    {
     "name": "stdout",
     "output_type": "stream",
     "text": [
      "x is greater than y\n"
     ]
    }
   ],
   "source": [
    "\n",
    "#If else \n",
    "x=40\n",
    "y=30\n",
    "\n",
    "if x>y:\n",
    "    print(\"x is greater than y\")\n",
    "else:\n",
    "    print(\"x is smaller than y\")"
   ]
  },
  {
   "cell_type": "code",
   "execution_count": 3,
   "id": "ef3d5e47",
   "metadata": {},
   "outputs": [
    {
     "ename": "SyntaxError",
     "evalue": "invalid syntax. Perhaps you forgot a comma? (2075590615.py, line 1)",
     "output_type": "error",
     "traceback": [
      "\u001b[1;36m  Cell \u001b[1;32mIn[3], line 1\u001b[1;36m\u001b[0m\n\u001b[1;33m    if [boolean expression]:\u001b[0m\n\u001b[1;37m        ^\u001b[0m\n\u001b[1;31mSyntaxError\u001b[0m\u001b[1;31m:\u001b[0m invalid syntax. Perhaps you forgot a comma?\n"
     ]
    }
   ],
   "source": [
    "if [boolean expression]:\n",
    "    [statements]\n",
    "elif [boolean expresion]:\n",
    "    [statements]\n",
    "elif [boolean expresion]:\n",
    "    [statements]\n",
    "else:\n",
    "    [statements] "
   ]
  },
  {
   "cell_type": "code",
   "execution_count": 12,
   "id": "612d3be0",
   "metadata": {},
   "outputs": [
    {
     "name": "stdout",
     "output_type": "stream",
     "text": [
      "x is smaller than y\n"
     ]
    }
   ],
   "source": [
    "#Conditional Chain\n",
    "#If elif else --> Three Conditions\n",
    "#There is no limit to elif statements\n",
    "#Each statement is checked however the branch stops when it encounter correct statement\n",
    "x=4\n",
    "y=5\n",
    "\n",
    "if x>y:\n",
    "    print(\"x greater than y\")\n",
    "elif x==y:\n",
    "    print(\"x is equal y\")\n",
    "elif x <y :\n",
    "    print(\"x is smaller than y\")"
   ]
  },
  {
   "cell_type": "code",
   "execution_count": 15,
   "id": "14ffb4f0",
   "metadata": {},
   "outputs": [
    {
     "name": "stdout",
     "output_type": "stream",
     "text": [
      "first number5\n"
     ]
    },
    {
     "data": {
      "text/plain": [
       "int"
      ]
     },
     "execution_count": 15,
     "metadata": {},
     "output_type": "execute_result"
    }
   ],
   "source": [
    "# To get an input from user, use Input function\n",
    "a=int(input(\"first number\"))\n",
    "type(a)"
   ]
  },
  {
   "cell_type": "code",
   "execution_count": 7,
   "id": "914ef16f",
   "metadata": {},
   "outputs": [],
   "source": [
    "# Take a integer input from user a,b,c. Then (a+b)/c. Then concatenate this with complex number\n",
    "#And then concatenate with your name"
   ]
  },
  {
   "cell_type": "code",
   "execution_count": 18,
   "id": "769ef364",
   "metadata": {},
   "outputs": [
    {
     "name": "stdout",
     "output_type": "stream",
     "text": [
      "first number: 4\n",
      "second number: 5\n",
      "third number: 6\n"
     ]
    }
   ],
   "source": [
    "a=int(input(\"first number: \"))\n",
    "b=int(input(\"second number: \"))\n",
    "c=int(input(\"third number: \"))"
   ]
  },
  {
   "cell_type": "code",
   "execution_count": 19,
   "id": "3aecfa0b",
   "metadata": {},
   "outputs": [
    {
     "data": {
      "text/plain": [
       "1.5"
      ]
     },
     "execution_count": 19,
     "metadata": {},
     "output_type": "execute_result"
    }
   ],
   "source": [
    "(a+b)/c"
   ]
  },
  {
   "cell_type": "code",
   "execution_count": 21,
   "id": "431afdec",
   "metadata": {},
   "outputs": [
    {
     "name": "stdout",
     "output_type": "stream",
     "text": [
      "Enter a number: 30\n",
      "Less than 35\n",
      "Less than 50\n",
      "This was fine\n"
     ]
    }
   ],
   "source": [
    "a = int(input(\"Enter a number: \"))\n",
    "\n",
    "if a<35:\n",
    "    print(\"Less than 35\")\n",
    "if a<50:\n",
    "    print(\"Less than 50\")\n",
    "elif a<75:\n",
    "    print(\"less than 75\")\n",
    "    \n",
    "else:\n",
    "    print(\"Greater than 75\")\n",
    "    print(\"Number is too big\")\n",
    "print(\"This was fine\")"
   ]
  },
  {
   "cell_type": "code",
   "execution_count": 9,
   "id": "e36bcd95",
   "metadata": {},
   "outputs": [
    {
     "name": "stdout",
     "output_type": "stream",
     "text": [
      "Enter Salaryw\n"
     ]
    },
    {
     "ename": "ValueError",
     "evalue": "invalid literal for int() with base 10: 'w'",
     "output_type": "error",
     "traceback": [
      "\u001b[1;31m---------------------------------------------------------------------------\u001b[0m",
      "\u001b[1;31mValueError\u001b[0m                                Traceback (most recent call last)",
      "Cell \u001b[1;32mIn[9], line 1\u001b[0m\n\u001b[1;32m----> 1\u001b[0m salary\u001b[38;5;241m=\u001b[39m\u001b[38;5;28mint\u001b[39m(\u001b[38;5;28minput\u001b[39m(\u001b[38;5;124m\"\u001b[39m\u001b[38;5;124mEnter Salary\u001b[39m\u001b[38;5;124m\"\u001b[39m))\n\u001b[0;32m      2\u001b[0m \u001b[38;5;28;01mif\u001b[39;00m salary \u001b[38;5;241m<\u001b[39m \u001b[38;5;241m1000\u001b[39m:\n\u001b[0;32m      3\u001b[0m     \u001b[38;5;28mprint\u001b[39m(\u001b[38;5;124m\"\u001b[39m\u001b[38;5;124mSalary is good\u001b[39m\u001b[38;5;124m\"\u001b[39m)\n",
      "\u001b[1;31mValueError\u001b[0m: invalid literal for int() with base 10: 'w'"
     ]
    }
   ],
   "source": [
    "salary=int(input(\"Enter Salary\"))\n",
    "if salary < 1000:\n",
    "    print(\"Salary is good\")\n",
    "    if salary < 500:\n",
    "        print(\"I will buy nano car\")\n",
    "        if salary < 400:\n",
    "            print(\"salary is medium\")\n",
    "        else:\n",
    "            print(\"Salary is not so good\")\n",
    "    elif salary < 999:\n",
    "        print(\"I will buy Maruti\")\n",
    "    else:\n",
    "        print(\"I will buy BMW\")\n",
    "elif salary < 50000:\n",
    "    print(\"salary is fine\")\n",
    "else:\n",
    "    print(\"salary is low\")\n",
    "    \n",
    "print(\"just for fun\")"
   ]
  },
  {
   "cell_type": "code",
   "execution_count": null,
   "id": "d5467d63",
   "metadata": {},
   "outputs": [],
   "source": [
    "#Traversing the string"
   ]
  },
  {
   "cell_type": "code",
   "execution_count": null,
   "id": "233db833",
   "metadata": {},
   "outputs": [],
   "source": [
    "#Traversing the list\n",
    "L=['Naina',1,'Ashok','5',[7,'8']]"
   ]
  },
  {
   "cell_type": "code",
   "execution_count": null,
   "id": "6b786188",
   "metadata": {},
   "outputs": [],
   "source": [
    "# Traversing the Tuple\n",
    "a=(\"apple\",\"banana\",\"republic\")"
   ]
  },
  {
   "cell_type": "code",
   "execution_count": null,
   "id": "862895aa",
   "metadata": {},
   "outputs": [],
   "source": [
    "#Traversing the Dictionary -->Key value pair\n",
    "dict={1:\"apple\",2:\"banana\",3:\"republic\"}"
   ]
  },
  {
   "cell_type": "code",
   "execution_count": 10,
   "id": "42895d31",
   "metadata": {},
   "outputs": [],
   "source": [
    "#Traversing the Dictionary\n",
    "dict={1:\"apple\",2:\"banana\",3:\"republic\"}"
   ]
  },
  {
   "cell_type": "code",
   "execution_count": 11,
   "id": "9bfbc277",
   "metadata": {},
   "outputs": [],
   "source": [
    "# Traversing the Dictionary --> Values\n",
    "dict={1:\"apple\",2:\"banana\",3:\"republic\"}"
   ]
  },
  {
   "cell_type": "code",
   "execution_count": 12,
   "id": "9c66f277",
   "metadata": {},
   "outputs": [],
   "source": [
    "#For Loop to print even nos between 1 to 9"
   ]
  },
  {
   "cell_type": "code",
   "execution_count": 13,
   "id": "d80e94a3",
   "metadata": {},
   "outputs": [],
   "source": [
    "# Question: For loop to print numbers divisible by 5 & 7 between 1500 & 2500 "
   ]
  },
  {
   "cell_type": "markdown",
   "id": "5a4c3105",
   "metadata": {},
   "source": [
    "# While loop"
   ]
  },
  {
   "cell_type": "code",
   "execution_count": 14,
   "id": "33ca0095",
   "metadata": {},
   "outputs": [
    {
     "ename": "SyntaxError",
     "evalue": "unterminated string literal (detected at line 5) (342577219.py, line 5)",
     "output_type": "error",
     "traceback": [
      "\u001b[1;36m  Cell \u001b[1;32mIn[14], line 5\u001b[1;36m\u001b[0m\n\u001b[1;33m    statementN\"\u001b[0m\n\u001b[1;37m              ^\u001b[0m\n\u001b[1;31mSyntaxError\u001b[0m\u001b[1;31m:\u001b[0m unterminated string literal (detected at line 5)\n"
     ]
    }
   ],
   "source": [
    "while [boolean expression]:\n",
    "    statement1\n",
    "    statement2\n",
    "    ...\n",
    "    statementN\""
   ]
  },
  {
   "cell_type": "code",
   "execution_count": 15,
   "id": "e0462b0f",
   "metadata": {},
   "outputs": [],
   "source": [
    "# Will continue as long as the condition is true"
   ]
  },
  {
   "cell_type": "code",
   "execution_count": 16,
   "id": "78bd49ba",
   "metadata": {},
   "outputs": [],
   "source": [
    "#Infinite Loop"
   ]
  },
  {
   "cell_type": "code",
   "execution_count": 17,
   "id": "0e0eed34",
   "metadata": {},
   "outputs": [],
   "source": [
    "# Break (Breaks Out of loop)"
   ]
  },
  {
   "cell_type": "code",
   "execution_count": 18,
   "id": "8b4f92a0",
   "metadata": {},
   "outputs": [],
   "source": [
    "#Continue (Takes back to loop)"
   ]
  },
  {
   "cell_type": "code",
   "execution_count": null,
   "id": "5f2c613d",
   "metadata": {},
   "outputs": [],
   "source": []
  },
  {
   "cell_type": "code",
   "execution_count": null,
   "id": "ed71ff42",
   "metadata": {},
   "outputs": [],
   "source": []
  },
  {
   "cell_type": "code",
   "execution_count": null,
   "id": "7a656841",
   "metadata": {},
   "outputs": [],
   "source": []
  },
  {
   "cell_type": "raw",
   "id": "24f5b416",
   "metadata": {},
   "source": [
    "# Naming a variable"
   ]
  },
  {
   "cell_type": "markdown",
   "id": "26f7bdbb",
   "metadata": {},
   "source": [
    "Can start only with underscore or alphabet. Cannot contain any special character except underscore"
   ]
  },
  {
   "cell_type": "code",
   "execution_count": null,
   "id": "7b3f7b23",
   "metadata": {},
   "outputs": [],
   "source": []
  },
  {
   "cell_type": "code",
   "execution_count": null,
   "id": "f22dd052",
   "metadata": {},
   "outputs": [],
   "source": []
  },
  {
   "cell_type": "markdown",
   "id": "862abbe9",
   "metadata": {},
   "source": [
    "# Functions\n",
    "### Functions are useful for breaking up a large program to make it easier to read and maintain.\n",
    "### They are also useful to avoid writing the same code at several different points in your program.\n",
    "### Function is a block of code that performs a specific task.\n",
    "#### This helps in avoiding redundancy in code"
   ]
  },
  {
   "cell_type": "code",
   "execution_count": 19,
   "id": "e44ce0ce",
   "metadata": {},
   "outputs": [],
   "source": [
    "#Function to add two nos (keyword, name of function,parameters and return value) --> 2 parameters"
   ]
  },
  {
   "cell_type": "code",
   "execution_count": 20,
   "id": "91f8c95a",
   "metadata": {},
   "outputs": [],
   "source": [
    "#Function to find average of 2 nos"
   ]
  },
  {
   "cell_type": "code",
   "execution_count": 21,
   "id": "f8a283ac",
   "metadata": {},
   "outputs": [],
   "source": [
    "#Function to find square of sum of 2 nos"
   ]
  },
  {
   "cell_type": "code",
   "execution_count": 22,
   "id": "f927d9c5",
   "metadata": {},
   "outputs": [],
   "source": [
    "# Function to determine if a no is in given range or not --> One Parameter"
   ]
  },
  {
   "cell_type": "code",
   "execution_count": 23,
   "id": "c2c2f9fc",
   "metadata": {},
   "outputs": [],
   "source": [
    "# Function to find max of 3 nos --> 3 parameters"
   ]
  },
  {
   "cell_type": "code",
   "execution_count": 24,
   "id": "fed1ac1a",
   "metadata": {},
   "outputs": [],
   "source": [
    "#Question: Create a function that will take 2 numbers as arguments and will return the minimum of both."
   ]
  },
  {
   "cell_type": "code",
   "execution_count": 25,
   "id": "e723e76f",
   "metadata": {},
   "outputs": [],
   "source": [
    "# Taking two nos from user (User Input) and adding those Nos \n",
    "#takes as a string"
   ]
  },
  {
   "cell_type": "code",
   "execution_count": 26,
   "id": "01a3d028",
   "metadata": {},
   "outputs": [],
   "source": [
    "#bmi calculator"
   ]
  },
  {
   "cell_type": "code",
   "execution_count": 27,
   "id": "efac8369",
   "metadata": {},
   "outputs": [],
   "source": [
    "#Keyword Parameters --> Argument is keyword"
   ]
  },
  {
   "cell_type": "code",
   "execution_count": 28,
   "id": "38b8486f",
   "metadata": {},
   "outputs": [],
   "source": [
    "#Default Parameter. Default value is assigned in the definition"
   ]
  },
  {
   "cell_type": "code",
   "execution_count": null,
   "id": "43d4c8c8",
   "metadata": {},
   "outputs": [],
   "source": []
  },
  {
   "cell_type": "code",
   "execution_count": null,
   "id": "d8e71d37",
   "metadata": {},
   "outputs": [],
   "source": []
  },
  {
   "cell_type": "code",
   "execution_count": 29,
   "id": "40478cdc",
   "metadata": {},
   "outputs": [],
   "source": [
    "#Question: Create a functions which will take user name and age and print \"your name is [] and age is []\".\n",
    "#If user hesitate to enter the age, then take the age as 60."
   ]
  },
  {
   "cell_type": "code",
   "execution_count": null,
   "id": "6ba55a38",
   "metadata": {},
   "outputs": [],
   "source": []
  },
  {
   "cell_type": "markdown",
   "id": "d35bab38",
   "metadata": {},
   "source": [
    "Lambda Function or Anonymous Function or Function without name This function works faster then conventional function"
   ]
  },
  {
   "cell_type": "code",
   "execution_count": 30,
   "id": "30118712",
   "metadata": {},
   "outputs": [],
   "source": [
    "#Lambda function to add two nos"
   ]
  },
  {
   "cell_type": "code",
   "execution_count": 31,
   "id": "d2fbaef5",
   "metadata": {},
   "outputs": [],
   "source": [
    "#Lambda function to multiply 2 nos."
   ]
  },
  {
   "cell_type": "code",
   "execution_count": null,
   "id": "58ccd189",
   "metadata": {},
   "outputs": [],
   "source": []
  },
  {
   "cell_type": "code",
   "execution_count": null,
   "id": "928898d5",
   "metadata": {},
   "outputs": [],
   "source": []
  },
  {
   "cell_type": "markdown",
   "id": "a9250a80",
   "metadata": {},
   "source": [
    "Lambda function A lambda function is a small anonymous function. A lambda function can take any number of arguments, but can only have one expression.\n",
    "\n",
    "lambda arguments : expression"
   ]
  },
  {
   "cell_type": "code",
   "execution_count": null,
   "id": "51655bad",
   "metadata": {},
   "outputs": [],
   "source": []
  }
 ],
 "metadata": {
  "kernelspec": {
   "display_name": "Python 3 (ipykernel)",
   "language": "python",
   "name": "python3"
  },
  "language_info": {
   "codemirror_mode": {
    "name": "ipython",
    "version": 3
   },
   "file_extension": ".py",
   "mimetype": "text/x-python",
   "name": "python",
   "nbconvert_exporter": "python",
   "pygments_lexer": "ipython3",
   "version": "3.11.5"
  }
 },
 "nbformat": 4,
 "nbformat_minor": 5
}
