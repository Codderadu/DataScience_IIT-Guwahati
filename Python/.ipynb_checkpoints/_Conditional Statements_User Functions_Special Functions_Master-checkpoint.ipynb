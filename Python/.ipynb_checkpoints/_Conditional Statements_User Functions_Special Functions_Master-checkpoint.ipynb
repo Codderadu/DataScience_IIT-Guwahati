{
 "cells": [
  {
   "cell_type": "code",
   "execution_count": null,
   "id": "3f533563",
   "metadata": {},
   "outputs": [],
   "source": [
    "#If (boolean expression)--> True or False\n",
    "x=5\n",
    "if x>0: #Boolean Expression\n",
    "    print('x is positive') #Statement"
   ]
  },
  {
   "cell_type": "code",
   "execution_count": null,
   "id": "7e3479fe",
   "metadata": {},
   "outputs": [],
   "source": [
    "#No output"
   ]
  },
  {
   "cell_type": "code",
   "execution_count": 1,
   "id": "3f1e55a4",
   "metadata": {},
   "outputs": [],
   "source": [
    "#Multiple if conditions"
   ]
  },
  {
   "cell_type": "code",
   "execution_count": 2,
   "id": "da7e2991",
   "metadata": {},
   "outputs": [],
   "source": [
    "#If else "
   ]
  },
  {
   "cell_type": "code",
   "execution_count": null,
   "id": "b5d58b1b",
   "metadata": {},
   "outputs": [],
   "source": [
    "\n",
    "#If else "
   ]
  },
  {
   "cell_type": "code",
   "execution_count": 3,
   "id": "f8b4b7e5",
   "metadata": {},
   "outputs": [
    {
     "ename": "SyntaxError",
     "evalue": "invalid syntax. Perhaps you forgot a comma? (2075590615.py, line 1)",
     "output_type": "error",
     "traceback": [
      "\u001b[1;36m  Cell \u001b[1;32mIn[3], line 1\u001b[1;36m\u001b[0m\n\u001b[1;33m    if [boolean expression]:\u001b[0m\n\u001b[1;37m        ^\u001b[0m\n\u001b[1;31mSyntaxError\u001b[0m\u001b[1;31m:\u001b[0m invalid syntax. Perhaps you forgot a comma?\n"
     ]
    }
   ],
   "source": [
    "if [boolean expression]:\n",
    "    [statements]\n",
    "elif [boolean expresion]:\n",
    "    [statements]\n",
    "elif [boolean expresion]:\n",
    "    [statements]\n",
    "else:\n",
    "    [statements] "
   ]
  },
  {
   "cell_type": "code",
   "execution_count": 4,
   "id": "61e411e3",
   "metadata": {},
   "outputs": [],
   "source": [
    "#Conditional Chain\n",
    "#If elif else --> Three Conditions\n",
    "#There is no limit to elif statements\n",
    "#Each statement is checked however the branch stops when it encounter correct statement"
   ]
  },
  {
   "cell_type": "code",
   "execution_count": 5,
   "id": "72d8a845",
   "metadata": {},
   "outputs": [],
   "source": [
    "#Multiple elif statements"
   ]
  },
  {
   "cell_type": "code",
   "execution_count": 6,
   "id": "ab4a5b77",
   "metadata": {},
   "outputs": [],
   "source": [
    "# To get an input from user, use Input function"
   ]
  },
  {
   "cell_type": "code",
   "execution_count": 7,
   "id": "8385cbeb",
   "metadata": {},
   "outputs": [],
   "source": [
    "# Take a integer input from user a,b,c. Then (a+b)/c. Then concatenate this with complex number\n",
    "#And then concatenate with your name"
   ]
  },
  {
   "cell_type": "code",
   "execution_count": null,
   "id": "d9bc9b10",
   "metadata": {},
   "outputs": [],
   "source": []
  },
  {
   "cell_type": "code",
   "execution_count": null,
   "id": "70869188",
   "metadata": {},
   "outputs": [],
   "source": []
  },
  {
   "cell_type": "code",
   "execution_count": null,
   "id": "5f37a9ea",
   "metadata": {},
   "outputs": [],
   "source": [
    "a = int(input(\"Enter a number: \"))\n",
    "if a<35:\n",
    "    print(\"Less than 35\")\n",
    "if a<50:\n",
    "    print(\"Less than 50\")\n",
    "elif a<75:\n",
    "    print(\"less than 75\")\n",
    "else:\n",
    "    print(\"Greater than 75\")\n",
    "    print(\"Number is too big\")\n",
    "print(\"This was fine\")"
   ]
  },
  {
   "cell_type": "code",
   "execution_count": null,
   "id": "e3afd466",
   "metadata": {},
   "outputs": [],
   "source": [
    "salary=int(input(\"Enter Salary\"))\n",
    "if salary < 1000:\n",
    "    print(\"Salary is good\")\n",
    "    if salary < 500:\n",
    "        print(\"I will buy nano car\")\n",
    "        if salary < 400:\n",
    "            print(\"salary is medium\")\n",
    "        else:\n",
    "            print(\"Salary is not so good\")\n",
    "    elif salary < 999:\n",
    "        print(\"I will buy Maruti\")\n",
    "    else:\n",
    "        print(\"I will buy BMW\")\n",
    "elif salary < 50000:\n",
    "    print(\"salary is fine\")\n",
    "else:\n",
    "    print(\"salary is low\")\n",
    "print(\"just for fun\")"
   ]
  }
 ],
 "metadata": {
  "kernelspec": {
   "display_name": "Python 3 (ipykernel)",
   "language": "python",
   "name": "python3"
  },
  "language_info": {
   "codemirror_mode": {
    "name": "ipython",
    "version": 3
   },
   "file_extension": ".py",
   "mimetype": "text/x-python",
   "name": "python",
   "nbconvert_exporter": "python",
   "pygments_lexer": "ipython3",
   "version": "3.11.5"
  }
 },
 "nbformat": 4,
 "nbformat_minor": 5
}
