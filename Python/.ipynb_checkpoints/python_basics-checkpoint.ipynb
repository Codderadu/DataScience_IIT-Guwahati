{
 "cells": [
  {
   "cell_type": "code",
   "execution_count": 9,
   "id": "ad83a226",
   "metadata": {},
   "outputs": [
    {
     "data": {
      "text/plain": [
       "6"
      ]
     },
     "execution_count": 9,
     "metadata": {},
     "output_type": "execute_result"
    }
   ],
   "source": [
    "a=2;\n",
    "b=4;\n",
    "a+b"
   ]
  },
  {
   "cell_type": "markdown",
   "id": "bae88e99",
   "metadata": {},
   "source": [
    "# Membership Operator-in,not in"
   ]
  },
  {
   "cell_type": "code",
   "execution_count": 3,
   "id": "b6b7bb2a",
   "metadata": {},
   "outputs": [
    {
     "data": {
      "text/plain": [
       "True"
      ]
     },
     "execution_count": 3,
     "metadata": {},
     "output_type": "execute_result"
    }
   ],
   "source": [
    "x=\"IIT Academy\"\n",
    "a=\"cad\" in x;\n",
    "a"
   ]
  },
  {
   "cell_type": "markdown",
   "id": "cbc84619",
   "metadata": {},
   "source": [
    "# Order of Operatiors"
   ]
  },
  {
   "cell_type": "markdown",
   "id": "a9fa0cf6",
   "metadata": {},
   "source": [
    "BODMASS"
   ]
  },
  {
   "cell_type": "code",
   "execution_count": 8,
   "id": "c0abfe69",
   "metadata": {},
   "outputs": [
    {
     "data": {
      "text/plain": [
       "'D:\\\\DataScience_IIT-Guwahati\\\\Python'"
      ]
     },
     "execution_count": 8,
     "metadata": {},
     "output_type": "execute_result"
    }
   ],
   "source": [
    "pwd"
   ]
  },
  {
   "cell_type": "code",
   "execution_count": 10,
   "id": "058e925d",
   "metadata": {},
   "outputs": [],
   "source": [
    "import datetime as dt"
   ]
  },
  {
   "cell_type": "code",
   "execution_count": 21,
   "id": "ad60970d",
   "metadata": {},
   "outputs": [],
   "source": [
    "dx=dt.datetime.now()"
   ]
  },
  {
   "cell_type": "code",
   "execution_count": 22,
   "id": "582d32ee",
   "metadata": {},
   "outputs": [
    {
     "data": {
      "text/plain": [
       "8"
      ]
     },
     "execution_count": 22,
     "metadata": {},
     "output_type": "execute_result"
    }
   ],
   "source": [
    "dx.day\n"
   ]
  },
  {
   "cell_type": "code",
   "execution_count": 23,
   "id": "ffc643f2",
   "metadata": {},
   "outputs": [],
   "source": [
    "s=\"Sceience\""
   ]
  },
  {
   "cell_type": "code",
   "execution_count": 27,
   "id": "50776d91",
   "metadata": {},
   "outputs": [
    {
     "data": {
      "text/plain": [
       "'ecneiecS'"
      ]
     },
     "execution_count": 27,
     "metadata": {},
     "output_type": "execute_result"
    }
   ],
   "source": [
    "s[::-1]"
   ]
  },
  {
   "cell_type": "code",
   "execution_count": 28,
   "id": "3ccdf8f5",
   "metadata": {},
   "outputs": [],
   "source": [
    "s=\"python___Data\""
   ]
  },
  {
   "cell_type": "code",
   "execution_count": 30,
   "id": "2b8de352",
   "metadata": {},
   "outputs": [],
   "source": [
    "s=s.split()"
   ]
  },
  {
   "cell_type": "code",
   "execution_count": null,
   "id": "d1ae6eb1",
   "metadata": {},
   "outputs": [],
   "source": []
  }
 ],
 "metadata": {
  "kernelspec": {
   "display_name": "Python 3 (ipykernel)",
   "language": "python",
   "name": "python3"
  },
  "language_info": {
   "codemirror_mode": {
    "name": "ipython",
    "version": 3
   },
   "file_extension": ".py",
   "mimetype": "text/x-python",
   "name": "python",
   "nbconvert_exporter": "python",
   "pygments_lexer": "ipython3",
   "version": "3.11.5"
  }
 },
 "nbformat": 4,
 "nbformat_minor": 5
}
