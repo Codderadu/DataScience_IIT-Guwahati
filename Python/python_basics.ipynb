{
 "cells": [
  {
   "cell_type": "code",
   "execution_count": 9,
   "id": "f04261da",
   "metadata": {},
   "outputs": [
    {
     "data": {
      "text/plain": [
       "6"
      ]
     },
     "execution_count": 9,
     "metadata": {},
     "output_type": "execute_result"
    }
   ],
   "source": [
    "a=2;\n",
    "b=4;\n",
    "a+b"
   ]
  },
  {
   "cell_type": "markdown",
   "id": "65db2a96",
   "metadata": {},
   "source": [
    "# Membership Operator-in,not in"
   ]
  },
  {
   "cell_type": "code",
   "execution_count": 3,
   "id": "36928250",
   "metadata": {},
   "outputs": [
    {
     "data": {
      "text/plain": [
       "True"
      ]
     },
     "execution_count": 3,
     "metadata": {},
     "output_type": "execute_result"
    }
   ],
   "source": [
    "x=\"IIT Academy\"\n",
    "a=\"cad\" in x;\n",
    "a"
   ]
  },
  {
   "cell_type": "markdown",
   "id": "a89f206d",
   "metadata": {},
   "source": [
    "# Order of Operatiors"
   ]
  },
  {
   "cell_type": "markdown",
   "id": "6f8ff893",
   "metadata": {},
   "source": [
    "BODMASS"
   ]
  },
  {
   "cell_type": "code",
   "execution_count": 8,
   "id": "6a680915",
   "metadata": {},
   "outputs": [
    {
     "data": {
      "text/plain": [
       "'D:\\\\DataScience_IIT-Guwahati\\\\Python'"
      ]
     },
     "execution_count": 8,
     "metadata": {},
     "output_type": "execute_result"
    }
   ],
   "source": [
    "pwd"
   ]
  },
  {
   "cell_type": "code",
   "execution_count": 10,
   "id": "7ffe63cf",
   "metadata": {},
   "outputs": [],
   "source": [
    "import datetime as dt"
   ]
  },
  {
   "cell_type": "code",
   "execution_count": 21,
   "id": "257489eb",
   "metadata": {},
   "outputs": [],
   "source": [
    "dx=dt.datetime.now()"
   ]
  },
  {
   "cell_type": "code",
   "execution_count": 22,
   "id": "b47ac09d",
   "metadata": {},
   "outputs": [
    {
     "data": {
      "text/plain": [
       "8"
      ]
     },
     "execution_count": 22,
     "metadata": {},
     "output_type": "execute_result"
    }
   ],
   "source": [
    "dx.day\n"
   ]
  },
  {
   "cell_type": "code",
   "execution_count": 23,
   "id": "71a6a288",
   "metadata": {},
   "outputs": [],
   "source": [
    "s=\"Sceience\""
   ]
  },
  {
   "cell_type": "code",
   "execution_count": 27,
   "id": "1fedd155",
   "metadata": {},
   "outputs": [
    {
     "data": {
      "text/plain": [
       "'ecneiecS'"
      ]
     },
     "execution_count": 27,
     "metadata": {},
     "output_type": "execute_result"
    }
   ],
   "source": [
    "s[::-1]"
   ]
  },
  {
   "cell_type": "code",
   "execution_count": 32,
   "id": "0f873232",
   "metadata": {},
   "outputs": [],
   "source": [
    "s=\"python    Data\""
   ]
  },
  {
   "cell_type": "code",
   "execution_count": null,
   "id": "8578b4f2",
   "metadata": {},
   "outputs": [],
   "source": [
    "s.contains(' ')"
   ]
  },
  {
   "cell_type": "code",
   "execution_count": 33,
   "id": "7c40f2c9",
   "metadata": {},
   "outputs": [],
   "source": [
    "s=s.split()"
   ]
  },
  {
   "cell_type": "code",
   "execution_count": 35,
   "id": "d249dad6",
   "metadata": {},
   "outputs": [
    {
     "data": {
      "text/plain": [
       "'python Data'"
      ]
     },
     "execution_count": 35,
     "metadata": {},
     "output_type": "execute_result"
    }
   ],
   "source": [
    "' '.join(s)"
   ]
  },
  {
   "cell_type": "code",
   "execution_count": null,
   "id": "b4233e91",
   "metadata": {},
   "outputs": [],
   "source": [
    "s"
   ]
  }
 ],
 "metadata": {
  "kernelspec": {
   "display_name": "Python 3 (ipykernel)",
   "language": "python",
   "name": "python3"
  },
  "language_info": {
   "codemirror_mode": {
    "name": "ipython",
    "version": 3
   },
   "file_extension": ".py",
   "mimetype": "text/x-python",
   "name": "python",
   "nbconvert_exporter": "python",
   "pygments_lexer": "ipython3",
   "version": "3.11.5"
  }
 },
 "nbformat": 4,
 "nbformat_minor": 5
}
