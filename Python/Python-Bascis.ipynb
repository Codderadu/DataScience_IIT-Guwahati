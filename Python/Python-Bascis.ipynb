{
 "cells": [
  {
   "cell_type": "markdown",
   "id": "da9e76b1",
   "metadata": {},
   "source": [
    "# Python Basics"
   ]
  },
  {
   "cell_type": "code",
   "execution_count": 23,
   "id": "2eca41e6",
   "metadata": {},
   "outputs": [
    {
     "data": {
      "text/plain": [
       "'This is my first python class'"
      ]
     },
     "execution_count": 23,
     "metadata": {},
     "output_type": "execute_result"
    }
   ],
   "source": [
    "a=\"This is my first python class\"\n",
    "a"
   ]
  },
  {
   "cell_type": "markdown",
   "id": "0869e229",
   "metadata": {},
   "source": [
    "Python Operators"
   ]
  },
  {
   "cell_type": "code",
   "execution_count": 2,
   "id": "1d50d1ae",
   "metadata": {},
   "outputs": [],
   "source": [
    "#Arthmetic \n",
    "#Comparison\n",
    "#Assignment\n",
    "#Logical\n",
    "#Membership\n",
    "#Identity\n",
    "#Bitwise"
   ]
  },
  {
   "cell_type": "markdown",
   "id": "7d2ab525",
   "metadata": {},
   "source": [
    "# # Arthmetic Operators +,-,/,//,%,*"
   ]
  },
  {
   "cell_type": "code",
   "execution_count": 24,
   "id": "fb724516",
   "metadata": {},
   "outputs": [
    {
     "data": {
      "text/plain": [
       "15"
      ]
     },
     "execution_count": 24,
     "metadata": {},
     "output_type": "execute_result"
    }
   ],
   "source": [
    "#addition\n",
    "a=10\n",
    "b=5\n",
    "a+b"
   ]
  },
  {
   "cell_type": "code",
   "execution_count": 25,
   "id": "5e0bc5a3",
   "metadata": {},
   "outputs": [
    {
     "data": {
      "text/plain": [
       "5"
      ]
     },
     "execution_count": 25,
     "metadata": {},
     "output_type": "execute_result"
    }
   ],
   "source": [
    "#manus\n",
    "a-b"
   ]
  },
  {
   "cell_type": "code",
   "execution_count": 26,
   "id": "b4cf37f5",
   "metadata": {},
   "outputs": [
    {
     "data": {
      "text/plain": [
       "50"
      ]
     },
     "execution_count": 26,
     "metadata": {},
     "output_type": "execute_result"
    }
   ],
   "source": [
    "# multi\n",
    "a*b"
   ]
  },
  {
   "cell_type": "code",
   "execution_count": 27,
   "id": "edebc782",
   "metadata": {},
   "outputs": [
    {
     "data": {
      "text/plain": [
       "2.0"
      ]
     },
     "execution_count": 27,
     "metadata": {},
     "output_type": "execute_result"
    }
   ],
   "source": [
    "# Division\n",
    "a/b"
   ]
  },
  {
   "cell_type": "code",
   "execution_count": 28,
   "id": "7c0d1b30",
   "metadata": {},
   "outputs": [
    {
     "data": {
      "text/plain": [
       "2"
      ]
     },
     "execution_count": 28,
     "metadata": {},
     "output_type": "execute_result"
    }
   ],
   "source": [
    "# Modulo Devision\n",
    "a//b"
   ]
  },
  {
   "cell_type": "markdown",
   "id": "298e9616",
   "metadata": {},
   "source": [
    "# Comparison Operators <,<=,>,>=,==,!="
   ]
  },
  {
   "cell_type": "code",
   "execution_count": 30,
   "id": "245e46ea",
   "metadata": {},
   "outputs": [
    {
     "data": {
      "text/plain": [
       "True"
      ]
     },
     "execution_count": 30,
     "metadata": {},
     "output_type": "execute_result"
    }
   ],
   "source": [
    "#smaler than\n",
    "x<y"
   ]
  },
  {
   "cell_type": "code",
   "execution_count": 34,
   "id": "d4fba8df",
   "metadata": {},
   "outputs": [
    {
     "data": {
      "text/plain": [
       "True"
      ]
     },
     "execution_count": 34,
     "metadata": {},
     "output_type": "execute_result"
    }
   ],
   "source": [
    "#smaller than equal to\n",
    "x=10\n",
    "y=10\n",
    "x<=y"
   ]
  },
  {
   "cell_type": "code",
   "execution_count": 37,
   "id": "3f2a176a",
   "metadata": {},
   "outputs": [
    {
     "data": {
      "text/plain": [
       "False"
      ]
     },
     "execution_count": 37,
     "metadata": {},
     "output_type": "execute_result"
    }
   ],
   "source": [
    "#greater than\n",
    "x=8\n",
    "y=8\n",
    "x>y"
   ]
  },
  {
   "cell_type": "code",
   "execution_count": 38,
   "id": "d1e3b875",
   "metadata": {},
   "outputs": [
    {
     "data": {
      "text/plain": [
       "True"
      ]
     },
     "execution_count": 38,
     "metadata": {},
     "output_type": "execute_result"
    }
   ],
   "source": [
    "#greater than equal to\n",
    "x>=y"
   ]
  },
  {
   "cell_type": "code",
   "execution_count": 42,
   "id": "02f90c4c",
   "metadata": {},
   "outputs": [
    {
     "data": {
      "text/plain": [
       "False"
      ]
     },
     "execution_count": 42,
     "metadata": {},
     "output_type": "execute_result"
    }
   ],
   "source": [
    "#equal equal to\n",
    "x=10\n",
    "y=6\n",
    "x==y"
   ]
  },
  {
   "cell_type": "code",
   "execution_count": 43,
   "id": "c40033c4",
   "metadata": {},
   "outputs": [
    {
     "data": {
      "text/plain": [
       "True"
      ]
     },
     "execution_count": 43,
     "metadata": {},
     "output_type": "execute_result"
    }
   ],
   "source": [
    "#not equal to\n",
    "x!=y"
   ]
  },
  {
   "cell_type": "markdown",
   "id": "8f1109ff",
   "metadata": {},
   "source": [
    "# Assignment Operator =,+=,*=,%="
   ]
  },
  {
   "cell_type": "code",
   "execution_count": null,
   "id": "0aa074d0",
   "metadata": {},
   "outputs": [],
   "source": []
  },
  {
   "cell_type": "code",
   "execution_count": 49,
   "id": "30619ca8",
   "metadata": {},
   "outputs": [
    {
     "data": {
      "text/plain": [
       "15"
      ]
     },
     "execution_count": 49,
     "metadata": {},
     "output_type": "execute_result"
    }
   ],
   "source": [
    "a=10\n",
    "b=5\n",
    "a+=b\n",
    "#meaning of this operator is a=a+b\n",
    "a"
   ]
  },
  {
   "cell_type": "code",
   "execution_count": 50,
   "id": "1d1c8dfe",
   "metadata": {},
   "outputs": [
    {
     "data": {
      "text/plain": [
       "75"
      ]
     },
     "execution_count": 50,
     "metadata": {},
     "output_type": "execute_result"
    }
   ],
   "source": [
    "a*=b\n",
    "#here value of a is going to be change\n",
    "#meaning of this operator is a=a*b\n",
    "a"
   ]
  },
  {
   "cell_type": "markdown",
   "id": "d890a4e4",
   "metadata": {},
   "source": [
    "# Logical Operator and, or, not"
   ]
  },
  {
   "cell_type": "code",
   "execution_count": 53,
   "id": "21bd218a",
   "metadata": {},
   "outputs": [
    {
     "data": {
      "text/plain": [
       "False"
      ]
     },
     "execution_count": 53,
     "metadata": {},
     "output_type": "execute_result"
    }
   ],
   "source": [
    "#and\n",
    "a=10\n",
    "b=5\n",
    "a>15 and b<9"
   ]
  },
  {
   "cell_type": "code",
   "execution_count": 54,
   "id": "ef746b91",
   "metadata": {},
   "outputs": [
    {
     "data": {
      "text/plain": [
       "True"
      ]
     },
     "execution_count": 54,
     "metadata": {},
     "output_type": "execute_result"
    }
   ],
   "source": [
    "#or\n",
    "a>15 or b<9"
   ]
  },
  {
   "cell_type": "code",
   "execution_count": 56,
   "id": "9cf92cfa",
   "metadata": {},
   "outputs": [
    {
     "data": {
      "text/plain": [
       "True"
      ]
     },
     "execution_count": 56,
     "metadata": {},
     "output_type": "execute_result"
    }
   ],
   "source": [
    "#not\n",
    "not a>15"
   ]
  },
  {
   "cell_type": "markdown",
   "id": "ad7b5884",
   "metadata": {},
   "source": [
    "# Membership Operator- in, not in"
   ]
  },
  {
   "cell_type": "code",
   "execution_count": 58,
   "id": "24513718",
   "metadata": {},
   "outputs": [],
   "source": [
    "x=\"IIT Guvahati\""
   ]
  },
  {
   "cell_type": "code",
   "execution_count": 59,
   "id": "fb672b61",
   "metadata": {},
   "outputs": [
    {
     "data": {
      "text/plain": [
       "True"
      ]
     },
     "execution_count": 59,
     "metadata": {},
     "output_type": "execute_result"
    }
   ],
   "source": [
    "#in\n",
    "\"Guva\" in x"
   ]
  },
  {
   "cell_type": "code",
   "execution_count": 60,
   "id": "92eecc74",
   "metadata": {},
   "outputs": [
    {
     "data": {
      "text/plain": [
       "True"
      ]
     },
     "execution_count": 60,
     "metadata": {},
     "output_type": "execute_result"
    }
   ],
   "source": [
    "#not in\n",
    "\"itt\" not in x"
   ]
  },
  {
   "cell_type": "markdown",
   "id": "13a9a912",
   "metadata": {},
   "source": [
    "# Identity Operator is , is not"
   ]
  },
  {
   "cell_type": "code",
   "execution_count": 62,
   "id": "2d0c5712",
   "metadata": {},
   "outputs": [
    {
     "data": {
      "text/plain": [
       "True"
      ]
     },
     "execution_count": 62,
     "metadata": {},
     "output_type": "execute_result"
    }
   ],
   "source": [
    "#is\n",
    "a=4\n",
    "b=4\n",
    "a is b"
   ]
  },
  {
   "cell_type": "code",
   "execution_count": 63,
   "id": "8f345c17",
   "metadata": {},
   "outputs": [
    {
     "data": {
      "text/plain": [
       "False"
      ]
     },
     "execution_count": 63,
     "metadata": {},
     "output_type": "execute_result"
    }
   ],
   "source": [
    "#is not\n",
    "a is not b"
   ]
  },
  {
   "cell_type": "markdown",
   "id": "8936bd7c",
   "metadata": {},
   "source": [
    "# Order of Operators"
   ]
  },
  {
   "cell_type": "markdown",
   "id": "88d045fd",
   "metadata": {},
   "source": [
    "# # BODMAS rule"
   ]
  },
  {
   "cell_type": "code",
   "execution_count": 67,
   "id": "694e66ba",
   "metadata": {},
   "outputs": [
    {
     "data": {
      "text/plain": [
       "160.0"
      ]
     },
     "execution_count": 67,
     "metadata": {},
     "output_type": "execute_result"
    }
   ],
   "source": [
    "a=30\n",
    "b=10\n",
    "c=20\n",
    "d=5\n",
    "e=(a+b)*c/d\n",
    "#here a+b=40\n",
    "#then c/d=4\n",
    "#reamaing is mul 40*4=160\n",
    "e"
   ]
  },
  {
   "cell_type": "code",
   "execution_count": 68,
   "id": "7ac1e44a",
   "metadata": {},
   "outputs": [
    {
     "data": {
      "text/plain": [
       "'D:\\\\DataScience_IIT-Guwahati\\\\Python'"
      ]
     },
     "execution_count": 68,
     "metadata": {},
     "output_type": "execute_result"
    }
   ],
   "source": [
    "pwd"
   ]
  },
  {
   "cell_type": "markdown",
   "id": "4af3609e",
   "metadata": {},
   "source": [
    "# date time"
   ]
  },
  {
   "cell_type": "code",
   "execution_count": null,
   "id": "24dd8cfe",
   "metadata": {},
   "outputs": [],
   "source": [
    "import datetime as dt"
   ]
  },
  {
   "cell_type": "code",
   "execution_count": 71,
   "id": "edf87f92",
   "metadata": {},
   "outputs": [
    {
     "data": {
      "text/plain": [
       "datetime.datetime(2023, 10, 13, 9, 36, 1, 213835)"
      ]
     },
     "execution_count": 71,
     "metadata": {},
     "output_type": "execute_result"
    }
   ],
   "source": [
    "dt.datetime.now()"
   ]
  },
  {
   "cell_type": "code",
   "execution_count": 74,
   "id": "78145e3c",
   "metadata": {},
   "outputs": [
    {
     "data": {
      "text/plain": [
       "datetime.date(2023, 10, 13)"
      ]
     },
     "execution_count": 74,
     "metadata": {},
     "output_type": "execute_result"
    }
   ],
   "source": [
    "dt.date.today()"
   ]
  },
  {
   "cell_type": "code",
   "execution_count": 82,
   "id": "a767620f",
   "metadata": {},
   "outputs": [
    {
     "data": {
      "text/plain": [
       "'13/10/2023,09:40:21'"
      ]
     },
     "execution_count": 82,
     "metadata": {},
     "output_type": "execute_result"
    }
   ],
   "source": [
    "#Fromate the datetime\n",
    "now=dt.datetime.now()\n",
    "now.strftime(\"%d/%m/%Y,%H:%M:%S\")"
   ]
  },
  {
   "cell_type": "code",
   "execution_count": null,
   "id": "7a1fcd3e",
   "metadata": {},
   "outputs": [],
   "source": []
  }
 ],
 "metadata": {
  "kernelspec": {
   "display_name": "Python 3 (ipykernel)",
   "language": "python",
   "name": "python3"
  },
  "language_info": {
   "codemirror_mode": {
    "name": "ipython",
    "version": 3
   },
   "file_extension": ".py",
   "mimetype": "text/x-python",
   "name": "python",
   "nbconvert_exporter": "python",
   "pygments_lexer": "ipython3",
   "version": "3.11.5"
  }
 },
 "nbformat": 4,
 "nbformat_minor": 5
}
