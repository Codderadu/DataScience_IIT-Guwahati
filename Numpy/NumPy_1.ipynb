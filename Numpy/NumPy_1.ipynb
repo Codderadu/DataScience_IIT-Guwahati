{
 "cells": [
  {
   "cell_type": "markdown",
   "id": "67c6aab6",
   "metadata": {},
   "source": [
    "# Numpy Operations"
   ]
  },
  {
   "cell_type": "markdown",
   "id": "01d337a9",
   "metadata": {},
   "source": [
    "NumPy stands for numeric python which is a python package for the computation and processing of the multidimensional and single dimensional array elements."
   ]
  },
  {
   "cell_type": "markdown",
   "id": "288f26d9",
   "metadata": {},
   "source": [
    "Reshaping a Numpy Array,\n",
    "Indexing & Slicing a NumPy Array,\n",
    "Replacing the elements in Numpy Array,\n",
    "Manipulating NumPy Array,\n",
    "Performing Mathematical & Statistical Functions using NumPy"
   ]
  },
  {
   "cell_type": "code",
   "execution_count": 2,
   "id": "ae8b7fd9",
   "metadata": {},
   "outputs": [],
   "source": [
    "import numpy as np"
   ]
  },
  {
   "cell_type": "code",
   "execution_count": 2,
   "id": "d4ab7b99",
   "metadata": {},
   "outputs": [
    {
     "data": {
      "text/plain": [
       "array([ True,  True,  True,  True])"
      ]
     },
     "execution_count": 2,
     "metadata": {},
     "output_type": "execute_result"
    }
   ],
   "source": [
    "np.array([-2,3,4,5],dtype=bool)"
   ]
  },
  {
   "cell_type": "code",
   "execution_count": 5,
   "id": "0fbb9c98",
   "metadata": {},
   "outputs": [
    {
     "ename": "ZeroDivisionError",
     "evalue": "division by zero",
     "output_type": "error",
     "traceback": [
      "\u001b[1;31m---------------------------------------------------------------------------\u001b[0m",
      "\u001b[1;31mZeroDivisionError\u001b[0m                         Traceback (most recent call last)",
      "Cell \u001b[1;32mIn[5], line 1\u001b[0m\n\u001b[1;32m----> 1\u001b[0m \u001b[38;5;241m5\u001b[39m\u001b[38;5;241m/\u001b[39m\u001b[38;5;241m0\u001b[39m\n",
      "\u001b[1;31mZeroDivisionError\u001b[0m: division by zero"
     ]
    }
   ],
   "source": [
    "5/0"
   ]
  },
  {
   "cell_type": "code",
   "execution_count": 8,
   "id": "40dea925",
   "metadata": {},
   "outputs": [],
   "source": [
    "a=np.array([[1,2,3,4],[6,7,8,9],[7,8,9,10],[21,23,34,54]])"
   ]
  },
  {
   "cell_type": "code",
   "execution_count": 9,
   "id": "28ba7e5e",
   "metadata": {},
   "outputs": [
    {
     "data": {
      "text/plain": [
       "array([[ 3,  4],\n",
       "       [ 8,  9],\n",
       "       [34, 54]])"
      ]
     },
     "execution_count": 9,
     "metadata": {},
     "output_type": "execute_result"
    }
   ],
   "source": [
    "a[[0,1,3],2:]"
   ]
  },
  {
   "cell_type": "code",
   "execution_count": 10,
   "id": "a31cf57a",
   "metadata": {},
   "outputs": [
    {
     "data": {
      "text/plain": [
       "array([ 1,  2,  3,  4,  6,  7,  8,  9,  7,  8,  9, 10, 21, 23, 34, 54])"
      ]
     },
     "execution_count": 10,
     "metadata": {},
     "output_type": "execute_result"
    }
   ],
   "source": [
    "a.flatten()"
   ]
  },
  {
   "cell_type": "code",
   "execution_count": 11,
   "id": "b0c82115",
   "metadata": {},
   "outputs": [
    {
     "data": {
      "text/plain": [
       "array([ 1,  2,  3,  4,  6,  7,  8,  9,  7,  8,  9, 10, 21, 23, 34, 54])"
      ]
     },
     "execution_count": 11,
     "metadata": {},
     "output_type": "execute_result"
    }
   ],
   "source": [
    "a.ravel()"
   ]
  },
  {
   "cell_type": "code",
   "execution_count": 15,
   "id": "306e0b16",
   "metadata": {},
   "outputs": [
    {
     "data": {
      "text/plain": [
       "'abingly'"
      ]
     },
     "execution_count": 15,
     "metadata": {},
     "output_type": "execute_result"
    }
   ],
   "source": [
    "s=\"abing\"\n",
    "if len(s)<3:\n",
    "    s+=\"ing\"\n",
    "elif \"ing\" in s:\n",
    "    s+=\"ly\"\n",
    "s"
   ]
  },
  {
   "cell_type": "code",
   "execution_count": 17,
   "id": "5bed08ca",
   "metadata": {},
   "outputs": [],
   "source": [
    "a=np.array([0,0,0,0,0,0,0,0,0,0,0])"
   ]
  },
  {
   "cell_type": "code",
   "execution_count": 18,
   "id": "e5938ce9",
   "metadata": {},
   "outputs": [],
   "source": [
    "a[6]=11"
   ]
  },
  {
   "cell_type": "code",
   "execution_count": 19,
   "id": "04757158",
   "metadata": {},
   "outputs": [
    {
     "data": {
      "text/plain": [
       "array([ 0,  0,  0,  0,  0,  0, 11,  0,  0,  0,  0])"
      ]
     },
     "execution_count": 19,
     "metadata": {},
     "output_type": "execute_result"
    }
   ],
   "source": [
    "a"
   ]
  },
  {
   "cell_type": "code",
   "execution_count": 23,
   "id": "46fffe10",
   "metadata": {},
   "outputs": [],
   "source": [
    "a=np.zeros((8,8),dtype=int)"
   ]
  },
  {
   "cell_type": "code",
   "execution_count": 29,
   "id": "29f524b0",
   "metadata": {},
   "outputs": [],
   "source": [
    "a[::2,::2]=1"
   ]
  },
  {
   "cell_type": "code",
   "execution_count": 33,
   "id": "22ba9e63",
   "metadata": {},
   "outputs": [],
   "source": [
    "a[1::2,1::2]=1"
   ]
  },
  {
   "cell_type": "code",
   "execution_count": 34,
   "id": "43af04df",
   "metadata": {},
   "outputs": [
    {
     "data": {
      "text/plain": [
       "array([[1, 1, 1, 1, 1, 1, 1, 1],\n",
       "       [0, 1, 0, 1, 0, 1, 0, 1],\n",
       "       [1, 1, 1, 1, 1, 1, 1, 1],\n",
       "       [0, 1, 0, 1, 0, 1, 0, 1],\n",
       "       [1, 1, 1, 1, 1, 1, 1, 1],\n",
       "       [0, 1, 0, 1, 0, 1, 0, 1],\n",
       "       [1, 1, 1, 1, 1, 1, 1, 1],\n",
       "       [0, 1, 0, 1, 0, 1, 0, 1]])"
      ]
     },
     "execution_count": 34,
     "metadata": {},
     "output_type": "execute_result"
    }
   ],
   "source": [
    "a"
   ]
  },
  {
   "cell_type": "code",
   "execution_count": 36,
   "id": "f6bb657c",
   "metadata": {},
   "outputs": [],
   "source": [
    "a=np.ones((3,2))"
   ]
  },
  {
   "cell_type": "code",
   "execution_count": 37,
   "id": "d588a6be",
   "metadata": {},
   "outputs": [
    {
     "data": {
      "text/plain": [
       "array([[2., 2.],\n",
       "       [2., 2.],\n",
       "       [2., 2.]])"
      ]
     },
     "execution_count": 37,
     "metadata": {},
     "output_type": "execute_result"
    }
   ],
   "source": [
    "a*2"
   ]
  },
  {
   "cell_type": "code",
   "execution_count": 39,
   "id": "28318e66",
   "metadata": {},
   "outputs": [],
   "source": [
    "a=np.array([[1,2,3,4,5],[1,2,3,4,5]])"
   ]
  },
  {
   "cell_type": "code",
   "execution_count": 40,
   "id": "0f22559d",
   "metadata": {},
   "outputs": [],
   "source": [
    "a[a%2==1]=-1"
   ]
  },
  {
   "cell_type": "code",
   "execution_count": 41,
   "id": "88d47c45",
   "metadata": {},
   "outputs": [
    {
     "data": {
      "text/plain": [
       "array([[-1,  2, -1,  4, -1],\n",
       "       [-1,  2, -1,  4, -1]])"
      ]
     },
     "execution_count": 41,
     "metadata": {},
     "output_type": "execute_result"
    }
   ],
   "source": [
    "a"
   ]
  },
  {
   "cell_type": "code",
   "execution_count": 43,
   "id": "28dc13d6",
   "metadata": {},
   "outputs": [],
   "source": [
    "r=np.random.randint(-50,50,10)"
   ]
  },
  {
   "cell_type": "code",
   "execution_count": 44,
   "id": "976a4735",
   "metadata": {},
   "outputs": [],
   "source": [
    "r[r<0]=-1"
   ]
  },
  {
   "cell_type": "code",
   "execution_count": 45,
   "id": "9db081a7",
   "metadata": {},
   "outputs": [
    {
     "data": {
      "text/plain": [
       "array([15, -1, -1, 33, -1,  5, -1, -1, 42, 11])"
      ]
     },
     "execution_count": 45,
     "metadata": {},
     "output_type": "execute_result"
    }
   ],
   "source": [
    "r"
   ]
  },
  {
   "cell_type": "code",
   "execution_count": 8,
   "id": "3a8d99d2",
   "metadata": {},
   "outputs": [],
   "source": [
    "a=np.arange(1,50)"
   ]
  },
  {
   "cell_type": "code",
   "execution_count": 9,
   "id": "d6413f13",
   "metadata": {},
   "outputs": [
    {
     "data": {
      "text/plain": [
       "array([ 1,  2,  3,  4,  5,  6,  7,  8,  9, 10, 11, 12, 13, 14, 15, 16, 17,\n",
       "       18, 19, 20, 21, 22, 23, 24, 25, 26, 27, 28, 29, 30, 31, 32, 33, 34,\n",
       "       35, 36, 37, 38, 39, 40, 41, 42, 43, 44, 45, 46, 47, 48, 49])"
      ]
     },
     "execution_count": 9,
     "metadata": {},
     "output_type": "execute_result"
    }
   ],
   "source": [
    "a"
   ]
  },
  {
   "cell_type": "code",
   "execution_count": null,
   "id": "6d01f5bb",
   "metadata": {},
   "outputs": [],
   "source": []
  },
  {
   "cell_type": "code",
   "execution_count": 12,
   "id": "655e1d74",
   "metadata": {},
   "outputs": [
    {
     "name": "stdout",
     "output_type": "stream",
     "text": [
      "Fizz 3\n",
      "Buzz 5\n",
      "Fizz 6\n",
      "Fizz 9\n",
      "Buzz 10\n",
      "Fizz 12\n",
      "FrizzBuzz 15\n",
      "Fizz 18\n",
      "Buzz 20\n",
      "Fizz 21\n",
      "Fizz 24\n",
      "Buzz 25\n",
      "Fizz 27\n",
      "FrizzBuzz 30\n",
      "Fizz 33\n",
      "Buzz 35\n",
      "Fizz 36\n",
      "Fizz 39\n",
      "Buzz 40\n",
      "Fizz 42\n",
      "FrizzBuzz 45\n",
      "Fizz 48\n"
     ]
    }
   ],
   "source": [
    "for i in a:\n",
    "    if i%3==0 and i%5==0:\n",
    "        print('FrizzBuzz',i)\n",
    "    elif i%5==0:\n",
    "        print(\"Buzz\",i)\n",
    "    elif i%3==0:\n",
    "        print(\"Fizz\",i)"
   ]
  },
  {
   "cell_type": "code",
   "execution_count": 15,
   "id": "27bfb476",
   "metadata": {},
   "outputs": [],
   "source": [
    "a=np.arange(1,10)"
   ]
  },
  {
   "cell_type": "code",
   "execution_count": 16,
   "id": "097e032e",
   "metadata": {},
   "outputs": [
    {
     "data": {
      "text/plain": [
       "array([ 1,  3,  6, 10, 15, 21, 28, 36, 45])"
      ]
     },
     "execution_count": 16,
     "metadata": {},
     "output_type": "execute_result"
    }
   ],
   "source": [
    "a.cumsum()"
   ]
  },
  {
   "cell_type": "code",
   "execution_count": null,
   "id": "035546cb",
   "metadata": {},
   "outputs": [],
   "source": []
  }
 ],
 "metadata": {
  "kernelspec": {
   "display_name": "Python 3 (ipykernel)",
   "language": "python",
   "name": "python3"
  },
  "language_info": {
   "codemirror_mode": {
    "name": "ipython",
    "version": 3
   },
   "file_extension": ".py",
   "mimetype": "text/x-python",
   "name": "python",
   "nbconvert_exporter": "python",
   "pygments_lexer": "ipython3",
   "version": "3.11.5"
  }
 },
 "nbformat": 4,
 "nbformat_minor": 5
}
